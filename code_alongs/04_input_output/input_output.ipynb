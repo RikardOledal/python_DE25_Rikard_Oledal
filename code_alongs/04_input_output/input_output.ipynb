{
 "cells": [
  {
   "cell_type": "markdown",
   "id": "7e621b4a",
   "metadata": {},
   "source": [
    "# Lecture 4 - input, output & variables"
   ]
  },
  {
   "cell_type": "markdown",
   "id": "06301c89",
   "metadata": {},
   "source": [
    "## Print statement"
   ]
  },
  {
   "cell_type": "markdown",
   "id": "a5d8f7d4",
   "metadata": {},
   "source": []
  },
  {
   "cell_type": "markdown",
   "id": "41e5a1e8",
   "metadata": {},
   "source": [
    "#### To print out a string"
   ]
  },
  {
   "cell_type": "code",
   "execution_count": 1,
   "id": "ce8f14bc",
   "metadata": {},
   "outputs": [
    {
     "name": "stdout",
     "output_type": "stream",
     "text": [
      "Hello\n"
     ]
    }
   ],
   "source": [
    "# use the print statement to print string\n",
    "print(\"Hello\")"
   ]
  },
  {
   "cell_type": "markdown",
   "id": "ae3a1cd6",
   "metadata": {},
   "source": [
    "#### To print out string and variable"
   ]
  },
  {
   "cell_type": "code",
   "execution_count": 2,
   "id": "2af8a57b",
   "metadata": {},
   "outputs": [
    {
     "name": "stdout",
     "output_type": "stream",
     "text": [
      "Hello Rikard\n"
     ]
    }
   ],
   "source": [
    "# create a name variable\n",
    "name = \"Rikard\"\n",
    "\n",
    "# print out hello to this person specified in the variable name\n",
    "# when printing string and variables togeather, we need to use f-string\n",
    "# f-string is used to combine string and variables together\n",
    "print(f\"Hello {name}\")"
   ]
  },
  {
   "cell_type": "markdown",
   "id": "0c539fb1",
   "metadata": {},
   "source": [
    "## Variables\n",
    "- you can storedifferent types of data in the variable --> assigning value to variable\n",
    "- we can use the data by referring to the variable instead\n",
    "- in lecture 4, we can see variables storing one valeu, ever though the value can be different types\n",
    "- in lecture 6 we will see that we can store a collection of valeus"
   ]
  },
  {
   "cell_type": "markdown",
   "id": "8bd0fea1",
   "metadata": {},
   "source": [
    "##### create varialbes with different data types"
   ]
  },
  {
   "cell_type": "code",
   "execution_count": 8,
   "id": "9a21aaf3",
   "metadata": {},
   "outputs": [],
   "source": [
    "#string\n",
    "first_name = \"Kokchun\"\n",
    "\n",
    "#numeric\n",
    "height = 200\n",
    "\n",
    "#float, number with decimal places\n",
    "exact_height = 200.1688999"
   ]
  },
  {
   "cell_type": "markdown",
   "id": "8678e5c3",
   "metadata": {},
   "source": [
    "##### print out a message using all these variables"
   ]
  },
  {
   "cell_type": "code",
   "execution_count": 9,
   "id": "cd9564c5",
   "metadata": {},
   "outputs": [
    {
     "name": "stdout",
     "output_type": "stream",
     "text": [
      "The teachers name is Kokchun.His height is 200cm, or more specifically 200.1688999cm.\n"
     ]
    }
   ],
   "source": [
    "print(f\"The teachers name is {first_name}.His height is {height}cm, or more specifically {exact_height}cm.\")"
   ]
  },
  {
   "cell_type": "code",
   "execution_count": 10,
   "id": "f052eb36",
   "metadata": {},
   "outputs": [
    {
     "data": {
      "text/plain": [
       "200.1688999"
      ]
     },
     "execution_count": 10,
     "metadata": {},
     "output_type": "execute_result"
    }
   ],
   "source": [
    "exact_height"
   ]
  },
  {
   "cell_type": "markdown",
   "id": "88726c99",
   "metadata": {},
   "source": [
    "##### format in f-string\n",
    "- it does not create another variable\n",
    "- it justaffects how the current variable is displayed in f-string"
   ]
  },
  {
   "cell_type": "code",
   "execution_count": 13,
   "id": "32bb4a39",
   "metadata": {},
   "outputs": [
    {
     "name": "stdout",
     "output_type": "stream",
     "text": [
      "The exact height is 200.17cm.\n",
      "The real value are 200.1688999cm.\n"
     ]
    }
   ],
   "source": [
    "# use : to separate the variable and the choice of format\n",
    "# .1f means after the integer, keep one decial place (f refers to fixed point number = float number)\n",
    "print(f\"The exact height is {exact_height:.2f}cm.\")\n",
    "print(f\"The real value are {exact_height}cm.\")"
   ]
  },
  {
   "cell_type": "markdown",
   "id": "095a5a48",
   "metadata": {},
   "source": [
    "##### one additinal data type, boolean (bool)"
   ]
  },
  {
   "cell_type": "code",
   "execution_count": 28,
   "id": "1d84692d",
   "metadata": {},
   "outputs": [
    {
     "data": {
      "text/plain": [
       "bool"
      ]
     },
     "execution_count": 28,
     "metadata": {},
     "output_type": "execute_result"
    }
   ],
   "source": [
    "#str\n",
    "name = \"Kokchun\"\n",
    "\n",
    "#int\n",
    "height = 200\n",
    "\n",
    "#float\n",
    "exact_height = 200.1\n",
    "\n",
    "#bool\n",
    "is_teacher = True\n",
    "\n",
    "type(is_teacher)"
   ]
  },
  {
   "cell_type": "markdown",
   "id": "3c1b7a16",
   "metadata": {},
   "source": [
    "## Input from users\n",
    "- how to code so what the value of the variable i decided after i run the code?"
   ]
  },
  {
   "cell_type": "markdown",
   "id": "f3ceadf8",
   "metadata": {},
   "source": [
    "#### example 1 - name variable"
   ]
  },
  {
   "cell_type": "code",
   "execution_count": null,
   "id": "c0a7b4be",
   "metadata": {},
   "outputs": [],
   "source": [
    "# create a name variable asking for user input\n",
    "# optionally, you can add an argument to input()\n",
    "name = input(\"What is your name?\")"
   ]
  },
  {
   "cell_type": "code",
   "execution_count": 15,
   "id": "94c0a46e",
   "metadata": {},
   "outputs": [
    {
     "name": "stdout",
     "output_type": "stream",
     "text": [
      "Hello Rikard\n"
     ]
    }
   ],
   "source": [
    "# print out a f-string\n",
    "print(f\"Hello {name}\")"
   ]
  },
  {
   "cell_type": "code",
   "execution_count": 16,
   "id": "1f1f9380",
   "metadata": {},
   "outputs": [
    {
     "data": {
      "text/plain": [
       "str"
      ]
     },
     "execution_count": 16,
     "metadata": {},
     "output_type": "execute_result"
    }
   ],
   "source": [
    "# check the type of the variable\n",
    "type(name)"
   ]
  },
  {
   "cell_type": "markdown",
   "id": "efd12b0b",
   "metadata": {},
   "source": [
    "#### example 2 - age varable\n",
    "- compare this with example 1, you can see that input() function always retur string"
   ]
  },
  {
   "cell_type": "code",
   "execution_count": 21,
   "id": "44899bb3",
   "metadata": {},
   "outputs": [],
   "source": [
    "age = input(f\"Hello {name} what is your age?\")"
   ]
  },
  {
   "cell_type": "code",
   "execution_count": 19,
   "id": "04cdc180",
   "metadata": {},
   "outputs": [
    {
     "data": {
      "text/plain": [
       "str"
      ]
     },
     "execution_count": 19,
     "metadata": {},
     "output_type": "execute_result"
    }
   ],
   "source": [
    "type(age)"
   ]
  },
  {
   "cell_type": "markdown",
   "id": "5c59266c",
   "metadata": {},
   "source": [
    "## Type coercions\n",
    "- convertin data types from one to another\n",
    "- applies on variable in general, not just for using input() function   "
   ]
  },
  {
   "cell_type": "code",
   "execution_count": 22,
   "id": "64af0ab5",
   "metadata": {},
   "outputs": [
    {
     "name": "stdout",
     "output_type": "stream",
     "text": [
      "<class 'str'>\n",
      "43\n"
     ]
    }
   ],
   "source": [
    "# double check the data type for the existing age variable\n",
    "print(type(age))\n",
    "print(age)"
   ]
  },
  {
   "cell_type": "code",
   "execution_count": 23,
   "id": "445beb73",
   "metadata": {},
   "outputs": [
    {
     "data": {
      "text/plain": [
       "int"
      ]
     },
     "execution_count": 23,
     "metadata": {},
     "output_type": "execute_result"
    }
   ],
   "source": [
    "# convert to int and create a new variable for this\n",
    "age_int = int(age)\n",
    "\n",
    "# check the resulting data type for age_int, the variable after the type coercion\n",
    "type(age_int)"
   ]
  },
  {
   "cell_type": "code",
   "execution_count": 24,
   "id": "ec944b77",
   "metadata": {},
   "outputs": [
    {
     "data": {
      "text/plain": [
       "int"
      ]
     },
     "execution_count": 24,
     "metadata": {},
     "output_type": "execute_result"
    }
   ],
   "source": [
    "# convert to int and overwrite the existing variable\n",
    "age =int(age)\n",
    "\n",
    "type(age)\n"
   ]
  },
  {
   "cell_type": "code",
   "execution_count": null,
   "id": "7fef43dc",
   "metadata": {},
   "outputs": [],
   "source": []
  }
 ],
 "metadata": {
  "kernelspec": {
   "display_name": "python_DE25_Rikard_Oledal",
   "language": "python",
   "name": "python3"
  },
  "language_info": {
   "codemirror_mode": {
    "name": "ipython",
    "version": 3
   },
   "file_extension": ".py",
   "mimetype": "text/x-python",
   "name": "python",
   "nbconvert_exporter": "python",
   "pygments_lexer": "ipython3",
   "version": "3.12.10"
  }
 },
 "nbformat": 4,
 "nbformat_minor": 5
}
