{
 "cells": [
  {
   "cell_type": "markdown",
   "id": "7df4bd50",
   "metadata": {},
   "source": [
    "# Dictionary\n",
    "- also a collection data type (as ex list and tuples)\n",
    "- the data are stored in  key-value pairs"
   ]
  },
  {
   "cell_type": "markdown",
   "id": "86781fe2",
   "metadata": {},
   "source": [
    "create a dict with dict()"
   ]
  },
  {
   "cell_type": "code",
   "execution_count": null,
   "id": "6959a656",
   "metadata": {},
   "outputs": [
    {
     "name": "stdout",
     "output_type": "stream",
     "text": [
      "Rikard\n",
      "Student\n"
     ]
    }
   ],
   "source": [
    "person = dict(\n",
    "    name = \"Rikard\",\n",
    "    age = 43,\n",
    "    work = \"Student\",\n",
    "    Beerdrinker = True,\n",
    ")\n",
    "\n",
    "print(person[\"name\"])\n",
    "print(person[\"work\"])\n"
   ]
  },
  {
   "cell_type": "markdown",
   "id": "e7b76962",
   "metadata": {},
   "source": [
    "create a dict with {}"
   ]
  },
  {
   "cell_type": "code",
   "execution_count": null,
   "id": "1dfdffb0",
   "metadata": {},
   "outputs": [
    {
     "name": "stdout",
     "output_type": "stream",
     "text": [
      "Rikard\n",
      "Student\n",
      "Choir\n",
      "Sweden\n"
     ]
    }
   ],
   "source": [
    "person = {\n",
    "    \"name\" : \"Rikard\",\n",
    "    \"age\" : 43,\n",
    "    \"work\" : \"Student\",\n",
    "    \"beerdrinker\" : True,\n",
    "    \"intrest\" : [\"Choir\", \"Brewing\", \"Excel\"],\n",
    "    \"address\" : {\"country\":\"Sweden\", \"city\":\"Stockholm\"}\n",
    "}\n",
    "\n",
    "print(person[\"name\"])\n",
    "print(person[\"work\"])\n",
    "print(person[\"intrest\"][0])\n",
    "print(person[\"address\"][\"country\"])"
   ]
  },
  {
   "cell_type": "code",
   "execution_count": null,
   "id": "02ef55b8",
   "metadata": {},
   "outputs": [],
   "source": []
  }
 ],
 "metadata": {
  "kernelspec": {
   "display_name": "python_DE25_Rikard_Oledal",
   "language": "python",
   "name": "python3"
  },
  "language_info": {
   "codemirror_mode": {
    "name": "ipython",
    "version": 3
   },
   "file_extension": ".py",
   "mimetype": "text/x-python",
   "name": "python",
   "nbconvert_exporter": "python",
   "pygments_lexer": "ipython3",
   "version": "3.12.10"
  }
 },
 "nbformat": 4,
 "nbformat_minor": 5
}
