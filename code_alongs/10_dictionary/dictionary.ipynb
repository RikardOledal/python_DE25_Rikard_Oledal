{
 "cells": [
  {
   "cell_type": "markdown",
   "id": "7df4bd50",
   "metadata": {},
   "source": [
    "# Dictionary\n",
    "- also a collection data type (as ex list and tuples)\n",
    "- the data are stored in  key-value pairs"
   ]
  },
  {
   "cell_type": "markdown",
   "id": "86781fe2",
   "metadata": {},
   "source": [
    "create a dict with dict()"
   ]
  },
  {
   "cell_type": "code",
   "execution_count": null,
   "id": "6959a656",
   "metadata": {},
   "outputs": [
    {
     "name": "stdout",
     "output_type": "stream",
     "text": [
      "Rikard\n",
      "Student\n"
     ]
    }
   ],
   "source": [
    "person = dict(\n",
    "    name = \"Rikard\",\n",
    "    age = 43,\n",
    "    work = \"Student\",\n",
    "    Beerdrinker = True,\n",
    ")\n",
    "\n",
    "print(person[\"name\"])\n",
    "print(person[\"work\"])\n"
   ]
  },
  {
   "cell_type": "markdown",
   "id": "e7b76962",
   "metadata": {},
   "source": [
    "create a dict with {}"
   ]
  },
  {
   "cell_type": "code",
   "execution_count": 3,
   "id": "1dfdffb0",
   "metadata": {},
   "outputs": [
    {
     "name": "stdout",
     "output_type": "stream",
     "text": [
      "Rikard\n",
      "Student\n",
      "Choir\n",
      "Sweden\n"
     ]
    }
   ],
   "source": [
    "person = {\n",
    "    \"name\" : \"Rikard\",\n",
    "    \"age\" : 43,\n",
    "    \"work\" : \"Student\",\n",
    "    \"beerdrinker\" : True,\n",
    "    \"intrest\" : [\"Choir\", \"Brewing\", \"Excel\"],\n",
    "    \"address\" : {\"country\":\"Sweden\", \"city\":\"Stockholm\"}\n",
    "}\n",
    "\n",
    "print(person[\"name\"])\n",
    "print(person[\"work\"])\n",
    "print(person[\"intrest\"][0])\n",
    "print(person[\"address\"][\"country\"])"
   ]
  },
  {
   "cell_type": "markdown",
   "id": "7fa7cfd0",
   "metadata": {},
   "source": [
    "itarate over dict"
   ]
  },
  {
   "cell_type": "code",
   "execution_count": 10,
   "id": "02ef55b8",
   "metadata": {},
   "outputs": [
    {
     "name": "stdout",
     "output_type": "stream",
     "text": [
      "Key: data structure\n",
      "Value: a means of storing data\n",
      "----------\n",
      "Key: regression\n",
      "Value: a function to best fit the data\n",
      "----------\n",
      "Key: method\n",
      "Value: a function bound to an object\n",
      "----------\n"
     ]
    },
    {
     "data": {
      "text/plain": [
       "dict_items([('data structure', 'a means of storing data'), ('regression', 'a function to best fit the data'), ('method', 'a function bound to an object')])"
      ]
     },
     "execution_count": 10,
     "metadata": {},
     "output_type": "execute_result"
    }
   ],
   "source": [
    "words = {\n",
    "    \"data structure\":\"a means of storing data\",\n",
    "    \"regression\":\"a function to best fit the data\",\n",
    "    \"method\":\"a function bound to an object\"\n",
    "}\n",
    "\n",
    "for key, value in words.items():\n",
    "    print(f\"Key: {key}\")\n",
    "    print(f\"Value: {value}\")\n",
    "    print(\"----------\")\n",
    "\n",
    "words.items()"
   ]
  },
  {
   "cell_type": "markdown",
   "id": "9d210d24",
   "metadata": {},
   "source": [
    "itarate over keys"
   ]
  },
  {
   "cell_type": "code",
   "execution_count": 11,
   "id": "c73c9c97",
   "metadata": {},
   "outputs": [
    {
     "name": "stdout",
     "output_type": "stream",
     "text": [
      "Key: data structure\n",
      "----------\n",
      "Key: regression\n",
      "----------\n",
      "Key: method\n",
      "----------\n"
     ]
    }
   ],
   "source": [
    "for key in words.keys():\n",
    "    print(f\"Key: {key}\")\n",
    "    print(\"----------\")"
   ]
  },
  {
   "cell_type": "code",
   "execution_count": 12,
   "id": "2046b215",
   "metadata": {},
   "outputs": [
    {
     "name": "stdout",
     "output_type": "stream",
     "text": [
      "Value: a means of storing data\n",
      "----------\n",
      "Value: a function to best fit the data\n",
      "----------\n",
      "Value: a function bound to an object\n",
      "----------\n"
     ]
    }
   ],
   "source": [
    "for value in words.values():\n",
    "    print(f\"Value: {value}\")\n",
    "    print(\"----------\")"
   ]
  },
  {
   "cell_type": "markdown",
   "id": "364c7b79",
   "metadata": {},
   "source": [
    "dict comprehension"
   ]
  },
  {
   "cell_type": "code",
   "execution_count": 13,
   "id": "9f75f84c",
   "metadata": {},
   "outputs": [
    {
     "data": {
      "text/plain": [
       "{'F': 0, 'E': 10, 'D': 20, 'C': 30, 'B': 40, 'A': 50}"
      ]
     },
     "execution_count": 13,
     "metadata": {},
     "output_type": "execute_result"
    }
   ],
   "source": [
    "grade_limit = {grade: i*10 for i, grade in enumerate(\"FEDCBA\")}\n",
    "grade_limit"
   ]
  },
  {
   "cell_type": "code",
   "execution_count": null,
   "id": "699894dd",
   "metadata": {},
   "outputs": [],
   "source": []
  }
 ],
 "metadata": {
  "kernelspec": {
   "display_name": "python_DE25_Rikard_Oledal",
   "language": "python",
   "name": "python3"
  },
  "language_info": {
   "codemirror_mode": {
    "name": "ipython",
    "version": 3
   },
   "file_extension": ".py",
   "mimetype": "text/x-python",
   "name": "python",
   "nbconvert_exporter": "python",
   "pygments_lexer": "ipython3",
   "version": "3.12.10"
  }
 },
 "nbformat": 4,
 "nbformat_minor": 5
}
