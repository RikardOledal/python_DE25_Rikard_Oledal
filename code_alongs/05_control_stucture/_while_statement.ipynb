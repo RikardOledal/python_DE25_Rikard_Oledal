{
 "cells": [
  {
   "cell_type": "markdown",
   "id": "77500eb7",
   "metadata": {},
   "source": [
    "# Lecture 5b - While Loop\n",
    "- Loop throught a block of code\n",
    "- The numbers of looping are not known"
   ]
  },
  {
   "cell_type": "code",
   "execution_count": null,
   "id": "06e0be46",
   "metadata": {},
   "outputs": [
    {
     "name": "stdout",
     "output_type": "stream",
     "text": [
      "0\n",
      "1\n",
      "2\n",
      "3\n",
      "4\n"
     ]
    }
   ],
   "source": [
    "i = 0\n",
    "\n",
    "while i < 5: # repete until the condition is False\n",
    "    print(i)\n",
    "    i += 1"
   ]
  },
  {
   "cell_type": "code",
   "execution_count": 9,
   "id": "887a9b66",
   "metadata": {},
   "outputs": [
    {
     "name": "stdout",
     "output_type": "stream",
     "text": [
      "1\n",
      "4\n",
      "7\n"
     ]
    }
   ],
   "source": [
    "i = 1\n",
    "\n",
    "while i % 5: # repete until the condition is False\n",
    "    print(i)\n",
    "    i += 3"
   ]
  },
  {
   "cell_type": "markdown",
   "id": "c487a05d",
   "metadata": {},
   "source": [
    "## Example - Oil leakage\n",
    "There is an oil leakage causing the bird population in an island to 1/2 in each year. From start there were 80 000 birds, how many years does it take \n",
    "for if to have 1/10 remaning?"
   ]
  },
  {
   "cell_type": "code",
   "execution_count": 1,
   "id": "a334513f",
   "metadata": {},
   "outputs": [
    {
     "name": "stdout",
     "output_type": "stream",
     "text": [
      "Year 0 there were 80000 birds\n",
      "Year 1 there were 40000 birds\n",
      "Year 2 there were 20000 birds\n",
      "Year 3 there were 10000 birds\n",
      "It takes 4 years for the birds to have less than 1/10th of the population\n"
     ]
    }
   ],
   "source": [
    "birds = 80_000\n",
    "year = 0\n",
    "\n",
    "while birds > 8000:\n",
    "    print(f\"Year {year} there were {birds:.0f} birds\")\n",
    "    birds /= 2\n",
    "    year += 1\n",
    "\n",
    "print(f\"It takes {year} years for the birds to have less than 1/10th of the population\")"
   ]
  },
  {
   "cell_type": "code",
   "execution_count": null,
   "id": "67a7c1d3",
   "metadata": {},
   "outputs": [],
   "source": []
  }
 ],
 "metadata": {
  "kernelspec": {
   "display_name": "python_DE25_Rikard_Oledal",
   "language": "python",
   "name": "python3"
  },
  "language_info": {
   "codemirror_mode": {
    "name": "ipython",
    "version": 3
   },
   "file_extension": ".py",
   "mimetype": "text/x-python",
   "name": "python",
   "nbconvert_exporter": "python",
   "pygments_lexer": "ipython3",
   "version": "3.12.10"
  }
 },
 "nbformat": 4,
 "nbformat_minor": 5
}
