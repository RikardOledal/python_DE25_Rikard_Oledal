{
 "cells": [
  {
   "cell_type": "markdown",
   "id": "6f3a9d8f",
   "metadata": {},
   "source": [
    "# Lecture 5a - if statement\n",
    "- one way of control the flow of running the scripts\n",
    "- use if statement for controlling the flow based on conditions"
   ]
  },
  {
   "cell_type": "markdown",
   "id": "723cc54d",
   "metadata": {},
   "source": [
    "##### Example of two possible scenarios\n",
    "- based on the users inpus of age, print out a message showing that if the user should wath a scary movie"
   ]
  },
  {
   "cell_type": "code",
   "execution_count": 7,
   "id": "1d1d7149",
   "metadata": {},
   "outputs": [],
   "source": [
    "age = int(input(\"Enter your age: \"))"
   ]
  },
  {
   "cell_type": "code",
   "execution_count": 4,
   "id": "1c269750",
   "metadata": {},
   "outputs": [
    {
     "data": {
      "text/plain": [
       "int"
      ]
     },
     "execution_count": 4,
     "metadata": {},
     "output_type": "execute_result"
    }
   ],
   "source": [
    "type(age)"
   ]
  },
  {
   "cell_type": "code",
   "execution_count": 5,
   "id": "c181dbc7",
   "metadata": {},
   "outputs": [],
   "source": [
    "age_limit = 15"
   ]
  },
  {
   "cell_type": "code",
   "execution_count": 8,
   "id": "ec1446dd",
   "metadata": {},
   "outputs": [
    {
     "name": "stdout",
     "output_type": "stream",
     "text": [
      "Enjoy this scary movie\n"
     ]
    }
   ],
   "source": [
    "# we compare the two variables, age and age_limit, to set up our condition for the if statement\n",
    "if age < age_limit: #between if and :, specify your condition\n",
    "    print(\"Sorry, you are to young to watch this scary movie\")\n",
    "    print(\"Watch this cartoon instead\")\n",
    "else:\n",
    "    print(\"Enjoy this scary movie\")"
   ]
  },
  {
   "cell_type": "markdown",
   "id": "4fcb3db0",
   "metadata": {},
   "source": [
    "#### Example of more than two possible scenarios\n",
    "- use if - elif -else\n"
   ]
  },
  {
   "cell_type": "code",
   "execution_count": 9,
   "id": "eef889ed",
   "metadata": {},
   "outputs": [
    {
     "data": {
      "text/plain": [
       "float"
      ]
     },
     "execution_count": 9,
     "metadata": {},
     "output_type": "execute_result"
    }
   ],
   "source": [
    "weight = float(input(\"What is your weight in kg: \"))\n",
    "\n",
    "type(weight)"
   ]
  },
  {
   "cell_type": "code",
   "execution_count": null,
   "id": "4f7dd95e",
   "metadata": {},
   "outputs": [
    {
     "name": "stdout",
     "output_type": "stream",
     "text": [
      "The patient should take 1000mg per day\n"
     ]
    }
   ],
   "source": [
    "if weight < 20:\n",
    "    print(\"The patient should take 500mg per day\")\n",
    "elif weight < 40:\n",
    "    print(\"The patient should take 750mg per day\")\n",
    "else:\n",
    "    print(\"The patient should take 1000mg per day\")"
   ]
  },
  {
   "cell_type": "markdown",
   "id": "4ae87b4e",
   "metadata": {},
   "source": [
    "#### Modulo Oparator (%)\n",
    "- Retur the reminder of a division"
   ]
  },
  {
   "cell_type": "code",
   "execution_count": 1,
   "id": "7cfb65a8",
   "metadata": {},
   "outputs": [
    {
     "data": {
      "text/plain": [
       "2"
      ]
     },
     "execution_count": 1,
     "metadata": {},
     "output_type": "execute_result"
    }
   ],
   "source": [
    "5 % 3"
   ]
  },
  {
   "cell_type": "code",
   "execution_count": 2,
   "id": "5c2ca8bb",
   "metadata": {},
   "outputs": [
    {
     "data": {
      "text/plain": [
       "0"
      ]
     },
     "execution_count": 2,
     "metadata": {},
     "output_type": "execute_result"
    }
   ],
   "source": [
    "9 % 3"
   ]
  },
  {
   "cell_type": "code",
   "execution_count": 4,
   "id": "951bd725",
   "metadata": {},
   "outputs": [
    {
     "name": "stdout",
     "output_type": "stream",
     "text": [
      "5 is an odd number\n"
     ]
    }
   ],
   "source": [
    "# print out whether the value assigned to the varable number is odd or even\n",
    "number = 5\n",
    "if number % 2 == 0: # == is the euality operator\n",
    "    print(f\"{number} is an even number\")\n",
    "else:\n",
    "    print(f\"{number} is an odd number\")"
   ]
  },
  {
   "cell_type": "markdown",
   "id": "dc648382",
   "metadata": {},
   "source": [
    "#### Nested if statment\n",
    "- When we have another if-statment inside the if-statment\n",
    "- You need to think if nested if statement produces clean code"
   ]
  },
  {
   "cell_type": "code",
   "execution_count": 6,
   "id": "80cdf4a9",
   "metadata": {},
   "outputs": [
    {
     "name": "stdout",
     "output_type": "stream",
     "text": [
      "135 is divisible by 5, check if it is divisible by 2\n",
      "135 is an odd number\n"
     ]
    }
   ],
   "source": [
    "# If a number is diviseble by 5, further check if it also divisible by 2 (even number)\n",
    "number = int(input(\"What number do you wanna check?\"))\n",
    "if number % 5 == 0:\n",
    "    print(f\"{number} is divisible by 5, check if it is divisible by 2\")\n",
    "    if number % 2 == 0:\n",
    "        print(f\"{number} is an even number\")\n",
    "    else:\n",
    "        print(f\"{number} is an odd number\") \n",
    "else:\n",
    "    print(f\"{number} is not divisible by 5. No need to check more.\")\n"
   ]
  },
  {
   "cell_type": "markdown",
   "id": "196f288d",
   "metadata": {},
   "source": [
    "#### One line if statments\n",
    "- You write one line if statement, usually when refractoring your original if statements with multiple lines code.\n",
    "- You need to think about if an one line statement can make your codes better, is it cleaner and more readable?"
   ]
  },
  {
   "cell_type": "markdown",
   "id": "d909cb1d",
   "metadata": {},
   "source": []
  },
  {
   "cell_type": "code",
   "execution_count": 23,
   "id": "fcae4de5",
   "metadata": {},
   "outputs": [],
   "source": [
    "name = \"Rikard\"\n",
    "gender = \"female\"\n",
    "age = 7\n",
    "\n",
    "# one line if\n",
    "if \"o\" in name.lower(): print(f\"{name} contains the letter O\")\n"
   ]
  },
  {
   "cell_type": "code",
   "execution_count": 24,
   "id": "b33cf39c",
   "metadata": {},
   "outputs": [
    {
     "name": "stdout",
     "output_type": "stream",
     "text": [
      "Rikard does not contains the letter O\n"
     ]
    }
   ],
   "source": [
    "print(f\"{name} contains the letter O\") if \"o\" in name.lower() else print(f\"{name} does not contains the letter O\")"
   ]
  },
  {
   "cell_type": "code",
   "execution_count": null,
   "id": "8adcac42",
   "metadata": {},
   "outputs": [],
   "source": []
  }
 ],
 "metadata": {
  "kernelspec": {
   "display_name": "python_DE25_Rikard_Oledal",
   "language": "python",
   "name": "python3"
  },
  "language_info": {
   "codemirror_mode": {
    "name": "ipython",
    "version": 3
   },
   "file_extension": ".py",
   "mimetype": "text/x-python",
   "name": "python",
   "nbconvert_exporter": "python",
   "pygments_lexer": "ipython3",
   "version": "3.12.10"
  }
 },
 "nbformat": 4,
 "nbformat_minor": 5
}
