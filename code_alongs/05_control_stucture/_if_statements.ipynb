{
 "cells": [
  {
   "cell_type": "markdown",
   "id": "6f3a9d8f",
   "metadata": {},
   "source": [
    "# Lecture 5a - if statement\n",
    "- one way of control the flow of running the scripts\n",
    "- use if statement for controlling the flow based on conditions"
   ]
  },
  {
   "cell_type": "markdown",
   "id": "723cc54d",
   "metadata": {},
   "source": [
    "##### Example of two possible scenarios\n",
    "- based on the users inpus of age, print out a message showing that if the user should wath a scary movie"
   ]
  },
  {
   "cell_type": "code",
   "execution_count": 7,
   "id": "1d1d7149",
   "metadata": {},
   "outputs": [],
   "source": [
    "age = int(input(\"Enter your age: \"))"
   ]
  },
  {
   "cell_type": "code",
   "execution_count": 4,
   "id": "1c269750",
   "metadata": {},
   "outputs": [
    {
     "data": {
      "text/plain": [
       "int"
      ]
     },
     "execution_count": 4,
     "metadata": {},
     "output_type": "execute_result"
    }
   ],
   "source": [
    "type(age)"
   ]
  },
  {
   "cell_type": "code",
   "execution_count": 5,
   "id": "c181dbc7",
   "metadata": {},
   "outputs": [],
   "source": [
    "age_limit = 15"
   ]
  },
  {
   "cell_type": "code",
   "execution_count": 8,
   "id": "ec1446dd",
   "metadata": {},
   "outputs": [
    {
     "name": "stdout",
     "output_type": "stream",
     "text": [
      "Enjoy this scary movie\n"
     ]
    }
   ],
   "source": [
    "# we compare the two variables, age and age_limit, to set up our condition for the if statement\n",
    "if age < age_limit: #between if and :, specify your condition\n",
    "    print(\"Sorry, you are to young to watch this scary movie\")\n",
    "    print(\"Watch this cartoon instead\")\n",
    "else:\n",
    "    print(\"Enjoy this scary movie\")"
   ]
  },
  {
   "cell_type": "markdown",
   "id": "4fcb3db0",
   "metadata": {},
   "source": [
    "####xample of more than two possible scenarios\n",
    "- use if - elif -else\n"
   ]
  },
  {
   "cell_type": "code",
   "execution_count": 9,
   "id": "eef889ed",
   "metadata": {},
   "outputs": [
    {
     "data": {
      "text/plain": [
       "float"
      ]
     },
     "execution_count": 9,
     "metadata": {},
     "output_type": "execute_result"
    }
   ],
   "source": [
    "weight = float(input(\"What is your weight in kg: \"))\n",
    "\n",
    "type(weight)"
   ]
  },
  {
   "cell_type": "code",
   "execution_count": null,
   "id": "4f7dd95e",
   "metadata": {},
   "outputs": [
    {
     "name": "stdout",
     "output_type": "stream",
     "text": [
      "The patient should take 1000mg per day\n"
     ]
    }
   ],
   "source": [
    "if weight < 20:\n",
    "    print(\"The patient should take 500mg per day\")\n",
    "elif weight < 40:\n",
    "    print(\"The patient should take 750mg per day\")\n",
    "else:\n",
    "    print(\"The patient should take 1000mg per day\")"
   ]
  },
  {
   "cell_type": "code",
   "execution_count": null,
   "id": "7cfb65a8",
   "metadata": {},
   "outputs": [],
   "source": []
  }
 ],
 "metadata": {
  "kernelspec": {
   "display_name": "python_DE25_Rikard_Oledal",
   "language": "python",
   "name": "python3"
  },
  "language_info": {
   "codemirror_mode": {
    "name": "ipython",
    "version": 3
   },
   "file_extension": ".py",
   "mimetype": "text/x-python",
   "name": "python",
   "nbconvert_exporter": "python",
   "pygments_lexer": "ipython3",
   "version": "3.12.10"
  }
 },
 "nbformat": 4,
 "nbformat_minor": 5
}
