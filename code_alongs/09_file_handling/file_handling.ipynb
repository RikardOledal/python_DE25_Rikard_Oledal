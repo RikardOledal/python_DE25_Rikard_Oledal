{
 "cells": [
  {
   "cell_type": "markdown",
   "id": "e66b86f6",
   "metadata": {},
   "source": [
    "## Clean the quotes file"
   ]
  },
  {
   "cell_type": "code",
   "execution_count": null,
   "id": "f8141033",
   "metadata": {},
   "outputs": [
    {
     "name": "stdout",
     "output_type": "stream",
     "text": [
      "<_io.TextIOWrapper name='quotes.txt' mode='r' encoding='cp1252'>\n",
      "  If     we     knew what it was      we were doing, it would not be called research,          would it?     - Albert Einstein\n",
      "\n",
      "Time is a drug. Too       much of it kills you.  -  Terry Pratchett\n",
      "\n",
      "\n",
      " An expert is a person who       has made all the mistakes that           can be made in a          very narrow field - Niels Bohr\n",
      "\n",
      "   Everything must be made as simple as possible. But not simpler. - Albert Einstein     \n",
      "\n",
      "\n",
      "  Nothing in life                is to be feared, it is only to be understood. Now is the time to understand more, so that we may fear less. - Marie  Curie  \n",
      "\n",
      "If I have seen further     it is by standing on the shoulders of Giants. - Isaac Newton\n"
     ]
    }
   ],
   "source": [
    "import re\n",
    "\n",
    "# variable for file\n",
    "file = \"quotes.txt\"\n",
    "\n",
    "# create empty list for saving qoutes\n",
    "quotes_ls = []\n",
    "\n",
    "# initiate a qoute number\n",
    "i = 1\n",
    "\n",
    "# open the file\n",
    "# comparing the use of absolute an relative paths\n",
    "\n",
    "# print out all the contents at once\n",
    "with open(file, \"r\") as f_read:\n",
    "    quotes = f_read.read()\n",
    "    # with will close the automatical\n",
    "\n",
    "print(f_read) # what you can see from opening the file\n",
    "print(quotes) # what you can see from appylying the read-method"
   ]
  },
  {
   "cell_type": "markdown",
   "id": "f4f66cb6",
   "metadata": {},
   "source": [
    "Loop through file"
   ]
  },
  {
   "cell_type": "code",
   "execution_count": null,
   "id": "efde007a",
   "metadata": {},
   "outputs": [
    {
     "name": "stdout",
     "output_type": "stream",
     "text": [
      "If we knew what it was we were doing, it would not be called research, would it? - Albert Einstein\n",
      "Time is a drug. Too much of it kills you. - Terry Pratchett\n",
      "An expert is a person who has made all the mistakes that can be made in a very narrow field - Niels Bohr\n",
      "Everything must be made as simple as possible. But not simpler. - Albert Einstein\n",
      "Nothing in life is to be feared, it is only to be understood. Now is the time to understand more, so that we may fear less. - Marie Curie\n",
      "If I have seen further it is by standing on the shoulders of Giants. - Isaac Newton\n"
     ]
    }
   ],
   "source": [
    "import re\n",
    "\n",
    "file = \"quotes.txt\"\n",
    "\n",
    "quotes_ls = []\n",
    "\n",
    "i = 1\n",
    "\n",
    "# print out all the contents at once\n",
    "with open(file, \"r\") as f_read:\n",
    "    for quotes in f_read:\n",
    "        quotes = quotes.strip(\" \\n\")\n",
    "        quotes = re.sub(\" +\",\" \", quotes)\n",
    "        quotes = quotes.replace(\"  \",\" \")\n",
    "        if quotes != \"\": print(quotes)\n"
   ]
  },
  {
   "cell_type": "markdown",
   "id": "f8c25d85",
   "metadata": {},
   "source": [
    "read and write"
   ]
  },
  {
   "cell_type": "code",
   "execution_count": null,
   "id": "d2f6457b",
   "metadata": {},
   "outputs": [],
   "source": [
    "import re\n",
    "\n",
    "file = \"quotes.txt\"\n",
    "\n",
    "quotes_ls = []\n",
    "\n",
    "i = 1\n",
    "\n",
    "# read from one file write to a new file\n",
    "with open(file, \"r\") as f_read, open(\"quotes_cleaned.txt\", \"w\") as f_write:\n",
    "    for quotes in f_read:\n",
    "        quotes = quotes.strip(\" \\n\")\n",
    "        quotes = re.sub(\" +\",\" \", quotes)\n",
    "        if quotes != \"\":\n",
    "            f_write.write(f\"{i}. {quotes}\\n\")\n",
    "            i += 1"
   ]
  },
  {
   "cell_type": "code",
   "execution_count": null,
   "id": "0dc9f14f",
   "metadata": {},
   "outputs": [],
   "source": []
  }
 ],
 "metadata": {
  "kernelspec": {
   "display_name": "python_DE25_Rikard_Oledal",
   "language": "python",
   "name": "python3"
  },
  "language_info": {
   "codemirror_mode": {
    "name": "ipython",
    "version": 3
   },
   "file_extension": ".py",
   "mimetype": "text/x-python",
   "name": "python",
   "nbconvert_exporter": "python",
   "pygments_lexer": "ipython3",
   "version": "3.12.10"
  }
 },
 "nbformat": 4,
 "nbformat_minor": 5
}
