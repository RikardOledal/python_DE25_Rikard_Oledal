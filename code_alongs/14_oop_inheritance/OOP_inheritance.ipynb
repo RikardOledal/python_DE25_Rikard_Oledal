{
 "cells": [
  {
   "cell_type": "code",
   "execution_count": 9,
   "id": "6fcc6b2d",
   "metadata": {},
   "outputs": [],
   "source": [
    "class Person:\n",
    "    def __init__(self, name:str, age:int) -> None:\n",
    "        self._name = name\n",
    "        self.age = age\n",
    "\n",
    "    @property\n",
    "    def name(self) -> str:\n",
    "        return self._name\n",
    "    \n",
    "    @property\n",
    "    def age(self) -> int:\n",
    "        return self._age\n",
    "    \n",
    "    @age.setter\n",
    "    def age(self, value: int) -> int:\n",
    "        if not isinstance(value, int):\n",
    "            raise TypeError(f\"Age must be a int not {type(value)}\")\n",
    "        \n",
    "        if not 0 < value < 125:\n",
    "            raise ValueError(f\"Age must be between 0 and 125 not {value}\")\n",
    "        \n",
    "        self._age = value\n",
    "\n",
    "    def __repr__(self) -> str:\n",
    "        return f\"name = '{self._name}' age = {self.age}\"\n",
    "\n",
    "    def __str__(self) -> str:\n",
    "        return f\"{self._name} is a person that is {self.age} years old\" \n",
    "\n",
    "    def say_hi(self) -> str:\n",
    "        print(f\"{self._name} says hi\")\n",
    "    \n",
    "person1 = Person(\"Daniel\", 4)\n",
    "\n"
   ]
  },
  {
   "cell_type": "markdown",
   "id": "7cfa4c19",
   "metadata": {},
   "source": [
    "## Implement Student"
   ]
  },
  {
   "cell_type": "code",
   "execution_count": 10,
   "id": "aff94475",
   "metadata": {},
   "outputs": [
    {
     "name": "stdout",
     "output_type": "stream",
     "text": [
      "Student Bjorn says hi in language Norska\n",
      "Daniel says hi\n"
     ]
    }
   ],
   "source": [
    "class Student(Person):\n",
    "    def __init__(self, name: str, age: int, language: str):\n",
    "        super().__init__(name, age)\n",
    "        self.language = language\n",
    "    \n",
    "    def say_hi(self) -> str:\n",
    "        print(f\"Student {self._name} says hi in language {self.language}\")\n",
    "    \n",
    "student1 = Student(\"Bjorn\", 120, \"Norska\")\n",
    "student1.say_hi()\n",
    "person1.say_hi()"
   ]
  },
  {
   "cell_type": "markdown",
   "id": "9b115f94",
   "metadata": {},
   "source": [
    "## Implement Viking"
   ]
  },
  {
   "cell_type": "code",
   "execution_count": null,
   "id": "bc287003",
   "metadata": {},
   "outputs": [
    {
     "data": {
      "text/plain": [
       "'Coins in stash: 0 riksdaler, 0 skilling'"
      ]
     },
     "execution_count": 12,
     "metadata": {},
     "output_type": "execute_result"
    }
   ],
   "source": [
    "from oldcoins import OldCoinsStash\n",
    "\n",
    "class Viking(Person):\n",
    "    def __init__(self, name:str, age:int):\n",
    "        super().__init__(name, age)\n",
    "        # composition - \"has a\" relationship\n",
    "        self.stash = OldCoinsStash(name)\n",
    "\n",
    "viking1 = Viking(\"Pelle\",23)\n",
    "\n",
    "viking1\n",
    "\n",
    "viking1.stash.check_balance()"
   ]
  },
  {
   "cell_type": "code",
   "execution_count": null,
   "id": "c702be94",
   "metadata": {},
   "outputs": [],
   "source": []
  }
 ],
 "metadata": {
  "kernelspec": {
   "display_name": "python_DE25_Rikard_Oledal",
   "language": "python",
   "name": "python3"
  },
  "language_info": {
   "codemirror_mode": {
    "name": "ipython",
    "version": 3
   },
   "file_extension": ".py",
   "mimetype": "text/x-python",
   "name": "python",
   "nbconvert_exporter": "python",
   "pygments_lexer": "ipython3",
   "version": "3.12.10"
  }
 },
 "nbformat": 4,
 "nbformat_minor": 5
}
