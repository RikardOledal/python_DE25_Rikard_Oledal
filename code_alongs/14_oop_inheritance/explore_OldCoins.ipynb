{
 "cells": [
  {
   "cell_type": "markdown",
   "id": "2b751e30",
   "metadata": {},
   "source": [
    "# Exploring the module"
   ]
  },
  {
   "cell_type": "code",
   "execution_count": 2,
   "id": "aab2c734",
   "metadata": {},
   "outputs": [
    {
     "data": {
      "text/plain": [
       "OldCoinStash(owner='Ragnar Lothbroke')"
      ]
     },
     "execution_count": 2,
     "metadata": {},
     "output_type": "execute_result"
    }
   ],
   "source": [
    "from oldcoins import OldCoinsStash\n",
    "\n",
    "stash_ragnar = OldCoinsStash(\"Ragnar Lothbroke\")\n",
    "stash_ragnar"
   ]
  },
  {
   "cell_type": "code",
   "execution_count": 9,
   "id": "4409fd91",
   "metadata": {},
   "outputs": [],
   "source": [
    "stash_ragnar.deposit(989787389242789287470392748932709,612890389213801289480128390)"
   ]
  },
  {
   "cell_type": "code",
   "execution_count": 4,
   "id": "69b652f0",
   "metadata": {},
   "outputs": [
    {
     "data": {
      "text/plain": [
       "'Coins in stash: 3 riksdaler, 6 skilling'"
      ]
     },
     "execution_count": 4,
     "metadata": {},
     "output_type": "execute_result"
    }
   ],
   "source": [
    "stash_ragnar.check_balance()"
   ]
  },
  {
   "cell_type": "code",
   "execution_count": 5,
   "id": "8fd45116",
   "metadata": {},
   "outputs": [],
   "source": [
    "stash_ragnar.withdraw(1,1)"
   ]
  },
  {
   "cell_type": "code",
   "execution_count": 10,
   "id": "ace28b13",
   "metadata": {},
   "outputs": [
    {
     "data": {
      "text/plain": [
       "'Coins in stash: 9.897873892427893e+32 riksdaler, 612890389213801289480128401 skilling'"
      ]
     },
     "execution_count": 10,
     "metadata": {},
     "output_type": "execute_result"
    }
   ],
   "source": [
    "stash_ragnar.check_balance()"
   ]
  },
  {
   "cell_type": "code",
   "execution_count": null,
   "id": "ebd11c1c",
   "metadata": {},
   "outputs": [],
   "source": []
  }
 ],
 "metadata": {
  "kernelspec": {
   "display_name": "python_DE25_Rikard_Oledal",
   "language": "python",
   "name": "python3"
  },
  "language_info": {
   "codemirror_mode": {
    "name": "ipython",
    "version": 3
   },
   "file_extension": ".py",
   "mimetype": "text/x-python",
   "name": "python",
   "nbconvert_exporter": "python",
   "pygments_lexer": "ipython3",
   "version": "3.12.10"
  }
 },
 "nbformat": 4,
 "nbformat_minor": 5
}
