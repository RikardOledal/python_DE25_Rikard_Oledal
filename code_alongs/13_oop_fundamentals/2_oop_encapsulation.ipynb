{
 "cells": [
  {
   "cell_type": "markdown",
   "id": "ce2de20c",
   "metadata": {},
   "source": [
    "# Encapsulation\n",
    "\n",
    "- information hiding\n",
    "- user don't need to know underlying how it works\n",
    "- for example we can hide validation e.g. proper age for a person\n",
    "- user of your class needs to know how to use it - i.e. witch methods and attributes can be used\n",
    "- one wy to use encapsulation is to use private attributes and private methods\n",
    " - these can't be accessed from outside of the class\n",
    "\n",
    "- however in python there is no such thing as private\n",
    "- in python private by convention by using undercore"
   ]
  },
  {
   "cell_type": "code",
   "execution_count": 2,
   "id": "78ef1acb",
   "metadata": {},
   "outputs": [
    {
     "data": {
      "text/plain": [
       "(44, 'Rikard')"
      ]
     },
     "execution_count": 2,
     "metadata": {},
     "output_type": "execute_result"
    }
   ],
   "source": [
    "# everything public\n",
    "\n",
    "class Person:\n",
    "    def __init__(self, name, age):\n",
    "        self.name = name\n",
    "        self.age = age\n",
    "\n",
    "p1 = Person(\"Rikard\", 44)\n",
    "\n",
    "p1.age, p1.name"
   ]
  },
  {
   "cell_type": "code",
   "execution_count": 7,
   "id": "9ddb0096",
   "metadata": {},
   "outputs": [
    {
     "data": {
      "text/plain": [
       "-5"
      ]
     },
     "execution_count": 7,
     "metadata": {},
     "output_type": "execute_result"
    }
   ],
   "source": [
    "p2 = Person(\"Johnny\", -5)\n",
    "p2.age\n",
    "\n"
   ]
  },
  {
   "cell_type": "code",
   "execution_count": 8,
   "id": "ca8a93f1",
   "metadata": {},
   "outputs": [
    {
     "ename": "AttributeError",
     "evalue": "'Person' object has no attribute 'age'",
     "output_type": "error",
     "traceback": [
      "\u001b[31m---------------------------------------------------------------------------\u001b[39m",
      "\u001b[31mAttributeError\u001b[39m                            Traceback (most recent call last)",
      "\u001b[36mCell\u001b[39m\u001b[36m \u001b[39m\u001b[32mIn[8]\u001b[39m\u001b[32m, line 10\u001b[39m\n\u001b[32m      6\u001b[39m         \u001b[38;5;28mself\u001b[39m._age = age\n\u001b[32m      8\u001b[39m p3 = Person(\u001b[33m\"\u001b[39m\u001b[33mLisa\u001b[39m\u001b[33m\"\u001b[39m, \u001b[32m27\u001b[39m)\n\u001b[32m---> \u001b[39m\u001b[32m10\u001b[39m \u001b[43mp3\u001b[49m\u001b[43m.\u001b[49m\u001b[43mage\u001b[49m, p3.name\n",
      "\u001b[31mAttributeError\u001b[39m: 'Person' object has no attribute 'age'"
     ]
    }
   ],
   "source": [
    "# Private\n",
    "\n",
    "class Person:\n",
    "    def __init__(self, name, age):\n",
    "        self._name = name\n",
    "        self._age = age\n",
    "\n",
    "p3 = Person(\"Lisa\", 27)\n",
    "\n",
    "p3.age, p3.name"
   ]
  },
  {
   "cell_type": "code",
   "execution_count": 10,
   "id": "294a89a0",
   "metadata": {},
   "outputs": [
    {
     "data": {
      "text/plain": [
       "'Lisa'"
      ]
     },
     "execution_count": 10,
     "metadata": {},
     "output_type": "execute_result"
    }
   ],
   "source": [
    "# You should not do this, but you can\n",
    "# Python programmers shound know that undercore prefix is private by convention\n",
    "\n",
    "p3._name"
   ]
  },
  {
   "cell_type": "code",
   "execution_count": 12,
   "id": "8bb783a2",
   "metadata": {},
   "outputs": [
    {
     "name": "stdout",
     "output_type": "stream",
     "text": [
      "Age must be between 0 and 124\n"
     ]
    },
    {
     "data": {
      "text/plain": [
       "Person('Felix', 30)"
      ]
     },
     "execution_count": 12,
     "metadata": {},
     "output_type": "execute_result"
    }
   ],
   "source": [
    "# fix validation of age\n",
    "\n",
    "class Person:\n",
    "    def __init__(self, name, age):\n",
    "        self._name = name\n",
    "\n",
    "        if not (0 <= age < 125):\n",
    "            raise ValueError(\"Age must be between 0 and 124\")\n",
    "        \n",
    "        self._age = age\n",
    "    \n",
    "    def __repr__(self):\n",
    "        return f\"Person('{self._name}', {self._age})\"\n",
    "\n",
    "try:\n",
    "    p4 = Person(\"Lisa\", -5)\n",
    "except ValueError as err:\n",
    "    print(err)\n",
    "\n",
    "p5 = Person(\"Felix\", 30)\n",
    "p5"
   ]
  },
  {
   "cell_type": "markdown",
   "id": "0b54913d",
   "metadata": {},
   "source": [
    "## property\n",
    "\n",
    "- getter -> gets a value\n",
    "- setter -> sets a value\n",
    "\n",
    "idea: put in validation code in setter"
   ]
  },
  {
   "cell_type": "code",
   "execution_count": null,
   "id": "aa164a54",
   "metadata": {},
   "outputs": [
    {
     "name": "stdout",
     "output_type": "stream",
     "text": [
      "Age must be between 0 and 124\n"
     ]
    },
    {
     "data": {
      "text/plain": [
       "30"
      ]
     },
     "execution_count": 13,
     "metadata": {},
     "output_type": "execute_result"
    }
   ],
   "source": [
    "class Person:\n",
    "    def __init__(self, name, age):\n",
    "        self._name = name\n",
    "\n",
    "        if not (0 <= age < 125):\n",
    "            raise ValueError(\"Age must be between 0 and 124\")\n",
    "        \n",
    "        self._age = age\n",
    "\n",
    "    # a decorator - it gives the function more fuctionality\n",
    "    # makes it into property (getter and setter)\n",
    "    @property \n",
    "    def age(self):\n",
    "        return self._age\n",
    "    \n",
    "    def __repr__(self):\n",
    "        return f\"Person('{self._name}', {self._age})\"\n",
    "\n",
    "try:\n",
    "    p4 = Person(\"Lisa\", -5)\n",
    "except ValueError as err:\n",
    "    print(err)\n",
    "\n",
    "p5 = Person(\"Felix\", 30)\n",
    "p5.age"
   ]
  },
  {
   "cell_type": "code",
   "execution_count": 15,
   "id": "80ea1066",
   "metadata": {},
   "outputs": [
    {
     "ename": "AttributeError",
     "evalue": "property 'age' of 'Person' object has no setter",
     "output_type": "error",
     "traceback": [
      "\u001b[31m---------------------------------------------------------------------------\u001b[39m",
      "\u001b[31mAttributeError\u001b[39m                            Traceback (most recent call last)",
      "\u001b[36mCell\u001b[39m\u001b[36m \u001b[39m\u001b[32mIn[15]\u001b[39m\u001b[32m, line 2\u001b[39m\n\u001b[32m      1\u001b[39m \u001b[38;5;66;03m# Has no setter\u001b[39;00m\n\u001b[32m----> \u001b[39m\u001b[32m2\u001b[39m \u001b[43mp5\u001b[49m\u001b[43m.\u001b[49m\u001b[43mage\u001b[49m = \u001b[32m5\u001b[39m \n",
      "\u001b[31mAttributeError\u001b[39m: property 'age' of 'Person' object has no setter"
     ]
    }
   ],
   "source": [
    "# Has no setter\n",
    "p5.age = 5 "
   ]
  },
  {
   "cell_type": "code",
   "execution_count": 38,
   "id": "20bcd3f7",
   "metadata": {},
   "outputs": [
    {
     "name": "stdout",
     "output_type": "stream",
     "text": [
      "age setter called\n",
      "age getter called\n"
     ]
    },
    {
     "data": {
      "text/plain": [
       "30"
      ]
     },
     "execution_count": 38,
     "metadata": {},
     "output_type": "execute_result"
    }
   ],
   "source": [
    "class Person:\n",
    "    def __init__(self, name, age):\n",
    "        self._name = name\n",
    "        self.age = age\n",
    "        \n",
    "\n",
    "    # a decorator - it gives the function more fuctionality\n",
    "    # makes it into property (getter and setter)\n",
    "    @property \n",
    "    def age(self):\n",
    "        print(\"age getter called\")\n",
    "        return self._age\n",
    "    \n",
    "    @age.setter\n",
    "    def age(self, value):\n",
    "        print(\"age setter called\")\n",
    "        if not (0 <= value < 125):\n",
    "            raise ValueError(\"Age must be between 0 and 124\")\n",
    "        self._age = value\n",
    "\n",
    "    \n",
    "    def __repr__(self):\n",
    "        return f\"Person('{self._name}', {self.age})\"\n",
    "\n",
    "p7 = Person(\"Felix\", 30)\n",
    "p7.age"
   ]
  },
  {
   "cell_type": "code",
   "execution_count": 36,
   "id": "e3f11fd3",
   "metadata": {},
   "outputs": [
    {
     "name": "stdout",
     "output_type": "stream",
     "text": [
      "age setter called\n"
     ]
    },
    {
     "ename": "ValueError",
     "evalue": "Age must be between 0 and 124",
     "output_type": "error",
     "traceback": [
      "\u001b[31m---------------------------------------------------------------------------\u001b[39m",
      "\u001b[31mValueError\u001b[39m                                Traceback (most recent call last)",
      "\u001b[36mCell\u001b[39m\u001b[36m \u001b[39m\u001b[32mIn[36]\u001b[39m\u001b[32m, line 1\u001b[39m\n\u001b[32m----> \u001b[39m\u001b[32m1\u001b[39m \u001b[43mp7\u001b[49m\u001b[43m.\u001b[49m\u001b[43mage\u001b[49m = -\u001b[32m5\u001b[39m\n\u001b[32m      2\u001b[39m p7\n",
      "\u001b[36mCell\u001b[39m\u001b[36m \u001b[39m\u001b[32mIn[35]\u001b[39m\u001b[32m, line 18\u001b[39m, in \u001b[36mPerson.age\u001b[39m\u001b[34m(self, value)\u001b[39m\n\u001b[32m     16\u001b[39m \u001b[38;5;28mprint\u001b[39m(\u001b[33m\"\u001b[39m\u001b[33mage setter called\u001b[39m\u001b[33m\"\u001b[39m)\n\u001b[32m     17\u001b[39m \u001b[38;5;28;01mif\u001b[39;00m \u001b[38;5;129;01mnot\u001b[39;00m (\u001b[32m0\u001b[39m <= value < \u001b[32m125\u001b[39m):\n\u001b[32m---> \u001b[39m\u001b[32m18\u001b[39m     \u001b[38;5;28;01mraise\u001b[39;00m \u001b[38;5;167;01mValueError\u001b[39;00m(\u001b[33m\"\u001b[39m\u001b[33mAge must be between 0 and 124\u001b[39m\u001b[33m\"\u001b[39m)\n\u001b[32m     19\u001b[39m \u001b[38;5;28mself\u001b[39m._age = value\n",
      "\u001b[31mValueError\u001b[39m: Age must be between 0 and 124"
     ]
    }
   ],
   "source": [
    "p7.age = -5\n",
    "p7"
   ]
  },
  {
   "cell_type": "code",
   "execution_count": null,
   "id": "08d81642",
   "metadata": {},
   "outputs": [
    {
     "name": "stdout",
     "output_type": "stream",
     "text": [
      "1 works as Controller since 2020 and has a salary of 20000\n",
      "Rikard works as Programmer since 2018 and has a salary of 30000\n"
     ]
    }
   ],
   "source": [
    "class Employee:\n",
    "    \"\"\"\n",
    "    A class to hold emloyee information\n",
    "\n",
    "    Attributes:\n",
    "    - name (str): name of the person\n",
    "    - social_sec_nr: the social security number of a person i 12 numbers\n",
    "    - salary (int): salary in SEK, needs to be larger than 18000\n",
    "    ...\n",
    "\n",
    "    Methods\n",
    "    - increase: increase the salary of the empolyee with value SEK\n",
    "\n",
    "    Exemple usage:\n",
    "    >>> Worker1 = Employee(name=1 , social_sec_nr=9005053940, salary=20000, role=\"Controller\", employment_year=2020)\n",
    "    >>> Worker1.increase(2000)\n",
    "    >>> Worker1.salary\n",
    "    \"\"\"\n",
    "    def __init__(self, name: str, social_sec_nr: int, salary: int, role: str, employment_year: int) -> None:\n",
    "        self.name = name\n",
    "        self._social_sec_nr = social_sec_nr\n",
    "        self.salary = salary\n",
    "        self.role = role\n",
    "        self.employment_year = employment_year\n",
    "\n",
    "    @property \n",
    "    def salary(self):\n",
    "        return self._salary\n",
    "\n",
    "    @salary.setter\n",
    "    def salary(self, value):\n",
    "        if value < 18000:\n",
    "            raise ValueError(\"Salary must be higher than 18000 and \")\n",
    "        self._salary = value\n",
    "    \n",
    "    def __repr__(self) -> str:\n",
    "        return f\"name= '{self.name}' social security nr= {self._social_sec_nr} salary= {self.salary} role= {self.role} employment year= {self.employment_year}\"\n",
    "\n",
    "    def __str__(self) -> str:\n",
    "        return f\"{self.name} works as {self.role} since {self.employment_year} and has a salary of {self.salary}\"\n",
    "    \n",
    "    def increase (self, value):\n",
    "        self.salary += value\n",
    "\n",
    "Worker1 = Employee(name=1 , social_sec_nr=9005053940, salary=20000, role=\"Controller\", employment_year=2020)\n",
    "Worker2 = Employee(name=\"Rikard\", social_sec_nr=8110090373, salary=30000, role=\"Programmer\", employment_year=2018)\n",
    "\n",
    "print(Worker1)\n",
    "print(Worker2)\n",
    "\n"
   ]
  },
  {
   "cell_type": "code",
   "execution_count": 48,
   "id": "d5574502",
   "metadata": {},
   "outputs": [
    {
     "name": "stdout",
     "output_type": "stream",
     "text": [
      "salary getter called\n",
      "salary setter called\n",
      "salary getter called\n",
      "New salary 26000\n",
      "salary getter called\n",
      "salary getter called\n"
     ]
    },
    {
     "data": {
      "text/plain": [
       "'Lisa works as Controller since 2020 and has a salary of 26000'"
      ]
     },
     "execution_count": 48,
     "metadata": {},
     "output_type": "execute_result"
    }
   ],
   "source": [
    "Worker1.increase(2000)\n",
    "\n",
    "Worker1.salary\n",
    "\n",
    "test = str(Worker1)\n",
    "test"
   ]
  },
  {
   "cell_type": "code",
   "execution_count": 61,
   "id": "fb693c21",
   "metadata": {},
   "outputs": [
    {
     "name": "stdout",
     "output_type": "stream",
     "text": [
      "Help on class Employee in module __main__:\n",
      "\n",
      "class Employee(builtins.object)\n",
      " |  Employee(name: str, social_sec_nr: int, salary: int, role: str, employment_year: int)\n",
      " |\n",
      " |  A class to hold emloyee information\n",
      " |\n",
      " |  Attributes:\n",
      " |  - name (str): name of the person\n",
      " |  - social_sec_nr: the social security number of a person i 12 numbers\n",
      " |  - salary (int): salary in SEK, needs to be larger than 18000\n",
      " |  ...\n",
      " |\n",
      " |  Methods\n",
      " |  - increase: increase the salary of the empolyee with value SEK\n",
      " |\n",
      " |  Exemple usage:\n",
      " |  >>> Worker1 = Employee(name=1 , social_sec_nr=9005053940, salary=20000, role=\"Controller\", employment_year=2020)\n",
      " |  >>> Worker1.increase(2000)\n",
      " |  >>> Worker1.salary\n",
      " |\n",
      " |  Methods defined here:\n",
      " |\n",
      " |  __init__(self, name: str, social_sec_nr: int, salary: int, role: str, employment_year: int)\n",
      " |      Initialize self.  See help(type(self)) for accurate signature.\n",
      " |\n",
      " |  __repr__(self)\n",
      " |      Return repr(self).\n",
      " |\n",
      " |  __str__(self)\n",
      " |      Return str(self).\n",
      " |\n",
      " |  increase(self, value)\n",
      " |\n",
      " |  ----------------------------------------------------------------------\n",
      " |  Data descriptors defined here:\n",
      " |\n",
      " |  __dict__\n",
      " |      dictionary for instance variables\n",
      " |\n",
      " |  __weakref__\n",
      " |      list of weak references to the object\n",
      " |\n",
      " |  salary\n",
      "\n"
     ]
    }
   ],
   "source": [
    "help(Employee)"
   ]
  },
  {
   "cell_type": "code",
   "execution_count": null,
   "id": "822d6ef1",
   "metadata": {},
   "outputs": [],
   "source": []
  }
 ],
 "metadata": {
  "kernelspec": {
   "display_name": "python_DE25_Rikard_Oledal",
   "language": "python",
   "name": "python3"
  },
  "language_info": {
   "codemirror_mode": {
    "name": "ipython",
    "version": 3
   },
   "file_extension": ".py",
   "mimetype": "text/x-python",
   "name": "python",
   "nbconvert_exporter": "python",
   "pygments_lexer": "ipython3",
   "version": "3.12.10"
  }
 },
 "nbformat": 4,
 "nbformat_minor": 5
}
