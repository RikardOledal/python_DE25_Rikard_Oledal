{
 "cells": [
  {
   "cell_type": "markdown",
   "id": "7da88729",
   "metadata": {},
   "source": [
    "# OOP fundamentals"
   ]
  },
  {
   "cell_type": "markdown",
   "id": "d7766416",
   "metadata": {},
   "source": [
    "## Class Object\n",
    "- Has Methods\n",
    "- Has Attributes"
   ]
  },
  {
   "cell_type": "markdown",
   "id": "6672b5b5",
   "metadata": {},
   "source": [
    "The '___init___' defines "
   ]
  },
  {
   "cell_type": "code",
   "execution_count": null,
   "id": "93ac307a",
   "metadata": {},
   "outputs": [
    {
     "name": "stdout",
     "output_type": "stream",
     "text": [
      "Rikard Oledal has applied to Data Engineer at STI, accepted True\n"
     ]
    },
    {
     "data": {
      "text/plain": [
       "Admission(school = 'STI', program = 'Data Engineer', name = 'Rikard Oledal', accept = True)"
      ]
     },
     "execution_count": 5,
     "metadata": {},
     "output_type": "execute_result"
    }
   ],
   "source": [
    "# Define a Class with name Admissin\n",
    "class Admission:\n",
    "    # \"dunder init\" - initializer - note 2 undercore before and after init\n",
    "    # this method will be run when you insansiate from this class\n",
    "    def __init__(self, school, program, name, accept):\n",
    "\n",
    "        # set the attributs to the value from the args \n",
    "        self.school = school\n",
    "        self.program = program\n",
    "        self.name = name\n",
    "        self.accept = accept\n",
    "    \n",
    "    def __str__(self):\n",
    "        return f\"{self.name} has applied to {self.program} at {self.school}, accepted {self.accept}\"\n",
    "    \n",
    "    def __repr__(self):\n",
    "        return f\"Admission(school = '{self.school}', program = '{self.program}', name = '{self.name}', accept = {self.accept})\"\n",
    "\n",
    "# instantiate the instance person1\n",
    "person1 = Admission(\"STI\", \"Data Engineer\", \"Rikard Oledal\", True)\n",
    "person2 = Admission(\"STI\", \"Java\", \"Johnny\", True)\n",
    "print(person1)\n",
    "person1\n"
   ]
  },
  {
   "cell_type": "markdown",
   "id": "89ab20aa",
   "metadata": {},
   "source": [
    "## Note on memory\n",
    "By default , the /_/_repr/_/_ of an instance is showing the memory address of where the instance live\n",
    "- Ech instans of the class lives in different memory addresses"
   ]
  },
  {
   "cell_type": "markdown",
   "id": "93dcb115",
   "metadata": {},
   "source": [
    "Class Animal"
   ]
  },
  {
   "cell_type": "code",
   "execution_count": 3,
   "id": "2666e8c0",
   "metadata": {},
   "outputs": [
    {
     "name": "stdout",
     "output_type": "stream",
     "text": [
      "Has 2 and 4 legs and is Brown\n"
     ]
    },
    {
     "data": {
      "text/plain": [
       "ears = 2 legs = 4 colour = Brown"
      ]
     },
     "execution_count": 3,
     "metadata": {},
     "output_type": "execute_result"
    }
   ],
   "source": [
    "class Animal:\n",
    "    def __init__(self, ears=2, colour=str, legs=4):\n",
    "        self.ears = ears\n",
    "        self.colour = colour\n",
    "        self.legs = legs\n",
    "\n",
    "    def __repr__(self):\n",
    "        return f\"ears = {self.ears} legs = {self.legs} colour = {self.colour}\"\n",
    "    \n",
    "    def __str__(self):\n",
    "        return f\"Has {self.ears} and {self.legs} legs and is {self.colour}\"\n",
    "    \n",
    "dog = Animal(ears=2, legs=4, colour=\"Brown\")\n",
    "\n",
    "print(dog)\n",
    "dog\n"
   ]
  },
  {
   "cell_type": "markdown",
   "id": "4d3c5fd2",
   "metadata": {},
   "source": [
    "Class Student"
   ]
  },
  {
   "cell_type": "code",
   "execution_count": 3,
   "id": "6d06641e",
   "metadata": {},
   "outputs": [
    {
     "name": "stdout",
     "output_type": "stream",
     "text": [
      "Student Created\n",
      "Student Created\n",
      "Student Created\n",
      "Student Created\n",
      "Student Created\n"
     ]
    }
   ],
   "source": [
    "class Student:\n",
    "    def __init__(self, name, age, type_of_study, school=\"STI\", accepted=True):\n",
    "        print(\"Student Created\")\n",
    "        self.name = name\n",
    "        self.age = age\n",
    "        self.school = school\n",
    "        self.type_of_study = type_of_study\n",
    "        self.accepted = accepted\n",
    "\n",
    "    def __repr__(self):\n",
    "        return f\"name = '{self.name}' age = {self.age} school = '{self.school}' type_of_study = '{self.type_of_study}' accepted = {self.accepted}\"\n",
    "\n",
    "    def __str__(self):\n",
    "        return f\"{self.name} is {self.age} years old and studying {self.type_of_study} at {self.school}.\"\n",
    "    \n",
    "    def study(self):\n",
    "        print(f\"{self.name} studies {self.type_of_study}\")\n",
    "\n",
    "\n",
    "student1 = Student(name=\"Rikard\", age=44, type_of_study=\"Data Engineer\")\n",
    "student2 = Student(name=\"Johnny\", age=35, type_of_study=\"AI\")\n",
    "student3 = Student(name=\"Anja\", age=29, type_of_study=\"Java\")\n",
    "student4 = Student(name=\"Felix\", age=32, type_of_study=\"Programing\")\n",
    "student5 = Student(name=\"Felix\", age=\"femton\", type_of_study=\"Programing\")"
   ]
  },
  {
   "cell_type": "code",
   "execution_count": null,
   "id": "5dc317de",
   "metadata": {},
   "outputs": [
    {
     "name": "stdout",
     "output_type": "stream",
     "text": [
      "Rikard studies Data Engineer\n"
     ]
    }
   ],
   "source": [
    "student1.study()"
   ]
  },
  {
   "cell_type": "code",
   "execution_count": 10,
   "id": "9018d443",
   "metadata": {},
   "outputs": [
    {
     "name": "stdout",
     "output_type": "stream",
     "text": [
      "Rikard is 44 years old and studying Data Engineer at STI. accepted = True\n"
     ]
    }
   ],
   "source": [
    "print(student1)"
   ]
  },
  {
   "cell_type": "code",
   "execution_count": 6,
   "id": "ec1d808f",
   "metadata": {},
   "outputs": [
    {
     "data": {
      "text/plain": [
       "'Rikard is 44 years old and studying Data Engineer at STI.'"
      ]
     },
     "execution_count": 6,
     "metadata": {},
     "output_type": "execute_result"
    }
   ],
   "source": [
    "test = str(student1)\n",
    "test"
   ]
  },
  {
   "cell_type": "code",
   "execution_count": null,
   "id": "e54ccd24",
   "metadata": {},
   "outputs": [],
   "source": []
  }
 ],
 "metadata": {
  "kernelspec": {
   "display_name": "python_DE25_Rikard_Oledal",
   "language": "python",
   "name": "python3"
  },
  "language_info": {
   "codemirror_mode": {
    "name": "ipython",
    "version": 3
   },
   "file_extension": ".py",
   "mimetype": "text/x-python",
   "name": "python",
   "nbconvert_exporter": "python",
   "pygments_lexer": "ipython3",
   "version": "3.12.10"
  }
 },
 "nbformat": 4,
 "nbformat_minor": 5
}
