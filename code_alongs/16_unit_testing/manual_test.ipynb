{
 "cells": [
  {
   "cell_type": "markdown",
   "id": "d1a37a5b",
   "metadata": {},
   "source": [
    "# Manual Testing of Vector class"
   ]
  },
  {
   "cell_type": "code",
   "execution_count": 1,
   "id": "f913fc47",
   "metadata": {},
   "outputs": [
    {
     "data": {
      "text/plain": [
       "(Vector(2.0, 5.0), Vector(-1.0, 1.0))"
      ]
     },
     "execution_count": 1,
     "metadata": {},
     "output_type": "execute_result"
    }
   ],
   "source": [
    "from vector import Vector\n",
    "\n",
    "# vector with coodinate 2 and 5\n",
    "\n",
    "vec1 = Vector(2,5)\n",
    "vec2 = Vector(-1,1)\n",
    "\n",
    "vec1, vec2"
   ]
  },
  {
   "cell_type": "markdown",
   "id": "06fae903",
   "metadata": {},
   "source": [
    "## a few test that we expect will work"
   ]
  },
  {
   "cell_type": "code",
   "execution_count": 2,
   "id": "d7a56cf6",
   "metadata": {},
   "outputs": [
    {
     "name": "stdout",
     "output_type": "stream",
     "text": [
      "len(vec1) = 2\n",
      "vec1.numbers = (2.0, 5.0)\n",
      "vec1 + vec2 = Vector(1.0, 6.0)\n",
      "vec1 - vec2 = Vector(3.0, 4.0)\n",
      "vec1 * 2 = Vector(4.0, 10.0)\n"
     ]
    }
   ],
   "source": [
    "print(f\"{len(vec1) = }\")\n",
    "print(f\"{vec1.numbers = }\")\n",
    "print(f\"{vec1 + vec2 = }\")\n",
    "print(f\"{vec1 - vec2 = }\")\n",
    "print(f\"{vec1 * 2 = }\")"
   ]
  },
  {
   "cell_type": "markdown",
   "id": "6b0d3535",
   "metadata": {},
   "source": [
    "## testing correct errors"
   ]
  },
  {
   "cell_type": "code",
   "execution_count": 4,
   "id": "e2518745",
   "metadata": {},
   "outputs": [
    {
     "name": "stdout",
     "output_type": "stream",
     "text": [
      "1 is not valid number in a vector\n"
     ]
    }
   ],
   "source": [
    "try:\n",
    "    Vector(\"1\",1)\n",
    "except TypeError as err:\n",
    "    print(err)"
   ]
  },
  {
   "cell_type": "code",
   "execution_count": 3,
   "id": "4e98e205",
   "metadata": {},
   "outputs": [
    {
     "name": "stdout",
     "output_type": "stream",
     "text": [
      "Both must be Vector and have the same length\n"
     ]
    }
   ],
   "source": [
    "vec1 = Vector(1,2)\n",
    "vec2 = Vector(1,2,3)\n",
    "\n",
    "try:\n",
    "    vec1 + vec2\n",
    "except TypeError as err:\n",
    "    print(err)"
   ]
  },
  {
   "cell_type": "markdown",
   "id": "31a11e97",
   "metadata": {},
   "source": [
    "assert will be used in automatical testing"
   ]
  },
  {
   "cell_type": "code",
   "execution_count": 5,
   "id": "68df911b",
   "metadata": {},
   "outputs": [],
   "source": [
    "x = 5\n",
    "\n",
    "assert x == 5"
   ]
  },
  {
   "cell_type": "code",
   "execution_count": 6,
   "id": "0dbd864a",
   "metadata": {},
   "outputs": [
    {
     "ename": "AssertionError",
     "evalue": "",
     "output_type": "error",
     "traceback": [
      "\u001b[31m---------------------------------------------------------------------------\u001b[39m",
      "\u001b[31mAssertionError\u001b[39m                            Traceback (most recent call last)",
      "\u001b[36mCell\u001b[39m\u001b[36m \u001b[39m\u001b[32mIn[6]\u001b[39m\u001b[32m, line 1\u001b[39m\n\u001b[32m----> \u001b[39m\u001b[32m1\u001b[39m \u001b[38;5;28;01massert\u001b[39;00m x == \u001b[32m4\u001b[39m\n",
      "\u001b[31mAssertionError\u001b[39m: "
     ]
    }
   ],
   "source": [
    "assert x == 4"
   ]
  },
  {
   "cell_type": "code",
   "execution_count": null,
   "id": "574b9dcb",
   "metadata": {},
   "outputs": [],
   "source": []
  }
 ],
 "metadata": {
  "kernelspec": {
   "display_name": "python_DE25_Rikard_Oledal",
   "language": "python",
   "name": "python3"
  },
  "language_info": {
   "codemirror_mode": {
    "name": "ipython",
    "version": 3
   },
   "file_extension": ".py",
   "mimetype": "text/x-python",
   "name": "python",
   "nbconvert_exporter": "python",
   "pygments_lexer": "ipython3",
   "version": "3.12.10"
  }
 },
 "nbformat": 4,
 "nbformat_minor": 5
}
