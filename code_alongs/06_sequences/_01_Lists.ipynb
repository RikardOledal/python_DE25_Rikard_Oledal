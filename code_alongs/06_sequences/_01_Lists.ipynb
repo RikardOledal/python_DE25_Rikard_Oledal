{
 "cells": [
  {
   "cell_type": "code",
   "execution_count": 1,
   "id": "1cd7ff62",
   "metadata": {},
   "outputs": [
    {
     "name": "stdout",
     "output_type": "stream",
     "text": [
      "1. apple\n",
      "2. orange\n",
      "3. grape\n",
      "4. strawberry\n"
     ]
    }
   ],
   "source": [
    "fruits =[\"apple\", \"orange\", \"grape\", \"strawberry\"]\n",
    "fruit_nr = 0 \n",
    "\n",
    "for fruit in fruits:\n",
    "    fruit_nr += 1\n",
    "    print(f\"{fruit_nr}. {fruit}\")"
   ]
  },
  {
   "cell_type": "code",
   "execution_count": null,
   "id": "c0426f3a",
   "metadata": {},
   "outputs": [],
   "source": []
  }
 ],
 "metadata": {
  "kernelspec": {
   "display_name": "python_DE25_Rikard_Oledal",
   "language": "python",
   "name": "python3"
  },
  "language_info": {
   "codemirror_mode": {
    "name": "ipython",
    "version": 3
   },
   "file_extension": ".py",
   "mimetype": "text/x-python",
   "name": "python",
   "nbconvert_exporter": "python",
   "pygments_lexer": "ipython3",
   "version": "3.12.10"
  }
 },
 "nbformat": 4,
 "nbformat_minor": 5
}
