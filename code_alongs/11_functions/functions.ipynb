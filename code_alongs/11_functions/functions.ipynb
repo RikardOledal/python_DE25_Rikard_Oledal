{
 "cells": [
  {
   "cell_type": "markdown",
   "id": "75060956",
   "metadata": {},
   "source": [
    "# Functions"
   ]
  },
  {
   "cell_type": "markdown",
   "id": "8b92b618",
   "metadata": {},
   "source": [
    "Create a function"
   ]
  },
  {
   "cell_type": "code",
   "execution_count": 8,
   "id": "5e7aa3fd",
   "metadata": {},
   "outputs": [],
   "source": [
    "def squarer(x): # use keyword def; squarer is the function name; x is the parameter \n",
    "    result = x**2 #statements\n",
    "    return result # return block defines the output"
   ]
  },
  {
   "cell_type": "markdown",
   "id": "3315572a",
   "metadata": {},
   "source": [
    "Call for a function"
   ]
  },
  {
   "cell_type": "code",
   "execution_count": null,
   "id": "b0a4187f",
   "metadata": {},
   "outputs": [
    {
     "data": {
      "text/plain": [
       "16"
      ]
     },
     "execution_count": 7,
     "metadata": {},
     "output_type": "execute_result"
    }
   ],
   "source": [
    "squarer(2) # cite the function; () is the callable, argument (args)"
   ]
  },
  {
   "cell_type": "markdown",
   "id": "40dc6596",
   "metadata": {},
   "source": [
    "## Parameters"
   ]
  },
  {
   "cell_type": "markdown",
   "id": "ad7dbddc",
   "metadata": {},
   "source": [
    "Positionals arguments"
   ]
  },
  {
   "cell_type": "code",
   "execution_count": 11,
   "id": "11b89c9b",
   "metadata": {},
   "outputs": [],
   "source": [
    "def my_fruits(fruit_like, fruit_hate):\n",
    "    print(f\"I like to eat {fruit_like}\")\n",
    "    print(f\"But I hate to eat {fruit_hate}\")\n",
    "    return None # Python will add this line if you don't have a returnblock\n"
   ]
  },
  {
   "cell_type": "code",
   "execution_count": null,
   "id": "389e2a08",
   "metadata": {},
   "outputs": [
    {
     "name": "stdout",
     "output_type": "stream",
     "text": [
      "I like to eat apple\n",
      "But I hate to eat orange\n"
     ]
    }
   ],
   "source": [
    "# suppose I Like to eat orange and hate to eat apples\n",
    "# check out whats wrong below\n",
    "my_fruits(\"apple\", \"orange\")"
   ]
  },
  {
   "cell_type": "markdown",
   "id": "5c8fccaa",
   "metadata": {},
   "source": [
    "Keywords arguments"
   ]
  },
  {
   "cell_type": "code",
   "execution_count": 15,
   "id": "118b72bc",
   "metadata": {},
   "outputs": [
    {
     "name": "stdout",
     "output_type": "stream",
     "text": [
      "I like to eat Orange\n",
      "But I hate to eat Apple\n"
     ]
    }
   ],
   "source": [
    "# if you don't want to depend on the position of arguments, provide also the keyword for the parameter\n",
    "my_fruits(fruit_hate=\"Apple\", fruit_like=\"Orange\")"
   ]
  },
  {
   "cell_type": "code",
   "execution_count": null,
   "id": "b136fb08",
   "metadata": {},
   "outputs": [
    {
     "ename": "TypeError",
     "evalue": "my_fruits() takes 2 positional arguments but 3 were given",
     "output_type": "error",
     "traceback": [
      "\u001b[31m---------------------------------------------------------------------------\u001b[39m",
      "\u001b[31mTypeError\u001b[39m                                 Traceback (most recent call last)",
      "\u001b[36mCell\u001b[39m\u001b[36m \u001b[39m\u001b[32mIn[16]\u001b[39m\u001b[32m, line 1\u001b[39m\n\u001b[32m----> \u001b[39m\u001b[32m1\u001b[39m \u001b[43mmy_fruits\u001b[49m\u001b[43m(\u001b[49m\u001b[33;43m\"\u001b[39;49m\u001b[33;43mapple\u001b[39;49m\u001b[33;43m\"\u001b[39;49m\u001b[43m,\u001b[49m\u001b[43m \u001b[49m\u001b[33;43m\"\u001b[39;49m\u001b[33;43morange\u001b[39;49m\u001b[33;43m\"\u001b[39;49m\u001b[43m,\u001b[49m\u001b[43m \u001b[49m\u001b[33;43m\"\u001b[39;49m\u001b[33;43mstrawberry\u001b[39;49m\u001b[33;43m\"\u001b[39;49m\u001b[43m)\u001b[49m\n",
      "\u001b[31mTypeError\u001b[39m: my_fruits() takes 2 positional arguments but 3 were given"
     ]
    }
   ],
   "source": [
    "# what if we provides 3 fruits\n",
    "# due to error we need to have Unknown numbers of arguments\n",
    "\n",
    "my_fruits(\"apple\", \"orange\", \"strawberry\")"
   ]
  },
  {
   "cell_type": "markdown",
   "id": "f53acbb0",
   "metadata": {},
   "source": [
    "Unknown number of positional arguments (args)"
   ]
  },
  {
   "cell_type": "code",
   "execution_count": 17,
   "id": "576f01a0",
   "metadata": {},
   "outputs": [
    {
     "name": "stdout",
     "output_type": "stream",
     "text": [
      "apple\n",
      "orange\n",
      "strawberry\n"
     ]
    }
   ],
   "source": [
    "# suppose that I want to print out all fruits that are inputed as arguments to function\n",
    "# we will use a symbol * in the parameter\n",
    "\n",
    "def print_fruits(*fruits): # *have 2 menings: positional arguments, the nr of arguments will be unknown\n",
    "    for fruit in fruits:\n",
    "        print(fruit)\n",
    "\n",
    "print_fruits(\"apple\", \"orange\", \"strawberry\")"
   ]
  },
  {
   "cell_type": "markdown",
   "id": "c9e4407e",
   "metadata": {},
   "source": [
    "Unknown number of keyword arguments (kwargs)"
   ]
  },
  {
   "cell_type": "code",
   "execution_count": 25,
   "id": "123bfc1a",
   "metadata": {},
   "outputs": [],
   "source": [
    "def print_nr_fruits(**fruits): # **have 2 menings: positional arguments, the nr of arguments will be unknown\n",
    "    for key, value in fruits.items():\n",
    "        print(f\"{key}. {value}\")\n",
    "    return type(fruits)"
   ]
  },
  {
   "cell_type": "code",
   "execution_count": 26,
   "id": "eeb4b6f9",
   "metadata": {},
   "outputs": [
    {
     "name": "stdout",
     "output_type": "stream",
     "text": [
      "fruit1. orange\n",
      "fruit2. apple\n"
     ]
    },
    {
     "data": {
      "text/plain": [
       "dict"
      ]
     },
     "execution_count": 26,
     "metadata": {},
     "output_type": "execute_result"
    }
   ],
   "source": [
    "print_nr_fruits(fruit1=\"orange\", fruit2=\"apple\")"
   ]
  },
  {
   "cell_type": "code",
   "execution_count": null,
   "id": "84bb1875",
   "metadata": {},
   "outputs": [],
   "source": []
  }
 ],
 "metadata": {
  "kernelspec": {
   "display_name": "python_DE25_Rikard_Oledal",
   "language": "python",
   "name": "python3"
  },
  "language_info": {
   "codemirror_mode": {
    "name": "ipython",
    "version": 3
   },
   "file_extension": ".py",
   "mimetype": "text/x-python",
   "name": "python",
   "nbconvert_exporter": "python",
   "pygments_lexer": "ipython3",
   "version": "3.12.10"
  }
 },
 "nbformat": 4,
 "nbformat_minor": 5
}
