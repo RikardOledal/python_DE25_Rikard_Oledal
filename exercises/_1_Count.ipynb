{
 "cells": [
  {
   "cell_type": "markdown",
   "id": "1e06e7f1",
   "metadata": {},
   "source": [
    "# Exercise 1 - Count with python"
   ]
  },
  {
   "cell_type": "markdown",
   "id": "c801c02b",
   "metadata": {},
   "source": [
    "## 0. Pythagorean theorem"
   ]
  },
  {
   "cell_type": "markdown",
   "id": "fb43f70c",
   "metadata": {},
   "source": [
    "### A - A right angled triangle has the catheti: a = 3 and b = 4 length units. Compute the hypothenuse of the triangle."
   ]
  },
  {
   "cell_type": "code",
   "execution_count": null,
   "id": "970282fe",
   "metadata": {},
   "outputs": [
    {
     "name": "stdout",
     "output_type": "stream",
     "text": [
      "5.0\n"
     ]
    }
   ],
   "source": [
    "# Catheti-Variables\n",
    "catheti_A = 3\n",
    "catheti_B = 4\n",
    "\n",
    "# Hypothenuse squared\n",
    "hypothenuse_sq = catheti_A**2+catheti_B**2\n",
    "\n",
    "# Hypothenuse\n",
    "hypothenuse= hypothenuse**0.5\n",
    "\n",
    "print(hypothenuse)"
   ]
  },
  {
   "cell_type": "markdown",
   "id": "831f20dd",
   "metadata": {},
   "source": [
    "### B - A right angled triangle has hypothenuse c = 7.0 and a cathetus a = 5.0 length units. Compute the other cathetus and round to one decimal."
   ]
  },
  {
   "cell_type": "code",
   "execution_count": 10,
   "id": "d7463aed",
   "metadata": {},
   "outputs": [
    {
     "name": "stdout",
     "output_type": "stream",
     "text": [
      "Catheti B is 4.9\n"
     ]
    }
   ],
   "source": [
    "catheti_A = 5\n",
    "hypothenuse = 7\n",
    "\n",
    "hypothenuse_sq = hypothenuse**2\n",
    "catheti_A_sq = catheti_A**2\n",
    "catheti_B_sq = hypothenuse_sq-catheti_A_sq\n",
    "\n",
    "catheti_B = catheti_B_sq**0.5\n",
    "\n",
    "print(f\"Catheti B is {catheti_B:.1f}\")"
   ]
  },
  {
   "cell_type": "markdown",
   "id": "06f10b12",
   "metadata": {},
   "source": [
    "## 1. Classification accuracy"
   ]
  },
  {
   "cell_type": "code",
   "execution_count": 3,
   "id": "5e362550",
   "metadata": {},
   "outputs": [
    {
     "name": "stdout",
     "output_type": "stream",
     "text": [
      "The accuracy of this model is 82.19%\n"
     ]
    }
   ],
   "source": [
    "total_day = 365\n",
    "nr_correct_day = 300\n",
    "\n",
    "pred_accuracy = nr_correct_day / total_day\n",
    "\n",
    "print(f\"The accuracy of this model is {pred_accuracy*100:.2f}%\")"
   ]
  },
  {
   "cell_type": "markdown",
   "id": "78631e67",
   "metadata": {},
   "source": [
    "## 2. Classification accuracy"
   ]
  },
  {
   "cell_type": "code",
   "execution_count": 7,
   "id": "0acb76bc",
   "metadata": {},
   "outputs": [
    {
     "name": "stdout",
     "output_type": "stream",
     "text": [
      "The way they count will make an accuracy of 98.70%\n",
      "The problem is that they have 987 times when ther is no fire and what we want to messure is how many times it can predict fire\n",
      "So the accuracy of 2 correct responses from 13 situations with fire is 15.38%\n"
     ]
    }
   ],
   "source": [
    "true_positive = 2\n",
    "false_positive = 2\n",
    "false_negative = 11\n",
    "true_negative = 985\n",
    "\n",
    "# wrong way\n",
    "correct_resp = true_positive + true_negative\n",
    "all_resp = true_negative + true_positive + false_negative + false_positive\n",
    "\n",
    "pred_accuracy = correct_resp / all_resp\n",
    "\n",
    "print(f\"The way they count will make an accuracy of {pred_accuracy*100:.2f}%\")\n",
    "print(f\"The problem is that they have {false_positive+true_negative} times when ther is no fire and what we want to messure is how many times it can predict fire\")\n",
    "\n",
    "correct_resp = true_positive\n",
    "all_resp = true_positive + false_negative\n",
    "pred_accuracy = correct_resp / all_resp\n",
    "\n",
    "print(f\"So the accuracy of {correct_resp} correct responses from {all_resp} situations with fire is {pred_accuracy*100:.2f}%\")\n",
    "\n",
    "        "
   ]
  },
  {
   "cell_type": "markdown",
   "id": "b66f8139",
   "metadata": {},
   "source": [
    "## 3. File metadata - format print"
   ]
  },
  {
   "cell_type": "code",
   "execution_count": 9,
   "id": "400ddf9d",
   "metadata": {},
   "outputs": [
    {
     "name": "stdout",
     "output_type": "stream",
     "text": [
      "=== File metadata ===\n",
      "Filename: orders_data.csv\n",
      "Size (MB): 3.14\n",
      "Last Modified Year: 2024\n"
     ]
    }
   ],
   "source": [
    "filename = \"orders_data.csv\"\n",
    "file_size_mb = 3.14\n",
    "file_mod = 2024\n",
    "\n",
    "print(\"=== File metadata ===\")\n",
    "print(f\"Filename: {filename}\")\n",
    "print(f\"Size (MB): {file_size_mb}\")\n",
    "print(f\"Last Modified Year: {file_mod}\")\n"
   ]
  },
  {
   "cell_type": "markdown",
   "id": "c8443bec",
   "metadata": {},
   "source": [
    "## 4. Unit converter - inch to cm\n",
    "- Screen sizes are defined using inches for example my computer has 15'' and it corresponds to the diagonal of the screen. Let the user type in a value in inches and output the result in centimeters."
   ]
  },
  {
   "cell_type": "code",
   "execution_count": 10,
   "id": "d46300aa",
   "metadata": {},
   "outputs": [
    {
     "name": "stdout",
     "output_type": "stream",
     "text": [
      "10 inches is 25.4 cm\n"
     ]
    }
   ],
   "source": [
    "inch = 2.54\n",
    "user_inp = int(input(\"How many inches do you have?\"))\n",
    "\n",
    "print(f\"{user_inp} inches is {user_inp*inch} cm\")"
   ]
  },
  {
   "cell_type": "markdown",
   "id": "e188b3ed",
   "metadata": {},
   "source": [
    "## 5. Count characters in a text"
   ]
  },
  {
   "cell_type": "code",
   "execution_count": 12,
   "id": "21688c41",
   "metadata": {},
   "outputs": [
    {
     "name": "stdout",
     "output_type": "stream",
     "text": [
      "The text 'Hello World' is 11 characters long including spaces\n"
     ]
    }
   ],
   "source": [
    "user_txt = input(\"Write something\")\n",
    "\n",
    "nr_chr = len(user_txt)\n",
    "\n",
    "print(f\"The text '{user_txt}' is {nr_chr} characters long including spaces\")\n"
   ]
  },
  {
   "cell_type": "markdown",
   "id": "3532badb",
   "metadata": {},
   "source": [
    "## 5. Data types\n",
    "- Create variables of type bool, int, float, str and list. Then use type function and check each variables type."
   ]
  },
  {
   "cell_type": "code",
   "execution_count": 14,
   "id": "f04d3038",
   "metadata": {},
   "outputs": [
    {
     "name": "stdout",
     "output_type": "stream",
     "text": [
      "radius is a <class 'int'>\n",
      "pi is a <class 'float'>\n",
      "cool_subject is a <class 'str'>\n",
      "is_cool is a <class 'bool'>\n",
      "numbers is a <class 'list'>\n"
     ]
    }
   ],
   "source": [
    "radius = 5\n",
    "pi = 3.1415\n",
    "cool_subject = \"math\"\n",
    "is_cool = True\n",
    "numbers = [1, 2, 41, 2]\n",
    "\n",
    "print(f\"radius is a {type(radius)}\")\n",
    "print(f\"pi is a {type(pi)}\")\n",
    "print(f\"cool_subject is a {type(cool_subject)}\")\n",
    "print(f\"is_cool is a {type(is_cool)}\")\n",
    "print(f\"numbers is a {type(numbers)}\")\n",
    "\n"
   ]
  },
  {
   "cell_type": "markdown",
   "id": "d3b8b574",
   "metadata": {},
   "source": [
    "## 7. Theory\n",
    "- What is the difference between input() and print() in Python?\n",
    "Input will ask user for input and the answer will come as a string\n",
    "- What data type does the input() function return by default? How can you use it to get numeric input?\n",
    "Default is Str you can convert it using for example int()\n",
    "- Explain how formatted string literals (f-strings) improve readability in output statements. Give an example.\n",
    "It is easyer to write more floating without alot of \"\"\n",
    "\n",
    "See code-example 1 below\n",
    "\n",
    "- Can a variable change its data type during runtime in Python? Show an example.\n",
    "Yes it can. See (Code-example 2)\n",
    "\n",
    "- What does it mean that Python is \"dynamically typed\"? How is that different from statically typed languages?\n",
    "It means that the datatype can change it does not have to be decided beforehand."
   ]
  },
  {
   "cell_type": "code",
   "execution_count": null,
   "id": "483bca16",
   "metadata": {},
   "outputs": [
    {
     "name": "stdout",
     "output_type": "stream",
     "text": [
      "My pet is a dog . He is 4 years old.\n",
      "My pet is a dog. He is 4 years old.\n"
     ]
    }
   ],
   "source": [
    "# Code-example 1\n",
    "pet = \"dog\"\n",
    "pet_age = 4\n",
    "\n",
    "# Without f-string\n",
    "print(\"My pet is a\",pet,\". He is\", pet_age,\"years old.\")\n",
    "\n",
    "# With f-string\n",
    "print(f\"My pet is a {pet}. He is {pet_age} years old.\")\n"
   ]
  },
  {
   "cell_type": "code",
   "execution_count": 26,
   "id": "c402f3f9",
   "metadata": {},
   "outputs": [
    {
     "name": "stdout",
     "output_type": "stream",
     "text": [
      "This variable is <class 'int'> it is 1\n",
      "Now this variable is <class 'float'> it is 1.0\n",
      "Now this variable is <class 'str'> it is 1.0\n"
     ]
    }
   ],
   "source": [
    "unchange = 1\n",
    "\n",
    "print(f\"This variable is {type(unchange)} it is {unchange}\")\n",
    "\n",
    "unchange = float(unchange)\n",
    "\n",
    "print(f\"Now this variable is {type(unchange)} it is {unchange}\")\n",
    "\n",
    "unchange = str(unchange)\n",
    "\n",
    "print(f\"Now this variable is {type(unchange)} it is {unchange}\")"
   ]
  }
 ],
 "metadata": {
  "kernelspec": {
   "display_name": "python_DE25_Rikard_Oledal",
   "language": "python",
   "name": "python3"
  },
  "language_info": {
   "codemirror_mode": {
    "name": "ipython",
    "version": 3
   },
   "file_extension": ".py",
   "mimetype": "text/x-python",
   "name": "python",
   "nbconvert_exporter": "python",
   "pygments_lexer": "ipython3",
   "version": "3.12.10"
  }
 },
 "nbformat": 4,
 "nbformat_minor": 5
}
