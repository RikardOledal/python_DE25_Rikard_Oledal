{
 "cells": [
  {
   "cell_type": "markdown",
   "id": "1e06e7f1",
   "metadata": {},
   "source": [
    "# Exercise 1 - Count with python"
   ]
  },
  {
   "cell_type": "markdown",
   "id": "c801c02b",
   "metadata": {},
   "source": [
    "## 0. Pythagorean theorem"
   ]
  },
  {
   "cell_type": "markdown",
   "id": "fb43f70c",
   "metadata": {},
   "source": [
    "### A - A right angled triangle has the catheti: a = 3 and b = 4 length units. Compute the hypothenuse of the triangle."
   ]
  },
  {
   "cell_type": "code",
   "execution_count": null,
   "id": "970282fe",
   "metadata": {},
   "outputs": [
    {
     "name": "stdout",
     "output_type": "stream",
     "text": [
      "5.0\n"
     ]
    }
   ],
   "source": [
    "# Catheti-Variables\n",
    "catheti_A = 3\n",
    "catheti_B = 4\n",
    "\n",
    "# Hypothenuse squared\n",
    "hypothenuse_sq = catheti_A**2+catheti_B**2\n",
    "\n",
    "# Hypothenuse\n",
    "hypothenuse= hypothenuse**0.5\n",
    "\n",
    "print(hypothenuse)"
   ]
  },
  {
   "cell_type": "markdown",
   "id": "831f20dd",
   "metadata": {},
   "source": [
    "### B - A right angled triangle has hypothenuse c = 7.0 and a cathetus a = 5.0 length units. Compute the other cathetus and round to one decimal."
   ]
  },
  {
   "cell_type": "code",
   "execution_count": 10,
   "id": "d7463aed",
   "metadata": {},
   "outputs": [
    {
     "name": "stdout",
     "output_type": "stream",
     "text": [
      "Catheti B is 4.9\n"
     ]
    }
   ],
   "source": [
    "catheti_A = 5\n",
    "hypothenuse = 7\n",
    "\n",
    "hypothenuse_sq = hypothenuse**2\n",
    "catheti_A_sq = catheti_A**2\n",
    "catheti_B_sq = hypothenuse_sq-catheti_A_sq\n",
    "\n",
    "catheti_B = catheti_B_sq**0.5\n",
    "\n",
    "print(f\"Catheti B is {catheti_B:.1f}\")"
   ]
  },
  {
   "cell_type": "markdown",
   "id": "06f10b12",
   "metadata": {},
   "source": [
    "## 1. Classification accuracy"
   ]
  },
  {
   "cell_type": "code",
   "execution_count": 14,
   "id": "5e362550",
   "metadata": {},
   "outputs": [
    {
     "name": "stdout",
     "output_type": "stream",
     "text": [
      "Odd number\n"
     ]
    }
   ],
   "source": [
    "number = 50\n",
    "if not number % 2 == 0:\n",
    "    print(\"Even number\")\n",
    "else:\n",
    "    print(\"Odd number\")"
   ]
  },
  {
   "cell_type": "code",
   "execution_count": null,
   "id": "0acb76bc",
   "metadata": {},
   "outputs": [],
   "source": []
  }
 ],
 "metadata": {
  "kernelspec": {
   "display_name": "python_DE25_Rikard_Oledal",
   "language": "python",
   "name": "python3"
  },
  "language_info": {
   "codemirror_mode": {
    "name": "ipython",
    "version": 3
   },
   "file_extension": ".py",
   "mimetype": "text/x-python",
   "name": "python",
   "nbconvert_exporter": "python",
   "pygments_lexer": "ipython3",
   "version": "3.12.10"
  }
 },
 "nbformat": 4,
 "nbformat_minor": 5
}
