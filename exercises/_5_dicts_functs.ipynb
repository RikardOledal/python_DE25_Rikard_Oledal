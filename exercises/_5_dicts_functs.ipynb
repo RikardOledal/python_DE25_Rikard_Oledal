{
 "cells": [
  {
   "cell_type": "markdown",
   "id": "48cb8f53",
   "metadata": {},
   "source": [
    "# Exercise 5 - dictionary and functions\n",
    "\n",
    "In this exercise, you get to familiarize yourself with strings, file handling, error handling and strings. This exercise covers 10-11"
   ]
  },
  {
   "cell_type": "markdown",
   "id": "dec9b4b4",
   "metadata": {},
   "source": [
    "## 0. Area (\\*)\n",
    "\n",
    "Create a function that takes the base and height of a triangle as input parameters and returns the area of the triangle."
   ]
  },
  {
   "cell_type": "code",
   "execution_count": 2,
   "id": "73fb8e3e",
   "metadata": {},
   "outputs": [
    {
     "name": "stdout",
     "output_type": "stream",
     "text": [
      "5.0\n",
      "25.0\n",
      "42.0\n"
     ]
    }
   ],
   "source": [
    "def tri_area(base, height):\n",
    "    area = (base*height)/2\n",
    "    return area\n",
    "\n",
    "Tri1 = tri_area(5,2)\n",
    "Tri2 = tri_area(10,5)\n",
    "Tri3 = tri_area(12,7)\n",
    "\n",
    "print(Tri1)\n",
    "print(Tri2)\n",
    "print(Tri3)"
   ]
  },
  {
   "cell_type": "markdown",
   "id": "8f2b4d2b",
   "metadata": {},
   "source": [
    "## 1. Euclidean distance (\\*)\n",
    "\n",
    "The formula for Euclidean distance in 2D between $P: (p_1, p_2)$ and $Q: (q_1, q_2)$ is:\n",
    "\n",
    "$d(P,Q) = \\sqrt{(p_1-q_1)^2 + (p_2-q_2)^2}$\n",
    "\n",
    "a) Create a function that takes two points as input parameters and return the Euclidean between them. (\\*)\n",
    "\n",
    "b) Let the user input two points. Call the function using the users input points. (\\*)\n",
    "\n",
    "c) Use your function to calculate distances between the origin (0, 0) and each of these points: (10, 3), (-1, -9), (10, -10), (4, -2), (9, -10). (\\*)\n",
    "\n",
    "---\n",
    "\n"
   ]
  },
  {
   "cell_type": "code",
   "execution_count": null,
   "id": "69a53915",
   "metadata": {},
   "outputs": [
    {
     "data": {
      "text/plain": [
       "4.242640687119285"
      ]
     },
     "execution_count": 13,
     "metadata": {},
     "output_type": "execute_result"
    }
   ],
   "source": [
    "import math\n",
    "\n",
    "# a)\n",
    "\n",
    "def euclidean_dist(point1:tuple, point2:tuple):\n",
    "    kord1_x = point1[0]\n",
    "    kord1_y = point1[1]\n",
    "    kord2_x = point2[0]\n",
    "    kord2_y = point2[1]\n",
    "    kord_diff_x = kord1_x-kord2_x\n",
    "    kord_diff_y = kord1_y-kord2_y\n",
    "    squ_diff_x = kord_diff_x ** 2\n",
    "    squ_diff_y = kord_diff_y ** 2\n",
    "    squ_diff_sum = squ_diff_x + squ_diff_y\n",
    "    distans = math.sqrt(squ_diff_sum)\n",
    "    return distans\n",
    "\n",
    "euclidean_dist((5,6),(2,3))"
   ]
  },
  {
   "cell_type": "code",
   "execution_count": null,
   "id": "3866a245",
   "metadata": {},
   "outputs": [
    {
     "data": {
      "text/plain": [
       "4.242640687119285"
      ]
     },
     "execution_count": 41,
     "metadata": {},
     "output_type": "execute_result"
    }
   ],
   "source": [
    "# b)\n",
    "\n",
    "point_cell = []\n",
    "kords = []\n",
    "kord_nr = 1\n",
    "\n",
    "\n",
    "while len(kords) < 2:\n",
    "    koord_ans = input(f\"Please insert your {kord_nr} koordinate\")\n",
    "    if koord_ans.isdigit():\n",
    "        koord_ans = int(koord_ans)\n",
    "        point_cell.append(koord_ans)\n",
    "        kord_nr += 1\n",
    "        if len(point_cell) == 2:\n",
    "            point_cell = tuple(point_cell)\n",
    "            kords.append(point_cell)\n",
    "            point_cell = []\n",
    "\n",
    "euclidean_dist(kords[0],kords[1])"
   ]
  },
  {
   "cell_type": "code",
   "execution_count": 40,
   "id": "b66b3e0f",
   "metadata": {},
   "outputs": [
    {
     "data": {
      "text/plain": [
       "[(2, 4), (6, 8)]"
      ]
     },
     "execution_count": 40,
     "metadata": {},
     "output_type": "execute_result"
    }
   ],
   "source": [
    "kords"
   ]
  },
  {
   "cell_type": "markdown",
   "id": "24051014",
   "metadata": {},
   "source": [
    "## 2. Mathematical functions (\\*)\n",
    "\n",
    "Make the following functions with **def** or **lambda** and plot their graphs in the same figure window, with $x\\in [-10,10]$ :\n",
    "\n",
    "a) $f(x) = x^2 -3$ (\\*)\n",
    "\n",
    "b) $g(x) = 4x-7$ (\\*)\n",
    "\n",
    "What could the relation between $f(x)$ and $g(x)$ be?\n",
    "\n",
    "---\n",
    "\n"
   ]
  },
  {
   "cell_type": "markdown",
   "id": "8b3d3414",
   "metadata": {},
   "source": []
  },
  {
   "cell_type": "markdown",
   "id": "f8fc81f1",
   "metadata": {},
   "source": [
    "## 3. Name cleaner (\\*)\n",
    "\n",
    "Create a function that takes a name as an input and:\n",
    "\n",
    "- removes all leading and trailing blank spaces\n",
    "- make capitalize the first character of each name, and make the rest lowercase\n",
    "\n",
    "Use your function on this list of strings:\n",
    "\n",
    "```\n",
    "[\"  MaRcUs \", \" iDA aNderSon\", \"OLOF Olofsson            \"  ]\n",
    "```\n",
    "\n",
    "---\n",
    "\n"
   ]
  },
  {
   "cell_type": "markdown",
   "id": "d42976ae",
   "metadata": {},
   "source": [
    "## 4. Change (\\*\\*)\n",
    "\n",
    "Create a function that takes a value as input parameter and print out the banknotes and coins in Swedish currency representing this value. For example 5289 would give the following printout:\n",
    "\n",
    "- 5st 1000-lapp\n",
    "- 1st 200-lapp\n",
    "- 1st 50-lapp\n",
    "- 1st 20-lapp\n",
    "- 1st 10-krona\n",
    "- 1st 5-krona\n",
    "- 2st 2-krona\n",
    "\n",
    "Now let the user input a value, and use the function to calculate the change.\n",
    "\n"
   ]
  },
  {
   "cell_type": "markdown",
   "id": "be15c564",
   "metadata": {},
   "source": [
    "## 5. Curriculum (\\*)\n",
    "\n",
    "Create a dictionary containing all the courses that you will study in this program, with the course names as **keys** and the amount of points as **value**. Then calculate the number of points that you will study in total. (\\*)\n",
    "\n"
   ]
  },
  {
   "cell_type": "markdown",
   "id": "827dcc4d",
   "metadata": {},
   "source": [
    "## 6. Dice simulation (\\*)\n",
    "\n",
    "Simulate 1000000 dice rolls and save the number of ones, twos, ..., sixes in a dictionary. Then print them out in the terminal. (\\*)\n",
    "\n"
   ]
  },
  {
   "cell_type": "markdown",
   "id": "ec6b9748",
   "metadata": {},
   "source": [
    "## 7. Pokemon list (\\*)\n",
    "\n",
    "Read in the file pokemon_list.txt in Python. Create a variable with name pokedex with the key:value **\"pokemon\":\"type, index\"**. For example when searching for the keys \"Gengar\" and \"Pikachu\": (\\*)\n",
    "\n",
    "```python\n",
    "\n",
    "print(pokedex[\"Gengar\"])\n",
    "print(pokedex[\"Pikachu\"])\n",
    "\n",
    "Spöke/Gift, 94\n",
    "Elektrisk, 25\n",
    "```\n",
    "\n"
   ]
  },
  {
   "cell_type": "markdown",
   "id": "e00dd011",
   "metadata": {},
   "source": [
    "## 8. Morse code (\\*\\*)\n",
    "\n",
    "Read in the file morse.txt, save it in a dictionary and create a function that lets the user input a message to get it translated to morse code. For example (\\*\\*)\n",
    "\n",
    "```python\n",
    "\n",
    "print(morse(\"SOS\"))\n",
    "print(morse(\"POKEMON\"))\n",
    "```\n",
    "\n",
    "```\n",
    "...---...\n",
    ".------.-.------.\n",
    "```\n",
    "\n"
   ]
  },
  {
   "cell_type": "markdown",
   "id": "2703c455",
   "metadata": {},
   "source": [
    "## 9. Theory\n",
    "\n",
    "a) What is a function in Python, and why is it used?\n",
    "\n",
    "b) Explain the difference between parameters and arguments.\n",
    "\n",
    "c) What is the difference between \\*args and \\*\\*kwargs in a function definition?\n",
    "\n",
    "d) What is the difference between a regular function and a lambda function in Python?\n",
    "\n",
    "e) Explain the purpose of the get() method. How is it different from accessing a key directly?\n",
    "\n",
    "f) What is the difference between .keys(), .values(), and .items() methods?\n",
    "\n",
    "g) Can dictionary keys be mutable types like lists or other dictionaries? Why or why not?\n",
    "\n"
   ]
  },
  {
   "cell_type": "markdown",
   "id": "a6f110da",
   "metadata": {},
   "source": [
    "## Glossary\n",
    "\n",
    "Fill in this table either by copying this into your own markdown file or copy it into a spreadsheet if you feel that is easier to work with.\n",
    "\n",
    "| terminology          | explanation |\n",
    "| -------------------- | ----------- |\n",
    "| def                  |             |\n",
    "| function call        |             |\n",
    "| argument             |             |\n",
    "| return statement     |             |\n",
    "| parameter            |             |\n",
    "| default parameter    |             |\n",
    "| keyword arguments    |             |\n",
    "| variable arguments   |             |\n",
    "| positional arguments |             |\n",
    "| lambda functions     |             |\n",
    "| dict()               |             |\n",
    "| get()                |             |\n",
    "| items()              |             |\n",
    "| in operator          |             |\n",
    "| del                  |             |\n",
    "| update()             |             |"
   ]
  },
  {
   "cell_type": "markdown",
   "id": "7f449e74",
   "metadata": {},
   "source": []
  }
 ],
 "metadata": {
  "kernelspec": {
   "display_name": "python_DE25_Rikard_Oledal",
   "language": "python",
   "name": "python3"
  },
  "language_info": {
   "codemirror_mode": {
    "name": "ipython",
    "version": 3
   },
   "file_extension": ".py",
   "mimetype": "text/x-python",
   "name": "python",
   "nbconvert_exporter": "python",
   "pygments_lexer": "ipython3",
   "version": "3.12.10"
  }
 },
 "nbformat": 4,
 "nbformat_minor": 5
}
