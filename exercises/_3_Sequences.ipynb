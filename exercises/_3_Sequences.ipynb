{
 "cells": [
  {
   "cell_type": "markdown",
   "id": "ee46da19",
   "metadata": {},
   "source": [
    "# Exercise 3 - sequences\n",
    "\n",
    "In this exercise, you get to familiarize yourself with sequences in Python."
   ]
  },
  {
   "cell_type": "markdown",
   "id": "39a01f2e",
   "metadata": {},
   "source": [
    "## 0. Dice rolls (\\*)\n",
    "\n",
    "Simulate 10 dice rolls and **append** the rolls to a list. Do this once again but now use **list comprehension** instead to create the list.\n",
    "\n",
    "a) sort the list in **ascending** order (\\*)\n",
    "\n",
    "b) sort the list in **descending** order (\\*)\n",
    "\n",
    "c) find the **maximum** and **minimum** value in the list (\\*)\n",
    "\n",
    "d) calculate the **mean** (average) of the list (\\*)\n",
    "\n",
    "e) find the **median** of the list (\\*)\n",
    "\n",
    "f) extract only the unique values from the list. The output should be a list (\\*)"
   ]
  },
  {
   "cell_type": "code",
   "execution_count": 9,
   "id": "b06d5fc1",
   "metadata": {},
   "outputs": [
    {
     "name": "stdout",
     "output_type": "stream",
     "text": [
      "[3, 3, 4, 1, 1, 2, 6, 6, 4, 4]\n"
     ]
    }
   ],
   "source": [
    "import random as rnd\n",
    "\n",
    "dice = 1\n",
    "dicelist = []\n",
    "\n",
    "for i in range(10):\n",
    "    dice = rnd.randint(1,6)\n",
    "    dicelist.append(dice)\n",
    "\n",
    "print(dicelist)\n"
   ]
  },
  {
   "cell_type": "code",
   "execution_count": 17,
   "id": "3315e026",
   "metadata": {},
   "outputs": [
    {
     "data": {
      "text/plain": [
       "[3, 5, 5, 6, 6, 4, 3, 1, 3, 3]"
      ]
     },
     "execution_count": 17,
     "metadata": {},
     "output_type": "execute_result"
    }
   ],
   "source": [
    "import random as rnd\n",
    "\n",
    "dicelist_co =[x*0+rnd.randint(1,6) for x in range(1,11)]\n",
    "\n",
    "dicelist_co"
   ]
  },
  {
   "cell_type": "code",
   "execution_count": 18,
   "id": "2371276e",
   "metadata": {},
   "outputs": [
    {
     "name": "stdout",
     "output_type": "stream",
     "text": [
      "[1, 1, 2, 3, 3, 4, 4, 4, 6, 6]\n"
     ]
    }
   ],
   "source": [
    "# a) sort the list in ascending order\n",
    "\n",
    "dicelist.sort()\n",
    "\n",
    "print(dicelist)"
   ]
  },
  {
   "cell_type": "code",
   "execution_count": null,
   "id": "961909c9",
   "metadata": {},
   "outputs": [
    {
     "name": "stdout",
     "output_type": "stream",
     "text": [
      "[6, 6, 6, 5, 5, 4, 3, 3, 3, 1]\n"
     ]
    }
   ],
   "source": [
    "# b) sort the list in descending order\n",
    "\n",
    "dicelist.sort(reverse=True)\n",
    "\n",
    "print(dicelist)"
   ]
  },
  {
   "cell_type": "code",
   "execution_count": 6,
   "id": "fbf6cd16",
   "metadata": {},
   "outputs": [
    {
     "name": "stdout",
     "output_type": "stream",
     "text": [
      "Max is 6 and minimum is 1\n"
     ]
    }
   ],
   "source": [
    "# c) find the maximum and minimum value in the list\n",
    "\n",
    "dice_max = max(dicelist)\n",
    "dice_min = min(dicelist)\n",
    "\n",
    "print(f\"Max is {dice_max} and minimum is {dice_min}\")"
   ]
  },
  {
   "cell_type": "code",
   "execution_count": 12,
   "id": "6a864919",
   "metadata": {},
   "outputs": [
    {
     "name": "stdout",
     "output_type": "stream",
     "text": [
      "The avarage of the dices are 4.2\n"
     ]
    }
   ],
   "source": [
    "# d) calculate the mean (average) of the list\n",
    "\n",
    "dice_sum = 0\n",
    "\n",
    "for dices in dicelist:\n",
    "    dice_sum += dices\n",
    "\n",
    "dice_avg = dice_sum / len(dicelist)\n",
    "\n",
    "print(f\"The avarage of the dices are {dice_avg}\")\n"
   ]
  },
  {
   "cell_type": "code",
   "execution_count": 36,
   "id": "81bd3e4b",
   "metadata": {},
   "outputs": [
    {
     "name": "stdout",
     "output_type": "stream",
     "text": [
      "The median of the list is 4.5\n"
     ]
    }
   ],
   "source": [
    "# e) find the median of the list\n",
    "\n",
    "dicelist.sort()\n",
    "\n",
    "if len(dicelist) % 2 == 0:    \n",
    "    dice_med = (dicelist[int(len(dicelist) / 2)] + dicelist[int(len(dicelist) / 2)-1]) / 2\n",
    "else:\n",
    "    dice_med = dicelist[round(len(dicelist) / 2)]\n",
    "\n",
    "print(f\"The median of the list is {dice_med}\")"
   ]
  },
  {
   "cell_type": "code",
   "execution_count": 47,
   "id": "bf47c540",
   "metadata": {},
   "outputs": [
    {
     "name": "stdout",
     "output_type": "stream",
     "text": [
      "Dicelist = [1, 3, 3, 3, 4, 5, 5, 6, 6, 6]\n",
      "Unique values = [1, 4]\n",
      "Not unique values = [3, 3, 3, 5, 5, 6, 6, 6]\n"
     ]
    }
   ],
   "source": [
    "# f) extract only the unique values from the list. The output should be a list (*)\n",
    "dicelist= [6, 6, 6, 3, 4, 3, 5, 5, 1, 3]\n",
    "dice_unique = []\n",
    "dice_not_unique = []\n",
    "\n",
    "\n",
    "for dices in dicelist:\n",
    "    if dicelist.count(dices) == 1:\n",
    "        dice_unique.append(dices)\n",
    "    else:\n",
    "        dice_not_unique.append(dices)\n",
    "\n",
    "dicelist.sort()\n",
    "dice_not_unique.sort()\n",
    "dice_unique.sort()\n",
    "\n",
    "print(f\"Dicelist = {dicelist}\")\n",
    "print(f\"Unique values = {dice_unique}\")\n",
    "print(f\"Not unique values = {dice_not_unique}\")"
   ]
  },
  {
   "cell_type": "markdown",
   "id": "1b2be3af",
   "metadata": {},
   "source": [
    "## 1. Food menu (\\*)\n",
    "\n",
    "Create a:\n",
    "\n",
    "a) **list** with the following elements: \"vegetarian lasagna\", \"spaghetti\", \"fish\", \"soup\", \"pancakes\". (\\*)\n",
    "\n",
    "b) **list** with the weekdays (\\*)\n",
    "\n",
    "c) create a food menu with each day corresponding to each food item and print it out like this (\\*)\n",
    "\n",
    "```bash\n",
    "Day        Food\n",
    "-----------------\n",
    "Monday     vegetarian lasagna\n",
    "Tuesday    spaghetti\n",
    "Wednesday  fish\n",
    "Thursday   soup\n",
    "Friday     pancakes\n",
    "```"
   ]
  },
  {
   "cell_type": "code",
   "execution_count": 84,
   "id": "e7c32977",
   "metadata": {},
   "outputs": [
    {
     "name": "stdout",
     "output_type": "stream",
     "text": [
      "Day                 Food\n",
      "-----------------\n",
      "Monday              Vegetarian lasagna\n",
      "Tuesday             Spaghetti\n",
      "Wednesday           Fish\n",
      "Thursday            Soup\n",
      "Friday              Pancakes\n"
     ]
    }
   ],
   "source": [
    "foods = [\"vegetarian lasagna\", \"spaghetti\", \"fish\", \"soup\", \"pancakes\"]\n",
    "weekdays = [\"Monday\",\"Tuesday\",\"Wednesday\",\"Thursday\",\"Friday\"]\n",
    "\n",
    "print(f\"{'Day':20}Food\")\n",
    "print(\"-----------------\")\n",
    "\n",
    "for day, food in zip(weekdays, foods):\n",
    "    print(f\"{day:20s}{food.capitalize()}\")"
   ]
  },
  {
   "cell_type": "markdown",
   "id": "42d44d95",
   "metadata": {},
   "source": [
    "## 2. Squares (\\*)\n",
    "\n",
    "a) Use **list comprehension** to create a list of squares from -10 to 10 (\\*)\n",
    "\n",
    "b) Plot this list using **matplotlib**. (\\*)\n",
    "\n"
   ]
  },
  {
   "cell_type": "code",
   "execution_count": null,
   "id": "df96be1c",
   "metadata": {},
   "outputs": [
    {
     "data": {
      "text/plain": [
       "[100, 81, 64, 49, 36, 25, 16, 9, 4, 1, 0, 1, 4, 9, 16, 25, 36, 49, 64, 81, 100]"
      ]
     },
     "execution_count": 8,
     "metadata": {},
     "output_type": "execute_result"
    }
   ],
   "source": [
    "# a)\n",
    "\n",
    "squer = [x**2 for x in range(-10,11)]\n",
    "\n",
    "squer"
   ]
  },
  {
   "cell_type": "code",
   "execution_count": null,
   "id": "a67bc91d",
   "metadata": {},
   "outputs": [
    {
     "data": {
      "text/plain": [
       "[Text(0.5, 0, 'number'), Text(0, 0.5, 'sque'), Text(0.5, 1.0, 'Squerer')]"
      ]
     },
     "execution_count": 21,
     "metadata": {},
     "output_type": "execute_result"
    },
    {
     "data": {
      "image/png": "[encoded data removed]",
      "text/plain": [
       "<Figure size 640x480 with 1 Axes>"
      ]
     },
     "metadata": {},
     "output_type": "display_data"
    }
   ],
   "source": [
    "import matplotlib.pyplot as plt\n",
    "\n",
    "# b)\n",
    "\n",
    "squer = [x**2 for x in range(-10,11)]\n",
    "x = [x for x in range(-10,11)]\n",
    "\n",
    "fig, ax = plt.subplots(1)\n",
    "\n",
    "ax.plot(x, squer)\n",
    "ax.set(xlabel=\"number\", ylabel=\"sque\",title=\"Squerer\")"
   ]
  },
  {
   "cell_type": "markdown",
   "id": "237f092c",
   "metadata": {},
   "source": [
    "## 3. Chessboard (\\*\\*)\n",
    "\n",
    "a) Create this list using **list comprehension**: (\\*)\n",
    "\n",
    "```python\n",
    "['A1', 'B1', 'C1', 'D1', 'E1', 'F1', 'G1', 'H1']\n",
    "```\n",
    "\n",
    "b) Create a 2D list to hold the coordinates in a chessboard like this (\\*\\*)\n",
    "\n",
    "```\n",
    "[[A1, B1, C1, D1, E1, F1, G1, H1],\n",
    " [A2, B2, C2, D2, E2, F2, G2, H2],\n",
    " [A3, B3, C3, D3, E3, F3, G3, H3],\n",
    " [A4, B4, C4, D4, E4, F4, G4, H4],\n",
    " [A5, B5, C5, D5, E5, F5, G5, H5],\n",
    " [A6, B6, C6, D6, E6, F6, G6, H6],\n",
    " [A7, B7, C7, D7, E7, F7, G7, H7],\n",
    " [A8, B8, C8, D8, E8, F8, G8 ,H8]]\n",
    "```\n",
    "\n",
    "c) Instead of lists use tuples to hold the coordinates in a chessboard like this (\\*\\*)\n",
    "\n",
    "```\n",
    "((\"A\",1),(\"B\",1),(\"C\",1),(\"D\",1),(\"E\",1),(\"F\",1),(\"G\",1),(\"H\",1)),\n",
    "((\"A\",2),(\"B\",2),(\"C\",2),(\"D\",2),(\"E\",2),(\"F\",2),(\"G\",2),(\"H\",2)),\n",
    "((\"A\",3),(\"B\",3),(\"C\",3),(\"D\",3),(\"E\",3),(\"F\",3),(\"G\",3),(\"H\",3)),\n",
    "((\"A\",4),(\"B\",4),(\"C\",4),(\"D\",4),(\"E\",4),(\"F\",4),(\"G\",4),(\"H\",4)),\n",
    "((\"A\",5),(\"B\",5),(\"C\",5),(\"D\",5),(\"E\",5),(\"F\",5),(\"G\",5),(\"H\",5)),\n",
    "((\"A\",6),(\"B\",6),(\"C\",6),(\"D\",6),(\"E\",6),(\"F\",6),(\"G\",6),(\"H\",6)),\n",
    "((\"A\",7),(\"B\",7),(\"C\",7),(\"D\",7),(\"E\",7),(\"F\",7),(\"G\",7),(\"H\",7)),\n",
    "((\"A\",8),(\"B\",8),(\"C\",8),(\"D\",8),(\"E\",8),(\"F\",8),(\"G\",8),(\"H\",8))\n",
    "```\n",
    "\n"
   ]
  },
  {
   "cell_type": "code",
   "execution_count": null,
   "id": "90d03059",
   "metadata": {},
   "outputs": [
    {
     "data": {
      "text/plain": [
       "['A1', 'B1', 'C1', 'D1', 'E1', 'F1', 'G1', 'H1']"
      ]
     },
     "execution_count": 26,
     "metadata": {},
     "output_type": "execute_result"
    }
   ],
   "source": [
    "import string\n",
    "\n",
    "# a)\n",
    "\n",
    "letters = string.ascii_uppercase\n",
    "\n",
    "letter_ls = [letters[x]+\"1\" for x in range(8)]\n",
    "\n",
    "letter_ls"
   ]
  },
  {
   "cell_type": "code",
   "execution_count": 33,
   "id": "0e230ae7",
   "metadata": {},
   "outputs": [
    {
     "data": {
      "text/plain": [
       "[['A1', 'B1', 'C1', 'D1', 'E1', 'F1', 'G1', 'H1'],\n",
       " ['A2', 'B2', 'C2', 'D2', 'E2', 'F2', 'G2', 'H2'],\n",
       " ['A3', 'B3', 'C3', 'D3', 'E3', 'F3', 'G3', 'H3'],\n",
       " ['A4', 'B4', 'C4', 'D4', 'E4', 'F4', 'G4', 'H4'],\n",
       " ['A5', 'B5', 'C5', 'D5', 'E5', 'F5', 'G5', 'H5'],\n",
       " ['A6', 'B6', 'C6', 'D6', 'E6', 'F6', 'G6', 'H6'],\n",
       " ['A7', 'B7', 'C7', 'D7', 'E7', 'F7', 'G7', 'H7'],\n",
       " ['A8', 'B8', 'C8', 'D8', 'E8', 'F8', 'G8', 'H8']]"
      ]
     },
     "execution_count": 33,
     "metadata": {},
     "output_type": "execute_result"
    }
   ],
   "source": [
    "import string\n",
    "\n",
    "# b)\n",
    "\n",
    "letters = string.ascii_uppercase\n",
    "\n",
    "chessbord_ls = []\n",
    "\n",
    "for y in range(1,9):\n",
    "    letter_ls = [letters[x]+f\"{y}\" for x in range(8)]\n",
    "    chessbord_ls.append(letter_ls)\n",
    "\n",
    "chessbord_ls"
   ]
  },
  {
   "cell_type": "code",
   "execution_count": 42,
   "id": "ba011896",
   "metadata": {},
   "outputs": [
    {
     "name": "stdout",
     "output_type": "stream",
     "text": [
      "(('A', '1'), ('B', '1'), ('C', '1'), ('D', '1'), ('E', '1'), ('F', '1'), ('G', '1'), ('H', '1'))\n",
      "(('A', '2'), ('B', '2'), ('C', '2'), ('D', '2'), ('E', '2'), ('F', '2'), ('G', '2'), ('H', '2'))\n",
      "(('A', '3'), ('B', '3'), ('C', '3'), ('D', '3'), ('E', '3'), ('F', '3'), ('G', '3'), ('H', '3'))\n",
      "(('A', '4'), ('B', '4'), ('C', '4'), ('D', '4'), ('E', '4'), ('F', '4'), ('G', '4'), ('H', '4'))\n",
      "(('A', '5'), ('B', '5'), ('C', '5'), ('D', '5'), ('E', '5'), ('F', '5'), ('G', '5'), ('H', '5'))\n",
      "(('A', '6'), ('B', '6'), ('C', '6'), ('D', '6'), ('E', '6'), ('F', '6'), ('G', '6'), ('H', '6'))\n",
      "(('A', '7'), ('B', '7'), ('C', '7'), ('D', '7'), ('E', '7'), ('F', '7'), ('G', '7'), ('H', '7'))\n",
      "(('A', '8'), ('B', '8'), ('C', '8'), ('D', '8'), ('E', '8'), ('F', '8'), ('G', '8'), ('H', '8'))\n"
     ]
    }
   ],
   "source": [
    "import string\n",
    "\n",
    "# c)\n",
    "\n",
    "letters = string.ascii_uppercase\n",
    "\n",
    "chessbord_tp = []\n",
    "\n",
    "for y in range(1,9):\n",
    "    letter_tp = [(letters[x], f\"{y}\") for x in range(8)]\n",
    "    letter_tp = tuple(letter_tp)\n",
    "    chessbord_tp.append(letter_tp)\n",
    "\n",
    "for x in chessbord_tp:\n",
    "    print(x)"
   ]
  },
  {
   "cell_type": "markdown",
   "id": "3eaae0bc",
   "metadata": {},
   "source": [
    "## 4. Dice rolls convergence (\\*\\*)\n",
    "\n",
    "Simulate:\n",
    "\n",
    "a) 100 dice rolls and count the number of outcome six. (\\*)\n",
    "\n",
    "b) 10, 100, 1000, 10000, 100000, 1000000 dice rolls. Count the number of outcome six in each simulation and store it in a list. Compute the probability of outcome six in each simulation. (\\*\\*)\n",
    "\n",
    "c) Use matplotlib to plot this list. (\\*)\n",
    "\n"
   ]
  },
  {
   "cell_type": "code",
   "execution_count": 69,
   "id": "66e26550",
   "metadata": {},
   "outputs": [
    {
     "name": "stdout",
     "output_type": "stream",
     "text": [
      "Of 100 rolls 18 was sixes\n"
     ]
    }
   ],
   "source": [
    "import random as rnd\n",
    "\n",
    "# a)\n",
    "\n",
    "diceroll = [x*0+rnd.randint(1, 6) for x in range(1, 101)]\n",
    "\n",
    "diceroll.count(6)\n",
    "\n",
    "print(f\"Of {len(diceroll)} rolls {diceroll.count(6)} was sixes\")"
   ]
  },
  {
   "cell_type": "code",
   "execution_count": null,
   "id": "a8778a8a",
   "metadata": {},
   "outputs": [
    {
     "name": "stdout",
     "output_type": "stream",
     "text": [
      "[3, 18, 149, 1634, 16550, 166492]\n",
      "[10, 100, 1000, 10000, 100000, 1000000]\n",
      "[0.3, 0.18, 0.149, 0.1634, 0.1655, 0.166492]\n"
     ]
    }
   ],
   "source": [
    "import random as rnd\n",
    "\n",
    "# b)\n",
    "\n",
    "diceroll = [x*0+rnd.randint(1, 6) for x in range(1, 1000001)]\n",
    "rolled_d = []\n",
    "sixes = []\n",
    "rolls = []\n",
    "probobility = []\n",
    "\n",
    "i=1\n",
    "\n",
    "for x in diceroll:\n",
    "    if i == 10:\n",
    "        rolled_d.append(x)\n",
    "        sixes.append(rolled_d.count(6))\n",
    "        rolls.append(len(rolled_d))\n",
    "        prob_f = rolled_d.count(6)/len(rolled_d)\n",
    "        probobility.append(prob_f)\n",
    "        i += 1\n",
    "    elif i == 100:\n",
    "        rolled_d.append(x)\n",
    "        sixes.append(rolled_d.count(6))\n",
    "        rolls.append(len(rolled_d))\n",
    "        prob_f = rolled_d.count(6)/len(rolled_d)\n",
    "        probobility.append(prob_f)\n",
    "        i += 1\n",
    "    elif i == 1000:\n",
    "        rolled_d.append(x)\n",
    "        sixes.append(rolled_d.count(6))\n",
    "        rolls.append(len(rolled_d))    \n",
    "        prob_f = rolled_d.count(6)/len(rolled_d)\n",
    "        probobility.append(prob_f)\n",
    "        i += 1\n",
    "    elif i == 10000:\n",
    "        rolled_d.append(x)\n",
    "        sixes.append(rolled_d.count(6))\n",
    "        rolls.append(len(rolled_d))        \n",
    "        prob_f = rolled_d.count(6)/len(rolled_d)\n",
    "        probobility.append(prob_f)\n",
    "        i += 1\n",
    "    elif i == 100000:\n",
    "        rolled_d.append(x)\n",
    "        sixes.append(rolled_d.count(6))\n",
    "        rolls.append(len(rolled_d))\n",
    "        prob_f = rolled_d.count(6)/len(rolled_d)\n",
    "        probobility.append(prob_f)\n",
    "        i += 1\n",
    "    elif i == 1000000:\n",
    "        rolled_d.append(x)\n",
    "        sixes.append(rolled_d.count(6))\n",
    "        rolls.append(len(rolled_d))\n",
    "        prob_f = rolled_d.count(6)/len(rolled_d)\n",
    "        probobility.append(prob_f)\n",
    "        i += 1\n",
    "    else:\n",
    "        rolled_d.append(x)\n",
    "        i += 1\n",
    "\n",
    "print(sixes)\n",
    "print(rolls)\n",
    "\n",
    "print(probobility)\n"
   ]
  },
  {
   "cell_type": "code",
   "execution_count": 89,
   "id": "01be34c6",
   "metadata": {},
   "outputs": [
    {
     "data": {
      "text/plain": [
       "[Text(0.5, 0, 'Rolls'),\n",
       " Text(0, 0.5, 'Sixes'),\n",
       " Text(0.5, 1.0, 'Numbers of sixes')]"
      ]
     },
     "execution_count": 89,
     "metadata": {},
     "output_type": "execute_result"
    },
    {
     "data": {
      "image/png": "[encoded data removed]",
      "text/plain": [
       "<Figure size 640x480 with 1 Axes>"
      ]
     },
     "metadata": {},
     "output_type": "display_data"
    }
   ],
   "source": [
    "import matplotlib.pyplot as plt\n",
    "\n",
    "# c)\n",
    "\n",
    "fig, ax = plt.subplots(1)\n",
    "\n",
    "ax.plot(sixes, rolls)\n",
    "ax.set(xlabel=\"Rolls\", ylabel=\"Sixes\",title=\"Numbers of sixes\")"
   ]
  },
  {
   "cell_type": "markdown",
   "id": "9125b060",
   "metadata": {},
   "source": [
    "## 5. Monte Carlo simulation (\\*\\*\\*)\n",
    "\n",
    "a) Simulate 5000 uniformly distributed points between -1 and 1, $X\\sim U(-1,1)$. Now calculate the Euclidean distances between each point and the origin (0,0), $d_i = \\sqrt{x_i^2 + y_i^2}$. For $d_i < 1$ plot the point with one color, and for $d_i > 1$ plot the point in another color, $i = \\{1,\\ldots, 5000\\}$. (\\*\\*)\n",
    "\n",
    "b) Calculate the fraction between number of inner points and number of outer points. What do you this will converge to when number of points reaches infinity? (\\*\\*)\n",
    "\n"
   ]
  },
  {
   "cell_type": "markdown",
   "id": "6b32f8c3",
   "metadata": {},
   "source": [
    "## 6. A cute rabbit among two ferocious snakes (\\*\\*\\*)\n",
    "\n",
    "There are three identical doors, behind two of them, there are ferocious snakes and behind one of them is a cute little rabbit. Your aim is to pick a door and get the cute rabbit. You start picking one door randomly and suddenly another door opens and snake slithers away _pssss_. Now you have a choice to either stay with your door or change to the remaining door.\n",
    "\n",
    "<img src=\"https://github.com/kokchun/assets/blob/main/python/snakes_rabbits.png?raw=true\" width = 200>\n",
    "\n",
    "a) What is your choice and why? (\\*\\*)\n",
    "\n",
    "b) Randomly assign which door has the rabbit, and randomly pick an initial door. Now simulate 10, 100, 1000, 10000, 100000, 1000000 times for staying and for switching doors. Calculate the proportion of finding the rabbits for each set of simulations. Plot the results (\\*\\*)\n",
    "\n"
   ]
  },
  {
   "cell_type": "markdown",
   "id": "5f5bbdd5",
   "metadata": {},
   "source": [
    "## 7. Theory\n",
    "\n",
    "a) What is a sequence in Python? Give examples of sequence types.\n",
    "\n",
    "b) What is the difference between a list and a tuple?\n",
    "\n",
    "c) How does indexing work in Python sequences? What happens if you use a negative index?\n",
    "\n",
    "d) How does Python handle out-of-range indices in slicing vs indexing?\n",
    "\n",
    "e) Which of the following sequence types are mutable: list, tuple, str, range?\n",
    "\n",
    "f) What is sequence unpacking? Provide an example.\n",
    "\n",
    "g) What are some common use cases for enumerate() and zip() when working with sequences?\n",
    "\n",
    "h) What is the difference between sorted() and .sort() in lists?\n",
    "\n"
   ]
  },
  {
   "cell_type": "markdown",
   "id": "8e63e79b",
   "metadata": {},
   "source": [
    "## Glossary\n",
    "\n",
    "Fill in this table either by copying this into your own markdown file or copy it into a spreadsheet if you feel that is easier to work with.\n",
    "\n",
    "| terminology     | explanation |\n",
    "| --------------- | ----------- |\n",
    "| sequence        |             |\n",
    "| list            |             |\n",
    "| tuple           |             |\n",
    "| set             |             |\n",
    "| range           |             |\n",
    "| indexing        |             |\n",
    "| slicing         |             |\n",
    "| comprehension   |             |\n",
    "| zip             |             |\n",
    "| enumermate      |             |\n",
    "| unpacking       |             |\n",
    "| membership test |             |\n",
    "|                 |             |"
   ]
  }
 ],
 "metadata": {
  "kernelspec": {
   "display_name": "python_DE25_Rikard_Oledal",
   "language": "python",
   "name": "python3"
  },
  "language_info": {
   "codemirror_mode": {
    "name": "ipython",
    "version": 3
   },
   "file_extension": ".py",
   "mimetype": "text/x-python",
   "name": "python",
   "nbconvert_exporter": "python",
   "pygments_lexer": "ipython3",
   "version": "3.12.10"
  }
 },
 "nbformat": 4,
 "nbformat_minor": 5
}
