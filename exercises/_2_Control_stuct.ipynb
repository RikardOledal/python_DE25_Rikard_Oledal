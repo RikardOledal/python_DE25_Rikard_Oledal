{
 "cells": [
  {
   "cell_type": "markdown",
   "id": "05f7f607",
   "metadata": {},
   "source": [
    "# Exercise 2 - control structures"
   ]
  },
  {
   "cell_type": "markdown",
   "id": "bf18e423",
   "metadata": {},
   "source": [
    "## 0. Check sign\n",
    "- Ask the user to input a number and check if this number is positive, negative or zero and print it out."
   ]
  },
  {
   "cell_type": "code",
   "execution_count": 4,
   "id": "5147abf7",
   "metadata": {},
   "outputs": [
    {
     "name": "stdout",
     "output_type": "stream",
     "text": [
      "The number 4 is positive (+)\n"
     ]
    }
   ],
   "source": [
    "user_num = int(input(\"Give me a number\"))\n",
    "\n",
    "if user_num > 0:\n",
    "    print(f\"The number {user_num} is positive (+)\")\n",
    "elif user_num < 0:\n",
    "    print(f\"The number {user_num} is negative (-)\")\n",
    "else:\n",
    "    print(\"You don't fool me! The number is Zero (0)\")\n"
   ]
  },
  {
   "cell_type": "markdown",
   "id": "f25db243",
   "metadata": {},
   "source": [
    "## 1. Smallest\n",
    "- Ask the user to input two numbers and check which one is the smallest and print it out."
   ]
  },
  {
   "cell_type": "code",
   "execution_count": 8,
   "id": "0b3ef135",
   "metadata": {},
   "outputs": [
    {
     "name": "stdout",
     "output_type": "stream",
     "text": [
      "You don't fool me! 5 and 5 are the same numbers\n"
     ]
    }
   ],
   "source": [
    "nr_1 = int(input(\"Give me a number\"))\n",
    "nr_2 = int(input(\"Give me another number\"))\n",
    "\n",
    "if nr_1 > nr_2:\n",
    "    print(f\"{nr_2} is the smallest number of {nr_1} and {nr_2}\")\n",
    "elif nr_1 < nr_2:\n",
    "    print(f\"{nr_1} is the smallest number of {nr_1} and {nr_2}\")\n",
    "else:\n",
    "    print(f\"You don't fool me! {nr_1} and {nr_2} are the same numbers\")"
   ]
  },
  {
   "cell_type": "markdown",
   "id": "8761300d",
   "metadata": {},
   "source": [
    "## 2. Medicine\n",
    "- The information in the following table is stated in a medicine package. Also it is stated that for children weight is more important than age.\n"
   ]
  },
  {
   "cell_type": "code",
   "execution_count": 11,
   "id": "192779b0",
   "metadata": {},
   "outputs": [
    {
     "name": "stdout",
     "output_type": "stream",
     "text": [
      "You should take 1-2 pills\n"
     ]
    }
   ],
   "source": [
    "age = 13\n",
    "weight = 23\n",
    "\n",
    "if age > 12:\n",
    "    print(\"You should take 1-2 pills\")\n",
    "else:\n",
    "    if weight > 25:\n",
    "        print(\"You should take 1/2-1 pill\")\n",
    "    else:\n",
    "        print(\"You should take 1/2 pill\")"
   ]
  },
  {
   "cell_type": "markdown",
   "id": "d02b02db",
   "metadata": {},
   "source": [
    "## 3. Divisible\n",
    "### Let the user input a number. Check if the number is\n",
    "- even or odd\n",
    "- is divisible by 5\n",
    "- is divisble by 5 and odd"
   ]
  },
  {
   "cell_type": "code",
   "execution_count": 23,
   "id": "2a41c3b9",
   "metadata": {},
   "outputs": [
    {
     "name": "stdout",
     "output_type": "stream",
     "text": [
      "11 is an Odd number\n",
      "11 is not divisible by 5\n",
      "11 is an odd number not divisible by 5\n"
     ]
    }
   ],
   "source": [
    "div_nr = int(input(\"Give me a number\"))\n",
    "\n",
    "if div_nr % 2 == 0:\n",
    "    print(f\"{div_nr} is an Even number\")\n",
    "else:\n",
    "    print(f\"{div_nr} is an Odd number\")\n",
    "\n",
    "if div_nr % 5 == 0:\n",
    "    print(f\"{div_nr} is divisible by 5\")\n",
    "else:\n",
    "    print(f\"{div_nr} is not divisible by 5\")\n",
    "\n",
    "if div_nr % 2 != 0:\n",
    "    if div_nr % 5 == 0:\n",
    "        print(f\"{div_nr} is an odd number divisible by 5\")\n",
    "    else:\n",
    "        print(f\"{div_nr} is an odd number not divisible by 5\")\n",
    "else:\n",
    "    if div_nr % 5 == 0:\n",
    "        print(f\"{div_nr} is an even number divisible by 5\")\n",
    "    else:\n",
    "        print(f\"{div_nr} is an even number not divisible by 5\")"
   ]
  },
  {
   "cell_type": "markdown",
   "id": "478f9fe6",
   "metadata": {},
   "source": [
    "## 4. Luggage size\n",
    "### The maximum allowed luggage size for boarding an airplane is:\n",
    "- weight: 8kg\n",
    "- dimensions: 55x40x23cm (length x width x height)\n",
    "<br>Let the user input weight, length, width and height of the luggage. The program should check if the luggage is allowed or not."
   ]
  },
  {
   "cell_type": "code",
   "execution_count": 26,
   "id": "936a7571",
   "metadata": {},
   "outputs": [
    {
     "name": "stdout",
     "output_type": "stream",
     "text": [
      "Sorry your luggage is above the weigtlimit of 8 kg!\n"
     ]
    }
   ],
   "source": [
    "lugg_wgt = int(input(\"What is your luggages weight in kg\"))\n",
    "lugg_len = int(input(\"What is your luggages length in cm\"))\n",
    "lugg_wid = int(input(\"What is your luggages width in cm\"))\n",
    "lugg_hig = int(input(\"What is your luggages hight in cm\"))\n",
    "\n",
    "lugg_wgt_lt = 8\n",
    "lugg_len_lt = 55\n",
    "lugg_wid_lt = 40\n",
    "lugg_hig_lt = 23\n",
    "\n",
    "if lugg_wgt > lugg_wgt_lt:\n",
    "    print(f\"Sorry your luggage is above the weigtlimit of {lugg_wgt_lt} kg!\")\n",
    "elif lugg_len > lugg_len_lt:\n",
    "    print(f\"Sorry your luggage is above the lengtlimit of {lugg_len_lt} cm!\")\n",
    "elif lugg_wid > lugg_wid_lt:\n",
    "    print(f\"Sorry your luggage is above the widthlimit of {lugg_wid_lt} cm!\")\n",
    "elif lugg_hig > lugg_hig_lt:\n",
    "    print(f\"Sorry your luggage is above the hightlimit of {lugg_hig_lt} cm!\")\n",
    "else:\n",
    "    print(\"Your luggage is checked in please proceed to the gate\")"
   ]
  },
  {
   "cell_type": "markdown",
   "id": "92728ca2",
   "metadata": {},
   "source": [
    "## 5. Count numbers\n",
    "### Use a for statement to count from:\n",
    "- a) -10 to 10 with one increment\n",
    "- b) -10 to 10 with two increment"
   ]
  },
  {
   "cell_type": "code",
   "execution_count": 2,
   "id": "4b48aaac",
   "metadata": {},
   "outputs": [
    {
     "name": "stdout",
     "output_type": "stream",
     "text": [
      "-10\n",
      "-9\n",
      "-8\n",
      "-7\n",
      "-6\n",
      "-5\n",
      "-4\n",
      "-3\n",
      "-2\n",
      "-1\n",
      "0\n",
      "1\n",
      "2\n",
      "3\n",
      "4\n",
      "5\n",
      "6\n",
      "7\n",
      "8\n",
      "9\n",
      "10\n"
     ]
    }
   ],
   "source": [
    "Number_cnt = -10\n",
    "i = 0\n",
    "\n",
    "for i in range(21):\n",
    "    print(Number_cnt)\n",
    "    i += 1\n",
    "    Number_cnt += 1\n",
    "    \n"
   ]
  },
  {
   "cell_type": "code",
   "execution_count": 4,
   "id": "2008b457",
   "metadata": {},
   "outputs": [
    {
     "name": "stdout",
     "output_type": "stream",
     "text": [
      "-10\n",
      "-8\n",
      "-6\n",
      "-4\n",
      "-2\n",
      "0\n",
      "2\n",
      "4\n",
      "6\n",
      "8\n",
      "10\n"
     ]
    }
   ],
   "source": [
    "Number_cnt = -10\n",
    "i = 0\n",
    "\n",
    "for i in range(11):\n",
    "    print(Number_cnt)\n",
    "    i += 1\n",
    "    Number_cnt += 2"
   ]
  },
  {
   "cell_type": "markdown",
   "id": "c058cc2e",
   "metadata": {},
   "source": [
    "## 6. Arithmetic sum\n",
    "### Use a while statement to compute the following sums:\n",
    "- a) sum = 1+2+3...+98+99+100\n",
    "- a) sum = 1+3+5...+95+97+99\n",
    "<br>Repeat these using a for statement"
   ]
  },
  {
   "cell_type": "code",
   "execution_count": null,
   "id": "75a6f0aa",
   "metadata": {},
   "outputs": [
    {
     "name": "stdout",
     "output_type": "stream",
     "text": [
      "5050\n"
     ]
    }
   ],
   "source": [
    "nr_arith = 1\n",
    "nr_sum = 0\n",
    "\n",
    "while nr_arith <= 100:\n",
    "    nr_sum += nr_arith\n",
    "    nr_arith += 1\n",
    "\n",
    "print(nr_sum)\n",
    "\n"
   ]
  },
  {
   "cell_type": "code",
   "execution_count": null,
   "id": "adafc4ef",
   "metadata": {},
   "outputs": [
    {
     "name": "stdout",
     "output_type": "stream",
     "text": [
      "2500\n"
     ]
    }
   ],
   "source": [
    "nr_arith = 1\n",
    "nr_sum = 0\n",
    "\n",
    "while nr_arith <= 100:\n",
    "    nr_sum += nr_arith\n",
    "    nr_arith += 2\n",
    "\n",
    "print(nr_sum)"
   ]
  },
  {
   "cell_type": "code",
   "execution_count": 10,
   "id": "903de8d4",
   "metadata": {},
   "outputs": [
    {
     "name": "stdout",
     "output_type": "stream",
     "text": [
      "5050\n"
     ]
    }
   ],
   "source": [
    "nr_arith = 1\n",
    "nr_sum = 0\n",
    "\n",
    "for i in range(100):\n",
    "    nr_sum += nr_arith\n",
    "    nr_arith += 1\n",
    "\n",
    "print(nr_sum)"
   ]
  },
  {
   "cell_type": "code",
   "execution_count": 11,
   "id": "9a8b5fb1",
   "metadata": {},
   "outputs": [
    {
     "name": "stdout",
     "output_type": "stream",
     "text": [
      "2500\n"
     ]
    }
   ],
   "source": [
    "nr_arith = 1\n",
    "nr_sum = 0\n",
    "\n",
    "for i in range(50):\n",
    "    nr_sum += nr_arith\n",
    "    nr_arith += 2\n",
    "\n",
    "print(nr_sum)"
   ]
  },
  {
   "cell_type": "markdown",
   "id": "e80bc187",
   "metadata": {},
   "source": [
    "## 7. Multiplication game"
   ]
  },
  {
   "cell_type": "markdown",
   "id": "56371987",
   "metadata": {},
   "source": []
  },
  {
   "cell_type": "code",
   "execution_count": 11,
   "id": "e0b2e4dd",
   "metadata": {},
   "outputs": [
    {
     "name": "stdout",
     "output_type": "stream",
     "text": [
      "Thank you for playing.\n",
      "You scored 2 p.\n"
     ]
    }
   ],
   "source": [
    "import random as rnd\n",
    "\n",
    "play_again = \"y\"\n",
    "x_nr = 1\n",
    "y_nr = 1\n",
    "score = 0\n",
    "\n",
    "while play_again == \"y\":\n",
    "    x_nr = rnd.randint(1, 10)\n",
    "    y_nr = rnd.randint(1, 10)\n",
    "    answer = int(input(f\"{x_nr} x {y_nr} = ?\"))\n",
    "    if answer == x_nr*y_nr:\n",
    "        score += 1\n",
    "        play_again = input(f\"Good work! Your score is now {score} p. Do you wanna play again? (y / n)\")\n",
    "    else:\n",
    "        play_again = input(f\"Sorry {x_nr} x {y_nr} = {x_nr*y_nr}. Do you wanna play again? (y / n)\")\n",
    "\n",
    "print(f\"Thank you for playing.\")\n",
    "print(f\"You scored {score} p.\")\n",
    "\n"
   ]
  },
  {
   "cell_type": "markdown",
   "id": "5e1a6dbc",
   "metadata": {},
   "source": [
    "## 8. Multiplication table\n",
    "### a - print out the 6th multiplication table from 0 to 10\n",
    "### b - let the user input the table, start and end of the table.\n",
    "### c - print out a full multiplication table from 0 to 10."
   ]
  },
  {
   "cell_type": "code",
   "execution_count": null,
   "id": "89719e17",
   "metadata": {},
   "outputs": [
    {
     "name": "stdout",
     "output_type": "stream",
     "text": [
      "0 6 12 18 24 30 36 42 48 54 60 "
     ]
    }
   ],
   "source": [
    "# a)\n",
    "multi_nr = 6\n",
    "\n",
    "for i in range(11):\n",
    "    print(f\"{i*multi_nr}\", end=\" \")\n"
   ]
  },
  {
   "cell_type": "code",
   "execution_count": null,
   "id": "9ba33e7e",
   "metadata": {},
   "outputs": [
    {
     "name": "stdout",
     "output_type": "stream",
     "text": [
      "18 24 30 36 "
     ]
    }
   ],
   "source": [
    "# b)\n",
    "table_multi = int(input(\"Witch table would you lite to have?\"))\n",
    "start_multi = int(input(\"Where do you wanna start?\"))\n",
    "end_multi = int(input(\"Where do you wanna stop?\"))\n",
    "\n",
    "for i in range(11):\n",
    "    if start_multi <= table_multi*i <= end_multi:\n",
    "        print(f\"{i*multi_nr}\", end=\" \")\n",
    "    "
   ]
  },
  {
   "cell_type": "code",
   "execution_count": 19,
   "id": "a88a8367",
   "metadata": {},
   "outputs": [
    {
     "name": "stdout",
     "output_type": "stream",
     "text": [
      "\n",
      "0 0 0 0 0 0 0 0 0 0 0 \n",
      "0 1 2 3 4 5 6 7 8 9 10 \n",
      "0 2 4 6 8 10 12 14 16 18 20 \n",
      "0 3 6 9 12 15 18 21 24 27 30 \n",
      "0 4 8 12 16 20 24 28 32 36 40 \n",
      "0 5 10 15 20 25 30 35 40 45 50 \n",
      "0 6 12 18 24 30 36 42 48 54 60 \n",
      "0 7 14 21 28 35 42 49 56 63 70 \n",
      "0 8 16 24 32 40 48 56 64 72 80 \n",
      "0 9 18 27 36 45 54 63 72 81 90 \n",
      "0 10 20 30 40 50 60 70 80 90 100 "
     ]
    }
   ],
   "source": [
    "# c)\n",
    "for first in range(11):\n",
    "    print()\n",
    "    for second in range(11):\n",
    "        print(f\"{first*second}\", end=\" \")\n",
    "    "
   ]
  },
  {
   "cell_type": "markdown",
   "id": "38bbfcf3",
   "metadata": {},
   "source": [
    "## 9. Rice on chessboard\n",
    "### In first square of the chessboard there is one grain of rice, in the second square there is two grains, in the third square there is four grains and so on. How many grains are there in the whole chessboard when all squares are filled using this pattern?\n",
    "\n"
   ]
  },
  {
   "cell_type": "code",
   "execution_count": 30,
   "id": "cc3d47ba",
   "metadata": {},
   "outputs": [
    {
     "name": "stdout",
     "output_type": "stream",
     "text": [
      "On square 1 is 1 grains. Total 1 grains on the whole board\n",
      "On square 2 is 2 grains. Total 3 grains on the whole board\n",
      "On square 3 is 4 grains. Total 7 grains on the whole board\n",
      "On square 4 is 8 grains. Total 15 grains on the whole board\n",
      "On square 5 is 16 grains. Total 31 grains on the whole board\n",
      "On square 6 is 32 grains. Total 63 grains on the whole board\n",
      "On square 7 is 64 grains. Total 127 grains on the whole board\n",
      "On square 8 is 128 grains. Total 255 grains on the whole board\n",
      "On square 9 is 256 grains. Total 511 grains on the whole board\n",
      "On square 10 is 512 grains. Total 1023 grains on the whole board\n",
      "On square 11 is 1024 grains. Total 2047 grains on the whole board\n",
      "On square 12 is 2048 grains. Total 4095 grains on the whole board\n",
      "On square 13 is 4096 grains. Total 8191 grains on the whole board\n",
      "On square 14 is 8192 grains. Total 16383 grains on the whole board\n",
      "On square 15 is 16384 grains. Total 32767 grains on the whole board\n",
      "On square 16 is 32768 grains. Total 65535 grains on the whole board\n",
      "On square 17 is 65536 grains. Total 131071 grains on the whole board\n",
      "On square 18 is 131072 grains. Total 262143 grains on the whole board\n",
      "On square 19 is 262144 grains. Total 524287 grains on the whole board\n",
      "On square 20 is 524288 grains. Total 1048575 grains on the whole board\n",
      "On square 21 is 1048576 grains. Total 2097151 grains on the whole board\n",
      "On square 22 is 2097152 grains. Total 4194303 grains on the whole board\n",
      "On square 23 is 4194304 grains. Total 8388607 grains on the whole board\n",
      "On square 24 is 8388608 grains. Total 16777215 grains on the whole board\n",
      "On square 25 is 16777216 grains. Total 33554431 grains on the whole board\n",
      "On square 26 is 33554432 grains. Total 67108863 grains on the whole board\n",
      "On square 27 is 67108864 grains. Total 134217727 grains on the whole board\n",
      "On square 28 is 134217728 grains. Total 268435455 grains on the whole board\n",
      "On square 29 is 268435456 grains. Total 536870911 grains on the whole board\n",
      "On square 30 is 536870912 grains. Total 1073741823 grains on the whole board\n",
      "On square 31 is 1073741824 grains. Total 2147483647 grains on the whole board\n",
      "On square 32 is 2147483648 grains. Total 4294967295 grains on the whole board\n",
      "On square 33 is 4294967296 grains. Total 8589934591 grains on the whole board\n",
      "On square 34 is 8589934592 grains. Total 17179869183 grains on the whole board\n",
      "On square 35 is 17179869184 grains. Total 34359738367 grains on the whole board\n",
      "On square 36 is 34359738368 grains. Total 68719476735 grains on the whole board\n",
      "On square 37 is 68719476736 grains. Total 137438953471 grains on the whole board\n",
      "On square 38 is 137438953472 grains. Total 274877906943 grains on the whole board\n",
      "On square 39 is 274877906944 grains. Total 549755813887 grains on the whole board\n",
      "On square 40 is 549755813888 grains. Total 1099511627775 grains on the whole board\n",
      "On square 41 is 1099511627776 grains. Total 2199023255551 grains on the whole board\n",
      "On square 42 is 2199023255552 grains. Total 4398046511103 grains on the whole board\n",
      "On square 43 is 4398046511104 grains. Total 8796093022207 grains on the whole board\n",
      "On square 44 is 8796093022208 grains. Total 17592186044415 grains on the whole board\n",
      "On square 45 is 17592186044416 grains. Total 35184372088831 grains on the whole board\n",
      "On square 46 is 35184372088832 grains. Total 70368744177663 grains on the whole board\n",
      "On square 47 is 70368744177664 grains. Total 140737488355327 grains on the whole board\n",
      "On square 48 is 140737488355328 grains. Total 281474976710655 grains on the whole board\n",
      "On square 49 is 281474976710656 grains. Total 562949953421311 grains on the whole board\n",
      "On square 50 is 562949953421312 grains. Total 1125899906842623 grains on the whole board\n",
      "On square 51 is 1125899906842624 grains. Total 2251799813685247 grains on the whole board\n",
      "On square 52 is 2251799813685248 grains. Total 4503599627370495 grains on the whole board\n",
      "On square 53 is 4503599627370496 grains. Total 9007199254740991 grains on the whole board\n",
      "On square 54 is 9007199254740992 grains. Total 18014398509481983 grains on the whole board\n",
      "On square 55 is 18014398509481984 grains. Total 36028797018963967 grains on the whole board\n",
      "On square 56 is 36028797018963968 grains. Total 72057594037927935 grains on the whole board\n",
      "On square 57 is 72057594037927936 grains. Total 144115188075855871 grains on the whole board\n",
      "On square 58 is 144115188075855872 grains. Total 288230376151711743 grains on the whole board\n",
      "On square 59 is 288230376151711744 grains. Total 576460752303423487 grains on the whole board\n",
      "On square 60 is 576460752303423488 grains. Total 1152921504606846975 grains on the whole board\n",
      "On square 61 is 1152921504606846976 grains. Total 2305843009213693951 grains on the whole board\n",
      "On square 62 is 2305843009213693952 grains. Total 4611686018427387903 grains on the whole board\n",
      "On square 63 is 4611686018427387904 grains. Total 9223372036854775807 grains on the whole board\n",
      "On square 64 is 9223372036854775808 grains. Total 18446744073709551615 grains on the whole board\n",
      "On the whole board there is a total of 18446744073709551615 grains\n"
     ]
    }
   ],
   "source": [
    "grain_squ = 1\n",
    "grain_sum = 0\n",
    "\n",
    "for i in range(64):\n",
    "    grain_sum += grain_squ\n",
    "    print(f\"On square {i+1} is {grain_squ} grains. Total {grain_sum} grains on the whole board\")\n",
    "    grain_squ *= 2\n",
    "\n",
    "print(f\"On the whole board there is a total of {grain_sum} grains\")\n",
    "    "
   ]
  },
  {
   "cell_type": "code",
   "execution_count": null,
   "id": "d1d09294",
   "metadata": {},
   "outputs": [],
   "source": []
  }
 ],
 "metadata": {
  "kernelspec": {
   "display_name": "python_DE25_Rikard_Oledal",
   "language": "python",
   "name": "python3"
  },
  "language_info": {
   "codemirror_mode": {
    "name": "ipython",
    "version": 3
   },
   "file_extension": ".py",
   "mimetype": "text/x-python",
   "name": "python",
   "nbconvert_exporter": "python",
   "pygments_lexer": "ipython3",
   "version": "3.12.10"
  }
 },
 "nbformat": 4,
 "nbformat_minor": 5
}
