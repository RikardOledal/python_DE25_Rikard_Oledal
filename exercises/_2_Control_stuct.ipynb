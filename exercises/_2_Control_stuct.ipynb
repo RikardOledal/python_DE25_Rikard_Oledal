{
 "cells": [
  {
   "cell_type": "markdown",
   "id": "05f7f607",
   "metadata": {},
   "source": [
    "# Exercise 2 - control structures"
   ]
  },
  {
   "cell_type": "markdown",
   "id": "bf18e423",
   "metadata": {},
   "source": [
    "## 0. Check sign\n",
    "- Ask the user to input a number and check if this number is positive, negative or zero and print it out."
   ]
  },
  {
   "cell_type": "code",
   "execution_count": 4,
   "id": "5147abf7",
   "metadata": {},
   "outputs": [
    {
     "name": "stdout",
     "output_type": "stream",
     "text": [
      "The number 4 is positive (+)\n"
     ]
    }
   ],
   "source": [
    "user_num = int(input(\"Give me a number\"))\n",
    "\n",
    "if user_num > 0:\n",
    "    print(f\"The number {user_num} is positive (+)\")\n",
    "elif user_num < 0:\n",
    "    print(f\"The number {user_num} is negative (-)\")\n",
    "else:\n",
    "    print(\"You don't fool me! The number is Zero (0)\")\n"
   ]
  },
  {
   "cell_type": "markdown",
   "id": "f25db243",
   "metadata": {},
   "source": [
    "## 1. Smallest\n",
    "- Ask the user to input two numbers and check which one is the smallest and print it out."
   ]
  },
  {
   "cell_type": "code",
   "execution_count": 8,
   "id": "0b3ef135",
   "metadata": {},
   "outputs": [
    {
     "name": "stdout",
     "output_type": "stream",
     "text": [
      "You don't fool me! 5 and 5 are the same numbers\n"
     ]
    }
   ],
   "source": [
    "nr_1 = int(input(\"Give me a number\"))\n",
    "nr_2 = int(input(\"Give me another number\"))\n",
    "\n",
    "if nr_1 > nr_2:\n",
    "    print(f\"{nr_2} is the smallest number of {nr_1} and {nr_2}\")\n",
    "elif nr_1 < nr_2:\n",
    "    print(f\"{nr_1} is the smallest number of {nr_1} and {nr_2}\")\n",
    "else:\n",
    "    print(f\"You don't fool me! {nr_1} and {nr_2} are the same numbers\")"
   ]
  },
  {
   "cell_type": "markdown",
   "id": "8761300d",
   "metadata": {},
   "source": [
    "## 2. Medicine\n",
    "- The information in the following table is stated in a medicine package. Also it is stated that for children weight is more important than age.\n"
   ]
  },
  {
   "cell_type": "code",
   "execution_count": 11,
   "id": "192779b0",
   "metadata": {},
   "outputs": [
    {
     "name": "stdout",
     "output_type": "stream",
     "text": [
      "You should take 1-2 pills\n"
     ]
    }
   ],
   "source": [
    "age = 13\n",
    "weight = 23\n",
    "\n",
    "if age > 12:\n",
    "    print(\"You should take 1-2 pills\")\n",
    "else:\n",
    "    if weight > 25:\n",
    "        print(\"You should take 1/2-1 pill\")\n",
    "    else:\n",
    "        print(\"You should take 1/2 pill\")"
   ]
  },
  {
   "cell_type": "markdown",
   "id": "d02b02db",
   "metadata": {},
   "source": [
    "## 3. Divisible\n",
    "### Let the user input a number. Check if the number is\n",
    "- even or odd\n",
    "- is divisible by 5\n",
    "- is divisble by 5 and odd"
   ]
  },
  {
   "cell_type": "code",
   "execution_count": 23,
   "id": "2a41c3b9",
   "metadata": {},
   "outputs": [
    {
     "name": "stdout",
     "output_type": "stream",
     "text": [
      "11 is an Odd number\n",
      "11 is not divisible by 5\n",
      "11 is an odd number not divisible by 5\n"
     ]
    }
   ],
   "source": [
    "div_nr = int(input(\"Give me a number\"))\n",
    "\n",
    "if div_nr % 2 == 0:\n",
    "    print(f\"{div_nr} is an Even number\")\n",
    "else:\n",
    "    print(f\"{div_nr} is an Odd number\")\n",
    "\n",
    "if div_nr % 5 == 0:\n",
    "    print(f\"{div_nr} is divisible by 5\")\n",
    "else:\n",
    "    print(f\"{div_nr} is not divisible by 5\")\n",
    "\n",
    "if div_nr % 2 != 0:\n",
    "    if div_nr % 5 == 0:\n",
    "        print(f\"{div_nr} is an odd number divisible by 5\")\n",
    "    else:\n",
    "        print(f\"{div_nr} is an odd number not divisible by 5\")\n",
    "else:\n",
    "    if div_nr % 5 == 0:\n",
    "        print(f\"{div_nr} is an even number divisible by 5\")\n",
    "    else:\n",
    "        print(f\"{div_nr} is an even number not divisible by 5\")"
   ]
  },
  {
   "cell_type": "markdown",
   "id": "478f9fe6",
   "metadata": {},
   "source": [
    "## 4. Luggage size\n",
    "### The maximum allowed luggage size for boarding an airplane is:\n",
    "- weight: 8kg\n",
    "- dimensions: 55x40x23cm (length x width x height)\n",
    "<br>Let the user input weight, length, width and height of the luggage. The program should check if the luggage is allowed or not."
   ]
  },
  {
   "cell_type": "code",
   "execution_count": 26,
   "id": "936a7571",
   "metadata": {},
   "outputs": [
    {
     "name": "stdout",
     "output_type": "stream",
     "text": [
      "Sorry your luggage is above the weigtlimit of 8 kg!\n"
     ]
    }
   ],
   "source": [
    "lugg_wgt = int(input(\"What is your luggages weight in kg\"))\n",
    "lugg_len = int(input(\"What is your luggages length in cm\"))\n",
    "lugg_wid = int(input(\"What is your luggages width in cm\"))\n",
    "lugg_hig = int(input(\"What is your luggages hight in cm\"))\n",
    "\n",
    "lugg_wgt_lt = 8\n",
    "lugg_len_lt = 55\n",
    "lugg_wid_lt = 40\n",
    "lugg_hig_lt = 23\n",
    "\n",
    "if lugg_wgt > lugg_wgt_lt:\n",
    "    print(f\"Sorry your luggage is above the weigtlimit of {lugg_wgt_lt} kg!\")\n",
    "elif lugg_len > lugg_len_lt:\n",
    "    print(f\"Sorry your luggage is above the lengtlimit of {lugg_len_lt} cm!\")\n",
    "elif lugg_wid > lugg_wid_lt:\n",
    "    print(f\"Sorry your luggage is above the widthlimit of {lugg_wid_lt} cm!\")\n",
    "elif lugg_hig > lugg_hig_lt:\n",
    "    print(f\"Sorry your luggage is above the hightlimit of {lugg_hig_lt} cm!\")\n",
    "else:\n",
    "    print(\"Your luggage is checked in please proceed to the gate\")"
   ]
  },
  {
   "cell_type": "code",
   "execution_count": null,
   "id": "2008b457",
   "metadata": {},
   "outputs": [],
   "source": []
  },
  {
   "cell_type": "code",
   "execution_count": null,
   "id": "75a6f0aa",
   "metadata": {},
   "outputs": [],
   "source": []
  }
 ],
 "metadata": {
  "kernelspec": {
   "display_name": "python_DE25_Rikard_Oledal",
   "language": "python",
   "name": "python3"
  },
  "language_info": {
   "codemirror_mode": {
    "name": "ipython",
    "version": 3
   },
   "file_extension": ".py",
   "mimetype": "text/x-python",
   "name": "python",
   "nbconvert_exporter": "python",
   "pygments_lexer": "ipython3",
   "version": "3.12.10"
  }
 },
 "nbformat": 4,
 "nbformat_minor": 5
}
