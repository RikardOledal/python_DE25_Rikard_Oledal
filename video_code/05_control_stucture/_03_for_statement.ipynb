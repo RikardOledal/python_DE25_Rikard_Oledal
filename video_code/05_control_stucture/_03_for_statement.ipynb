{
 "cells": [
  {
   "cell_type": "markdown",
   "id": "30bb5f2a",
   "metadata": {},
   "source": [
    "# For statement"
   ]
  },
  {
   "cell_type": "code",
   "execution_count": 1,
   "id": "b9616642",
   "metadata": {},
   "outputs": [
    {
     "name": "stdout",
     "output_type": "stream",
     "text": [
      "0\n",
      "1\n",
      "2\n"
     ]
    }
   ],
   "source": [
    "for i in range(3):\n",
    "    print(i)"
   ]
  },
  {
   "cell_type": "code",
   "execution_count": 3,
   "id": "e7e9a424",
   "metadata": {},
   "outputs": [
    {
     "name": "stdout",
     "output_type": "stream",
     "text": [
      "Number 0\n",
      "Number 1\n",
      "Number 2\n"
     ]
    }
   ],
   "source": [
    "for i in range(3):\n",
    "    print(f\"Number {i}\")\n"
   ]
  },
  {
   "cell_type": "code",
   "execution_count": 4,
   "id": "029387e6",
   "metadata": {},
   "outputs": [
    {
     "name": "stdout",
     "output_type": "stream",
     "text": [
      "0 1 2 3 4 5 6 7 8 9 "
     ]
    }
   ],
   "source": [
    "for i in range(10):\n",
    "    print(i, end = \" \")"
   ]
  },
  {
   "cell_type": "code",
   "execution_count": 5,
   "id": "00e848ac",
   "metadata": {},
   "outputs": [
    {
     "name": "stdout",
     "output_type": "stream",
     "text": [
      "2 3 4 5 6 7 8 9 "
     ]
    }
   ],
   "source": [
    "for i in range(2, 10):\n",
    "    print(i, end = \" \")"
   ]
  },
  {
   "cell_type": "code",
   "execution_count": 7,
   "id": "24b21cb3",
   "metadata": {},
   "outputs": [
    {
     "name": "stdout",
     "output_type": "stream",
     "text": [
      "2 4 6 8 "
     ]
    }
   ],
   "source": [
    "for i in range(2,10,2):\n",
    "    print(i, end = \" \")"
   ]
  },
  {
   "cell_type": "code",
   "execution_count": 8,
   "id": "d8d585df",
   "metadata": {},
   "outputs": [
    {
     "name": "stdout",
     "output_type": "stream",
     "text": [
      "0+1+2+3+4+5 = 15\n"
     ]
    }
   ],
   "source": [
    "sum_ = 0\n",
    "\n",
    "for i in range(6):\n",
    "    sum_ += i\n",
    "\n",
    "print(f\"0+1+2+3+4+5 = {sum_}\")"
   ]
  },
  {
   "cell_type": "markdown",
   "id": "25c1d619",
   "metadata": {},
   "source": [
    "## Random module"
   ]
  },
  {
   "cell_type": "code",
   "execution_count": 12,
   "id": "d596958d",
   "metadata": {},
   "outputs": [
    {
     "name": "stdout",
     "output_type": "stream",
     "text": [
      "Number of sixes 1675 in 10000 dice rolls\n",
      "Probability of getting a six 0.1675\n"
     ]
    }
   ],
   "source": [
    "import random as rnd\n",
    "\n",
    "dice_rolls = 10_000\n",
    "num_six = 0\n",
    "\n",
    "for i in range(dice_rolls):\n",
    "    dice = rnd.randint(1,6)\n",
    "    if dice == 6:\n",
    "        num_six += 1\n",
    "\n",
    "print(f\"Number of sixes {num_six} in {dice_rolls} dice rolls\")\n",
    "print(f\"Probability of getting a six {num_six/dice_rolls}\")"
   ]
  },
  {
   "cell_type": "markdown",
   "id": "6c608e75",
   "metadata": {},
   "source": [
    "## Loop through a list"
   ]
  },
  {
   "cell_type": "code",
   "execution_count": 17,
   "id": "78cb7a79",
   "metadata": {},
   "outputs": [
    {
     "data": {
      "text/plain": [
       "['Apple', 'Orange', 'Grape', 'Strawberry']"
      ]
     },
     "execution_count": 17,
     "metadata": {},
     "output_type": "execute_result"
    }
   ],
   "source": [
    "fruits = [\"Apple\", \"Orange\", \"Grape\", \"Strawberry\"]\n",
    "fruits"
   ]
  },
  {
   "cell_type": "code",
   "execution_count": 20,
   "id": "81fc8a7e",
   "metadata": {},
   "outputs": [
    {
     "name": "stdout",
     "output_type": "stream",
     "text": [
      "Apple\n",
      "Orange\n",
      "Grape\n",
      "Strawberry\n"
     ]
    }
   ],
   "source": [
    "# Other langeges\n",
    "for i in range(len(fruits)):\n",
    "    print(fruits[i])"
   ]
  },
  {
   "cell_type": "code",
   "execution_count": 19,
   "id": "26bef52e",
   "metadata": {},
   "outputs": [
    {
     "name": "stdout",
     "output_type": "stream",
     "text": [
      "I love to eat\n",
      "Apple\n",
      "Orange\n",
      "Grape\n",
      "Strawberry\n"
     ]
    }
   ],
   "source": [
    "# Python\n",
    "print(\"I love to eat\")\n",
    "for fruit in fruits:\n",
    "    print(fruit)"
   ]
  },
  {
   "cell_type": "code",
   "execution_count": 23,
   "id": "2d94f9aa",
   "metadata": {},
   "outputs": [
    {
     "name": "stdout",
     "output_type": "stream",
     "text": [
      "My favorite fruits are\n",
      "1. Apple\n",
      "2. Orange\n",
      "3. Grape\n",
      "4. Strawberry\n"
     ]
    }
   ],
   "source": [
    "print(\"My favorite fruits are\")\n",
    "for i, fruit in enumerate(fruits, 1):\n",
    "    print(f\"{i}. {fruit}\")"
   ]
  },
  {
   "cell_type": "code",
   "execution_count": 27,
   "id": "40de2578",
   "metadata": {},
   "outputs": [
    {
     "name": "stdout",
     "output_type": "stream",
     "text": [
      "FRUIT               RECIPE\n",
      "Apple               pie\n",
      "Orange              juice\n",
      "Grape               jucie\n",
      "Strawberry          cake\n"
     ]
    }
   ],
   "source": [
    "fruits = [\"Apple\", \"Orange\", \"Grape\", \"Strawberry\"]\n",
    "recipes = [\"pie\", \"juice\", \"jucie\", \"cake\"]\n",
    "\n",
    "print(f\"{'FRUIT':20}RECIPE\")\n",
    "for fruit, recipe in zip(fruits, recipes):\n",
    "    print(f\"{fruit:<20}{recipe}\")"
   ]
  },
  {
   "cell_type": "markdown",
   "id": "bd6dba35",
   "metadata": {},
   "source": [
    "## Nested for loops"
   ]
  },
  {
   "cell_type": "code",
   "execution_count": 32,
   "id": "d8b0b380",
   "metadata": {},
   "outputs": [
    {
     "name": "stdout",
     "output_type": "stream",
     "text": [
      "(0,0) (0,1) (0,2) \n",
      "(1,0) (1,1) (1,2) \n",
      "(2,0) (2,1) (2,2) \n"
     ]
    }
   ],
   "source": [
    "for x in range(3):\n",
    "    for y in range(3):\n",
    "        print(f\"({x},{y})\", end = \" \")\n",
    "    print()"
   ]
  },
  {
   "cell_type": "code",
   "execution_count": null,
   "id": "b77a362f",
   "metadata": {},
   "outputs": [],
   "source": []
  }
 ],
 "metadata": {
  "kernelspec": {
   "display_name": "python_DE25_Rikard_Oledal",
   "language": "python",
   "name": "python3"
  },
  "language_info": {
   "codemirror_mode": {
    "name": "ipython",
    "version": 3
   },
   "file_extension": ".py",
   "mimetype": "text/x-python",
   "name": "python",
   "nbconvert_exporter": "python",
   "pygments_lexer": "ipython3",
   "version": "3.12.10"
  }
 },
 "nbformat": 4,
 "nbformat_minor": 5
}
