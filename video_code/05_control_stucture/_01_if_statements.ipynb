{
 "cells": [
  {
   "cell_type": "markdown",
   "id": "cf2428ee",
   "metadata": {},
   "source": [
    "# if-statements"
   ]
  },
  {
   "cell_type": "code",
   "execution_count": 4,
   "id": "c34d7555",
   "metadata": {},
   "outputs": [
    {
     "name": "stdout",
     "output_type": "stream",
     "text": [
      "Sorry you are to young to watch this scary movie\n",
      "Watch cartoons instead\n"
     ]
    }
   ],
   "source": [
    "age = int(input(\"Enter your age: \"))\n",
    "age_limit = 15\n",
    "\n",
    "if age < age_limit:\n",
    "    print(\"Sorry you are to young to watch this scary movie\")\n",
    "    print(\"Watch cartoons instead\")\n",
    "else:\n",
    "    print(\"Enjoy this scary movie\")"
   ]
  },
  {
   "cell_type": "code",
   "execution_count": 8,
   "id": "73d27da2",
   "metadata": {},
   "outputs": [
    {
     "name": "stdout",
     "output_type": "stream",
     "text": [
      "Welcome to the roller coaster\n"
     ]
    }
   ],
   "source": [
    "age = 15\n",
    "height = 130\n",
    "\n",
    "if age > 11 and 130 <= height < 210:\n",
    "    print(\"Welcome to the roller coaster\")\n",
    "else:\n",
    "    print(\"Come back when you fulfill requirements\")"
   ]
  },
  {
   "cell_type": "markdown",
   "id": "b42e6c55",
   "metadata": {},
   "source": [
    "## Modulo Oparator"
   ]
  },
  {
   "cell_type": "code",
   "execution_count": null,
   "id": "c685e849",
   "metadata": {},
   "outputs": [
    {
     "name": "stdout",
     "output_type": "stream",
     "text": [
      "Even number\n"
     ]
    }
   ],
   "source": [
    "number = 5\n",
    "if number % 2 == 0:\n",
    "    print(\"Even number\")\n",
    "else:\n",
    "    print(\"Odd number\")\n"
   ]
  },
  {
   "cell_type": "code",
   "execution_count": 11,
   "id": "c2c5fd64",
   "metadata": {},
   "outputs": [
    {
     "name": "stdout",
     "output_type": "stream",
     "text": [
      "Even number\n"
     ]
    }
   ],
   "source": [
    "number = 50\n",
    "if number % 2 == 0:\n",
    "    print(\"Even number\")\n",
    "else:\n",
    "    print(\"Odd number\")"
   ]
  },
  {
   "cell_type": "markdown",
   "id": "93bbf9ae",
   "metadata": {},
   "source": [
    "### Truthy and Falsy Value\n",
    "- If a value is 0 it is is also FALSE (in Boolean)\n",
    "- If a valeu is 1 it is is also TRUE (in Boolean)"
   ]
  },
  {
   "cell_type": "code",
   "execution_count": 14,
   "id": "de6079fd",
   "metadata": {},
   "outputs": [
    {
     "name": "stdout",
     "output_type": "stream",
     "text": [
      "Odd number\n"
     ]
    }
   ],
   "source": [
    "number = 5\n",
    "if not number % 2:\n",
    "    print(\"Even number\")\n",
    "else:\n",
    "    print(\"Odd number\")"
   ]
  },
  {
   "cell_type": "code",
   "execution_count": 15,
   "id": "434650a7",
   "metadata": {},
   "outputs": [
    {
     "name": "stdout",
     "output_type": "stream",
     "text": [
      "Odd number\n"
     ]
    }
   ],
   "source": [
    "number = 5\n",
    "if number % 2:\n",
    "    print(\"Odd number\")\n",
    "else:\n",
    "    print(\"Even number\")"
   ]
  },
  {
   "cell_type": "code",
   "execution_count": 17,
   "id": "58b43646",
   "metadata": {},
   "outputs": [
    {
     "name": "stdout",
     "output_type": "stream",
     "text": [
      "Falsy\n"
     ]
    }
   ],
   "source": [
    "if []:\n",
    "    print(\"Truthy\")\n",
    "else:\n",
    "    print(\"Falsy\")"
   ]
  },
  {
   "cell_type": "code",
   "execution_count": 19,
   "id": "0622f2e9",
   "metadata": {},
   "outputs": [
    {
     "name": "stdout",
     "output_type": "stream",
     "text": [
      "Truthy\n"
     ]
    }
   ],
   "source": [
    "if [3]:\n",
    "    print(\"Truthy\")\n",
    "else:\n",
    "    print(\"Falsy\")"
   ]
  },
  {
   "cell_type": "code",
   "execution_count": 21,
   "id": "bd39a831",
   "metadata": {},
   "outputs": [
    {
     "name": "stdout",
     "output_type": "stream",
     "text": [
      "Falsy\n"
     ]
    }
   ],
   "source": [
    "if 0:\n",
    "    print(\"Truthy\")\n",
    "else:\n",
    "    print(\"Falsy\")"
   ]
  },
  {
   "cell_type": "markdown",
   "id": "7f31a0da",
   "metadata": {},
   "source": [
    "## if-elif-else\n",
    "- If starts the if-statment\n",
    "- If the starting statment are False the Elif-statment are evaluated\n",
    "- Else is always the last statment in case every if-statment and elif statments are False"
   ]
  },
  {
   "cell_type": "code",
   "execution_count": 23,
   "id": "0d198387",
   "metadata": {},
   "outputs": [
    {
     "name": "stdout",
     "output_type": "stream",
     "text": [
      "Give patient 750mg\n"
     ]
    }
   ],
   "source": [
    "weight = 25\n",
    "\n",
    "if weight < 20:\n",
    "    print(\"Give patient 500mg\")\n",
    "elif weight < 40:\n",
    "    print(\"Give patient 750mg\")\n",
    "else:\n",
    "    print(\"Give patient 1000mg\")"
   ]
  },
  {
   "cell_type": "markdown",
   "id": "8558eb30",
   "metadata": {},
   "source": [
    "## Nested if-statments"
   ]
  },
  {
   "cell_type": "code",
   "execution_count": 25,
   "id": "54c85573",
   "metadata": {},
   "outputs": [
    {
     "name": "stdout",
     "output_type": "stream",
     "text": [
      "25 is divisible by 5\n",
      "25 is odd\n"
     ]
    }
   ],
   "source": [
    "number = 25\n",
    "if number % 5 == 0:\n",
    "    print(f\"{number} is divisible by 5\")\n",
    "    if number % 2 == 0:\n",
    "        print(f\"{number} is even\")\n",
    "    else:\n",
    "        print(f\"{number} is odd\") \n"
   ]
  },
  {
   "cell_type": "code",
   "execution_count": 26,
   "id": "dc7f0440",
   "metadata": {},
   "outputs": [],
   "source": [
    "number = 26\n",
    "if number % 5 == 0:\n",
    "    print(f\"{number} is divisible by 5\")\n",
    "    if number % 2 == 0:\n",
    "        print(f\"{number} is even\")\n",
    "    else:\n",
    "        print(f\"{number} is odd\") "
   ]
  },
  {
   "cell_type": "markdown",
   "id": "903a94c5",
   "metadata": {},
   "source": [
    "## One line if-statment"
   ]
  },
  {
   "cell_type": "code",
   "execution_count": 28,
   "id": "42c87ebf",
   "metadata": {},
   "outputs": [
    {
     "name": "stdout",
     "output_type": "stream",
     "text": [
      "Olivia contains the letter 'o'\n"
     ]
    }
   ],
   "source": [
    "name = \"Olivia\"\n",
    "gender = \"female\"\n",
    "age = 7\n",
    "\n",
    "# one line if\n",
    "if \"o\" in name.lower(): print(f\"{name} contains the letter 'o'\")"
   ]
  },
  {
   "cell_type": "code",
   "execution_count": null,
   "id": "da3cff03",
   "metadata": {},
   "outputs": [
    {
     "name": "stdout",
     "output_type": "stream",
     "text": [
      "Olivia contains the letter 'o'\n"
     ]
    }
   ],
   "source": [
    "name = \"Olivia\"\n",
    "gender = \"female\"\n",
    "age = 7\n",
    "\n",
    "if \"o\" in name.lower():\n",
    "    print(f\"{name} contains the letter 'o'\")"
   ]
  },
  {
   "cell_type": "code",
   "execution_count": null,
   "id": "d2e24309",
   "metadata": {},
   "outputs": [
    {
     "name": "stdout",
     "output_type": "stream",
     "text": [
      "Hi Ms Olivia\n"
     ]
    }
   ],
   "source": [
    "# one line if-else\n",
    "print(f\"Hi Mr {name}\") if gender == \"male\" else print(f\"Hi Ms {name}\")"
   ]
  },
  {
   "cell_type": "code",
   "execution_count": 32,
   "id": "cc1126cc",
   "metadata": {},
   "outputs": [
    {
     "data": {
      "text/plain": [
       "True"
      ]
     },
     "execution_count": 32,
     "metadata": {},
     "output_type": "execute_result"
    }
   ],
   "source": [
    "age = 5\n",
    "# one line if-else variable assignment\n",
    "is_child = True if age < 18 else False\n",
    "is_child"
   ]
  },
  {
   "cell_type": "code",
   "execution_count": null,
   "id": "43922a5a",
   "metadata": {},
   "outputs": [],
   "source": []
  }
 ],
 "metadata": {
  "kernelspec": {
   "display_name": "python_DE25_Rikard_Oledal",
   "language": "python",
   "name": "python3"
  },
  "language_info": {
   "codemirror_mode": {
    "name": "ipython",
    "version": 3
   },
   "file_extension": ".py",
   "mimetype": "text/x-python",
   "name": "python",
   "nbconvert_exporter": "python",
   "pygments_lexer": "ipython3",
   "version": "3.12.10"
  }
 },
 "nbformat": 4,
 "nbformat_minor": 5
}
