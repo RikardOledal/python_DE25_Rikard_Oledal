{
 "cells": [
  {
   "cell_type": "markdown",
   "id": "014c1611",
   "metadata": {},
   "source": [
    "# Lists"
   ]
  },
  {
   "cell_type": "code",
   "execution_count": 1,
   "id": "f0cfe86d",
   "metadata": {},
   "outputs": [
    {
     "data": {
      "text/plain": [
       "['Antique show', 'Master chef', 'News', 'Talent']"
      ]
     },
     "execution_count": 1,
     "metadata": {},
     "output_type": "execute_result"
    }
   ],
   "source": [
    "tv_shows = [\"Antique show\", \"Master chef\", \"News\", \"Talent\"]\n",
    "\n",
    "tv_shows"
   ]
  },
  {
   "cell_type": "code",
   "execution_count": 2,
   "id": "db77a3c3",
   "metadata": {},
   "outputs": [
    {
     "data": {
      "text/plain": [
       "'Antique show'"
      ]
     },
     "execution_count": 2,
     "metadata": {},
     "output_type": "execute_result"
    }
   ],
   "source": [
    "tv_shows[0]"
   ]
  },
  {
   "cell_type": "code",
   "execution_count": 4,
   "id": "051cf698",
   "metadata": {},
   "outputs": [
    {
     "data": {
      "text/plain": [
       "'w'"
      ]
     },
     "execution_count": 4,
     "metadata": {},
     "output_type": "execute_result"
    }
   ],
   "source": [
    "tv_shows[0][-1]"
   ]
  },
  {
   "cell_type": "code",
   "execution_count": 5,
   "id": "c4c46acf",
   "metadata": {},
   "outputs": [
    {
     "data": {
      "text/plain": [
       "['Master chef', 'News']"
      ]
     },
     "execution_count": 5,
     "metadata": {},
     "output_type": "execute_result"
    }
   ],
   "source": [
    "tv_shows[1:3]"
   ]
  },
  {
   "cell_type": "code",
   "execution_count": 6,
   "id": "9808069e",
   "metadata": {},
   "outputs": [
    {
     "data": {
      "text/plain": [
       "'Talent'"
      ]
     },
     "execution_count": 6,
     "metadata": {},
     "output_type": "execute_result"
    }
   ],
   "source": [
    "tv_shows[-1]"
   ]
  },
  {
   "cell_type": "markdown",
   "id": "44ec597d",
   "metadata": {},
   "source": [
    "## Iterate through list with for"
   ]
  },
  {
   "cell_type": "code",
   "execution_count": 7,
   "id": "b0b1f9ad",
   "metadata": {},
   "outputs": [
    {
     "name": "stdout",
     "output_type": "stream",
     "text": [
      "Antique show\n",
      "Master chef\n",
      "News\n",
      "Talent\n"
     ]
    }
   ],
   "source": [
    "for tv_show in tv_shows:\n",
    "    print(tv_show)"
   ]
  },
  {
   "cell_type": "code",
   "execution_count": 9,
   "id": "4faf9c0c",
   "metadata": {},
   "outputs": [
    {
     "name": "stdout",
     "output_type": "stream",
     "text": [
      "1 Antique show\n",
      "2 Master chef\n",
      "3 News\n",
      "4 Talent\n"
     ]
    }
   ],
   "source": [
    "for i, tv_show in enumerate(tv_shows, 1):\n",
    "    print(i, tv_show)"
   ]
  },
  {
   "cell_type": "code",
   "execution_count": null,
   "id": "bbf2a4da",
   "metadata": {},
   "outputs": [
    {
     "data": {
      "text/plain": [
       "['Antique show', 'Master chef', 'News', 'Pokemon']"
      ]
     },
     "execution_count": 10,
     "metadata": {},
     "output_type": "execute_result"
    }
   ],
   "source": [
    "tv_shows[-1] = \"Pokemon\"\n",
    "tv_shows"
   ]
  },
  {
   "cell_type": "code",
   "execution_count": 12,
   "id": "1697a96f",
   "metadata": {},
   "outputs": [
    {
     "data": {
      "text/plain": [
       "['Yu gi oh', 'Master chef', 'News', 'Pokemon']"
      ]
     },
     "execution_count": 12,
     "metadata": {},
     "output_type": "execute_result"
    }
   ],
   "source": [
    "tv_shows[0] = \"Yu gi oh\"\n",
    "tv_shows"
   ]
  },
  {
   "cell_type": "code",
   "execution_count": 13,
   "id": "2b62dc0f",
   "metadata": {},
   "outputs": [
    {
     "data": {
      "text/plain": [
       "['Master chef', 'News', 'Pokemon', 'Yu gi oh']"
      ]
     },
     "execution_count": 13,
     "metadata": {},
     "output_type": "execute_result"
    }
   ],
   "source": [
    "tv_shows.sort()\n",
    "tv_shows"
   ]
  },
  {
   "cell_type": "markdown",
   "id": "b10a2e52",
   "metadata": {},
   "source": [
    "## List coprehension"
   ]
  },
  {
   "cell_type": "code",
   "execution_count": 14,
   "id": "6c18824e",
   "metadata": {},
   "outputs": [
    {
     "data": {
      "text/plain": [
       "[0, 1, 8, 27, 64, 125, 216, 343, 512, 729]"
      ]
     },
     "execution_count": 14,
     "metadata": {},
     "output_type": "execute_result"
    }
   ],
   "source": [
    "cubes = [x**3 for x in range(10)]\n",
    "cubes"
   ]
  },
  {
   "cell_type": "code",
   "execution_count": 15,
   "id": "b5d1c8da",
   "metadata": {},
   "outputs": [
    {
     "data": {
      "text/plain": [
       "[36, 49, 64, 81]"
      ]
     },
     "execution_count": 15,
     "metadata": {},
     "output_type": "execute_result"
    }
   ],
   "source": [
    "[x**2 for x in range(10) if x**2 > 25]"
   ]
  },
  {
   "cell_type": "markdown",
   "id": "35dba47e",
   "metadata": {},
   "source": [
    "## Plot graph"
   ]
  },
  {
   "cell_type": "code",
   "execution_count": 16,
   "id": "79bc4a15",
   "metadata": {},
   "outputs": [
    {
     "data": {
      "text/plain": [
       "[0, 1, 2, 3, 4, 5, 6, 7, 8, 9]"
      ]
     },
     "execution_count": 16,
     "metadata": {},
     "output_type": "execute_result"
    }
   ],
   "source": [
    "import matplotlib.pyplot as plt\n",
    "\n",
    "x = list(range(10))\n",
    "x"
   ]
  },
  {
   "cell_type": "code",
   "execution_count": 17,
   "id": "51c58331",
   "metadata": {},
   "outputs": [
    {
     "data": {
      "text/plain": [
       "[2, 4, 6, 8, 10, 12, 14, 16, 18, 20]"
      ]
     },
     "execution_count": 17,
     "metadata": {},
     "output_type": "execute_result"
    }
   ],
   "source": [
    "k = 2\n",
    "m = 2\n",
    "y = [k*x + m for x in x]\n",
    "y"
   ]
  },
  {
   "cell_type": "code",
   "execution_count": 19,
   "id": "51cfd247",
   "metadata": {},
   "outputs": [
    {
     "data": {
      "text/plain": [
       "Text(0.5, 1.0, 'Plot y= 2x+2')"
      ]
     },
     "execution_count": 19,
     "metadata": {},
     "output_type": "execute_result"
    },
    {
     "data": {
      "image/png": "[encoded data removed]",
      "text/plain": [
       "<Figure size 640x480 with 1 Axes>"
      ]
     },
     "metadata": {},
     "output_type": "display_data"
    }
   ],
   "source": [
    "plt.plot(x,y)\n",
    "plt.title(\"Plot y= 2x+2\")"
   ]
  }
 ],
 "metadata": {
  "kernelspec": {
   "display_name": "python_DE25_Rikard_Oledal",
   "language": "python",
   "name": "python3"
  },
  "language_info": {
   "codemirror_mode": {
    "name": "ipython",
    "version": 3
   },
   "file_extension": ".py",
   "mimetype": "text/x-python",
   "name": "python",
   "nbconvert_exporter": "python",
   "pygments_lexer": "ipython3",
   "version": "3.12.10"
  }
 },
 "nbformat": 4,
 "nbformat_minor": 5
}
