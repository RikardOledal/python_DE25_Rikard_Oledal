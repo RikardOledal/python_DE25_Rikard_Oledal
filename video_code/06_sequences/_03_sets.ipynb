{
 "cells": [
  {
   "cell_type": "markdown",
   "id": "b84c29d9",
   "metadata": {},
   "source": [
    "# Sets"
   ]
  },
  {
   "cell_type": "code",
   "execution_count": 1,
   "id": "a4367c61",
   "metadata": {},
   "outputs": [
    {
     "data": {
      "text/plain": [
       "['anna@example.com',\n",
       " 'bob@example.com',\n",
       " 'anna@example.com',\n",
       " 'carl@example.com',\n",
       " 'bob@example.com']"
      ]
     },
     "execution_count": 1,
     "metadata": {},
     "output_type": "execute_result"
    }
   ],
   "source": [
    "emails = [\n",
    "    \"anna@example.com\", \"bob@example.com\", \"anna@example.com\",\n",
    "    \"carl@example.com\", \"bob@example.com\"\n",
    "]\n",
    "\n",
    "emails"
   ]
  },
  {
   "cell_type": "code",
   "execution_count": 2,
   "id": "3f8ca38e",
   "metadata": {},
   "outputs": [
    {
     "data": {
      "text/plain": [
       "{'anna@example.com', 'bob@example.com', 'carl@example.com'}"
      ]
     },
     "execution_count": 2,
     "metadata": {},
     "output_type": "execute_result"
    }
   ],
   "source": [
    "set(emails)"
   ]
  },
  {
   "cell_type": "code",
   "execution_count": 3,
   "id": "6d2a001d",
   "metadata": {},
   "outputs": [
    {
     "data": {
      "text/plain": [
       "['anna@example.com', 'carl@example.com', 'bob@example.com']"
      ]
     },
     "execution_count": 3,
     "metadata": {},
     "output_type": "execute_result"
    }
   ],
   "source": [
    "list(set(emails))"
   ]
  },
  {
   "cell_type": "code",
   "execution_count": 1,
   "id": "30feff46",
   "metadata": {},
   "outputs": [
    {
     "name": "stdout",
     "output_type": "stream",
     "text": [
      "c:\\Users\\user\\Documents\\github\\python_DE25_Rikard_Oledal\\.venv\\Scripts\\python.exe\n",
      "3.12.10\n"
     ]
    }
   ],
   "source": [
    "import sys, platform\n",
    "print(sys.executable)\n",
    "print(platform.python_version())"
   ]
  },
  {
   "cell_type": "markdown",
   "id": "382633d1",
   "metadata": {},
   "source": []
  },
  {
   "cell_type": "code",
   "execution_count": null,
   "id": "2b0dd8c4",
   "metadata": {},
   "outputs": [],
   "source": []
  }
 ],
 "metadata": {
  "kernelspec": {
   "display_name": "python_DE25_Rikard_Oledal",
   "language": "python",
   "name": "python3"
  },
  "language_info": {
   "codemirror_mode": {
    "name": "ipython",
    "version": 3
   },
   "file_extension": ".py",
   "mimetype": "text/x-python",
   "name": "python",
   "nbconvert_exporter": "python",
   "pygments_lexer": "ipython3",
   "version": "3.12.10"
  }
 },
 "nbformat": 4,
 "nbformat_minor": 5
}
