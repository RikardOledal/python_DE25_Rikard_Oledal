{
 "cells": [
  {
   "cell_type": "markdown",
   "id": "b84c29d9",
   "metadata": {},
   "source": [
    "# Sets"
   ]
  },
  {
   "cell_type": "markdown",
   "id": "5f53ccb0",
   "metadata": {},
   "source": [
    "## Values in sets are unique\n",
    "- Duplicate values are removed"
   ]
  },
  {
   "cell_type": "code",
   "execution_count": 1,
   "id": "a4367c61",
   "metadata": {},
   "outputs": [
    {
     "data": {
      "text/plain": [
       "['anna@example.com',\n",
       " 'bob@example.com',\n",
       " 'anna@example.com',\n",
       " 'carl@example.com',\n",
       " 'bob@example.com']"
      ]
     },
     "execution_count": 1,
     "metadata": {},
     "output_type": "execute_result"
    }
   ],
   "source": [
    "emails = [\n",
    "    \"anna@example.com\", \"bob@example.com\", \"anna@example.com\",\n",
    "    \"carl@example.com\", \"bob@example.com\"\n",
    "]\n",
    "\n",
    "emails"
   ]
  },
  {
   "cell_type": "code",
   "execution_count": 2,
   "id": "3f8ca38e",
   "metadata": {},
   "outputs": [
    {
     "data": {
      "text/plain": [
       "{'anna@example.com', 'bob@example.com', 'carl@example.com'}"
      ]
     },
     "execution_count": 2,
     "metadata": {},
     "output_type": "execute_result"
    }
   ],
   "source": [
    "set(emails)"
   ]
  },
  {
   "cell_type": "code",
   "execution_count": 3,
   "id": "6d2a001d",
   "metadata": {},
   "outputs": [
    {
     "data": {
      "text/plain": [
       "['anna@example.com', 'carl@example.com', 'bob@example.com']"
      ]
     },
     "execution_count": 3,
     "metadata": {},
     "output_type": "execute_result"
    }
   ],
   "source": [
    "list(set(emails))"
   ]
  },
  {
   "cell_type": "markdown",
   "id": "382633d1",
   "metadata": {},
   "source": [
    "## Mathematical set operations\n",
    "- Union\n",
    "- Intersect\n",
    "- except"
   ]
  },
  {
   "cell_type": "code",
   "execution_count": null,
   "id": "2b0dd8c4",
   "metadata": {},
   "outputs": [
    {
     "data": {
      "text/plain": [
       "{'carla', 'daniel'}"
      ]
     },
     "execution_count": 2,
     "metadata": {},
     "output_type": "execute_result"
    }
   ],
   "source": [
    "# Intersect\n",
    "first_month_customers = {\"alice\", \"bob\", \"carla\", \"daniel\"}\n",
    "second_month_customers = {\"carla\", \"daniel\", \"elena\"}\n",
    "\n",
    "returning_customers = first_month_customers.intersection(second_month_customers)\n",
    "\n",
    "returning_customers"
   ]
  },
  {
   "cell_type": "code",
   "execution_count": null,
   "id": "3de225fc",
   "metadata": {},
   "outputs": [
    {
     "data": {
      "text/plain": [
       "{'alice', 'bob', 'carla', 'daniel', 'elena'}"
      ]
     },
     "execution_count": 3,
     "metadata": {},
     "output_type": "execute_result"
    }
   ],
   "source": [
    "# Union\n",
    "all_customers = first_month_customers.union(second_month_customers)\n",
    "\n",
    "all_customers"
   ]
  },
  {
   "cell_type": "code",
   "execution_count": 4,
   "id": "00bd3d4f",
   "metadata": {},
   "outputs": [
    {
     "data": {
      "text/plain": [
       "{'alice', 'bob', 'elena'}"
      ]
     },
     "execution_count": 4,
     "metadata": {},
     "output_type": "execute_result"
    }
   ],
   "source": [
    "# Exept\n",
    "# Combine Union and intersect\n",
    "\n",
    "one_time_customers = first_month_customers.union(second_month_customers) - first_month_customers.intersection(second_month_customers)\n",
    "\n",
    "one_time_customers\n",
    "\n"
   ]
  },
  {
   "cell_type": "code",
   "execution_count": 6,
   "id": "ddf34963",
   "metadata": {},
   "outputs": [
    {
     "ename": "TypeError",
     "evalue": "'set' object is not subscriptable",
     "output_type": "error",
     "traceback": [
      "\u001b[31m---------------------------------------------------------------------------\u001b[39m",
      "\u001b[31mTypeError\u001b[39m                                 Traceback (most recent call last)",
      "\u001b[36mCell\u001b[39m\u001b[36m \u001b[39m\u001b[32mIn[6]\u001b[39m\u001b[32m, line 3\u001b[39m\n\u001b[32m      1\u001b[39m \u001b[38;5;66;03m# Sets have no order\u001b[39;00m\n\u001b[32m----> \u001b[39m\u001b[32m3\u001b[39m \u001b[43mall_customers\u001b[49m\u001b[43m[\u001b[49m\u001b[32;43m0\u001b[39;49m\u001b[43m]\u001b[49m\n",
      "\u001b[31mTypeError\u001b[39m: 'set' object is not subscriptable"
     ]
    }
   ],
   "source": [
    "# Sets have no order\n",
    "\n",
    "all_customers[0]"
   ]
  },
  {
   "cell_type": "code",
   "execution_count": 8,
   "id": "d06e8a4a",
   "metadata": {},
   "outputs": [
    {
     "data": {
      "text/plain": [
       "{'alice', 'bob', 'carla', 'daniel', 'elena'}"
      ]
     },
     "execution_count": 8,
     "metadata": {},
     "output_type": "execute_result"
    }
   ],
   "source": [
    "all_customers_list = list(all_customers)\n",
    "\n",
    "all_customers"
   ]
  },
  {
   "cell_type": "code",
   "execution_count": 9,
   "id": "d7d2b465",
   "metadata": {},
   "outputs": [
    {
     "data": {
      "text/plain": [
       "('daniel', 'elena', 'carla', 'alice', 'bob')"
      ]
     },
     "execution_count": 9,
     "metadata": {},
     "output_type": "execute_result"
    }
   ],
   "source": [
    "all_customers_tuple = tuple(all_customers)\n",
    "\n",
    "all_customers_tuple"
   ]
  },
  {
   "cell_type": "code",
   "execution_count": null,
   "id": "2d734458",
   "metadata": {},
   "outputs": [],
   "source": []
  }
 ],
 "metadata": {
  "kernelspec": {
   "display_name": "python_DE25_Rikard_Oledal",
   "language": "python",
   "name": "python3"
  },
  "language_info": {
   "codemirror_mode": {
    "name": "ipython",
    "version": 3
   },
   "file_extension": ".py",
   "mimetype": "text/x-python",
   "name": "python",
   "nbconvert_exporter": "python",
   "pygments_lexer": "ipython3",
   "version": "3.12.10"
  }
 },
 "nbformat": 4,
 "nbformat_minor": 5
}
