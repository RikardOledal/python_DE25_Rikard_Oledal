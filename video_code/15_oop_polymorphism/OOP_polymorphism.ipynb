{
 "cells": [
  {
   "cell_type": "markdown",
   "id": "89e0dfb1",
   "metadata": {},
   "source": [
    "# Polymorphism"
   ]
  },
  {
   "cell_type": "markdown",
   "id": "b3f5f41a",
   "metadata": {},
   "source": [
    "len()"
   ]
  },
  {
   "cell_type": "code",
   "execution_count": 1,
   "id": "20f344ea",
   "metadata": {},
   "outputs": [
    {
     "data": {
      "text/plain": [
       "3"
      ]
     },
     "execution_count": 1,
     "metadata": {},
     "output_type": "execute_result"
    }
   ],
   "source": [
    "len([1,2,3])"
   ]
  },
  {
   "cell_type": "code",
   "execution_count": 7,
   "id": "a2adb34e",
   "metadata": {},
   "outputs": [
    {
     "data": {
      "text/plain": [
       "3"
      ]
     },
     "execution_count": 7,
     "metadata": {},
     "output_type": "execute_result"
    }
   ],
   "source": [
    "# tuple\n",
    "\n",
    "len((1,2,3))"
   ]
  },
  {
   "cell_type": "code",
   "execution_count": 6,
   "id": "eca7af16",
   "metadata": {},
   "outputs": [
    {
     "data": {
      "text/plain": [
       "2"
      ]
     },
     "execution_count": 6,
     "metadata": {},
     "output_type": "execute_result"
    }
   ],
   "source": [
    "# set\n",
    "\n",
    "len({1,4,1})"
   ]
  },
  {
   "cell_type": "code",
   "execution_count": 5,
   "id": "02c85f4a",
   "metadata": {},
   "outputs": [
    {
     "data": {
      "text/plain": [
       "5"
      ]
     },
     "execution_count": 5,
     "metadata": {},
     "output_type": "execute_result"
    }
   ],
   "source": [
    "# string\n",
    "\n",
    "len(\"hello\")"
   ]
  },
  {
   "cell_type": "markdown",
   "id": "60128708",
   "metadata": {},
   "source": [
    "'+'"
   ]
  },
  {
   "cell_type": "code",
   "execution_count": null,
   "id": "49a7d02f",
   "metadata": {},
   "outputs": [
    {
     "data": {
      "text/plain": [
       "5"
      ]
     },
     "execution_count": 8,
     "metadata": {},
     "output_type": "execute_result"
    }
   ],
   "source": [
    "# integral\n",
    "\n",
    "2+3"
   ]
  },
  {
   "cell_type": "code",
   "execution_count": 9,
   "id": "c5a8a9ce",
   "metadata": {},
   "outputs": [
    {
     "data": {
      "text/plain": [
       "'23'"
      ]
     },
     "execution_count": 9,
     "metadata": {},
     "output_type": "execute_result"
    }
   ],
   "source": [
    "# string\n",
    "\n",
    "\"2\" + \"3\""
   ]
  },
  {
   "cell_type": "code",
   "execution_count": null,
   "id": "178858cd",
   "metadata": {},
   "outputs": [
    {
     "ename": "TypeError",
     "evalue": "can only concatenate str (not \"int\") to str",
     "output_type": "error",
     "traceback": [
      "\u001b[31m---------------------------------------------------------------------------\u001b[39m",
      "\u001b[31mTypeError\u001b[39m                                 Traceback (most recent call last)",
      "\u001b[36mCell\u001b[39m\u001b[36m \u001b[39m\u001b[32mIn[10]\u001b[39m\u001b[32m, line 1\u001b[39m\n\u001b[32m----> \u001b[39m\u001b[32m1\u001b[39m \u001b[33;43m\"\u001b[39;49m\u001b[33;43m2\u001b[39;49m\u001b[33;43m\"\u001b[39;49m\u001b[43m \u001b[49m\u001b[43m+\u001b[49m\u001b[43m \u001b[49m\u001b[32;43m3\u001b[39;49m\n",
      "\u001b[31mTypeError\u001b[39m: can only concatenate str (not \"int\") to str"
     ]
    }
   ],
   "source": [
    "# Dont work to combine\n",
    "\n",
    "\"2\" + 3"
   ]
  },
  {
   "cell_type": "markdown",
   "id": "cea6a0dd",
   "metadata": {},
   "source": [
    "'*'"
   ]
  },
  {
   "cell_type": "code",
   "execution_count": null,
   "id": "327b98ff",
   "metadata": {},
   "outputs": [
    {
     "data": {
      "text/plain": [
       "20"
      ]
     },
     "execution_count": 11,
     "metadata": {},
     "output_type": "execute_result"
    }
   ],
   "source": [
    "# integral\n",
    "\n",
    "2*10"
   ]
  },
  {
   "cell_type": "code",
   "execution_count": null,
   "id": "c6781452",
   "metadata": {},
   "outputs": [
    {
     "data": {
      "text/plain": [
       "'22222'"
      ]
     },
     "execution_count": 12,
     "metadata": {},
     "output_type": "execute_result"
    }
   ],
   "source": [
    "# string and integral works\n",
    "\n",
    "\"2\"*5"
   ]
  },
  {
   "cell_type": "code",
   "execution_count": null,
   "id": "27913782",
   "metadata": {},
   "outputs": [
    {
     "ename": "TypeError",
     "evalue": "can't multiply sequence by non-int of type 'float'",
     "output_type": "error",
     "traceback": [
      "\u001b[31m---------------------------------------------------------------------------\u001b[39m",
      "\u001b[31mTypeError\u001b[39m                                 Traceback (most recent call last)",
      "\u001b[36mCell\u001b[39m\u001b[36m \u001b[39m\u001b[32mIn[13]\u001b[39m\u001b[32m, line 1\u001b[39m\n\u001b[32m----> \u001b[39m\u001b[32m1\u001b[39m \u001b[33;43m\"\u001b[39;49m\u001b[33;43m2\u001b[39;49m\u001b[33;43m\"\u001b[39;49m\u001b[43m*\u001b[49m\u001b[32;43m5.2\u001b[39;49m\n",
      "\u001b[31mTypeError\u001b[39m: can't multiply sequence by non-int of type 'float'"
     ]
    }
   ],
   "source": [
    "# string and float doesn't work\n",
    "\n",
    "\"2\"*5.2"
   ]
  },
  {
   "cell_type": "markdown",
   "id": "b00e19c3",
   "metadata": {},
   "source": [
    "## Polymorhism in class methods"
   ]
  },
  {
   "cell_type": "code",
   "execution_count": 2,
   "id": "90841d70",
   "metadata": {},
   "outputs": [
    {
     "name": "stdout",
     "output_type": "stream",
     "text": [
      "I am a fish and my name is Pelle\n",
      "blupp, blupp, blupp\n",
      "I am a fox and my name is Ylvis. No one knows how I sound\n"
     ]
    }
   ],
   "source": [
    "class Fish:\n",
    "    def __init__(self, name):\n",
    "        self.name = name\n",
    "        \n",
    "    def __str__(self):\n",
    "        return f\"I am a fish and my name is {self.name}\"\n",
    "    \n",
    "    def speak(self):\n",
    "        print(\"blupp, blupp, blupp\")\n",
    "    \n",
    "class Fox:\n",
    "    def __init__(self, name):\n",
    "        self.name = name\n",
    "    \n",
    "    def __str__(self):\n",
    "        return f\"I am a fox and my name is {self.name}. No one knows how I sound\"\n",
    "    \n",
    "    def speak(self):\n",
    "        NotImplemented\n",
    "    \n",
    "animals = (Fish(\"Pelle\"), Fox(\"Ylvis\"))\n",
    "\n",
    "for animal in animals:\n",
    "    print(animal)\n",
    "    animal.speak()"
   ]
  },
  {
   "cell_type": "markdown",
   "id": "a7877c4c",
   "metadata": {},
   "source": [
    "## Operator overloading\n",
    "\n",
    " <table style=\\\"display:inline-block; text-align:left;\\\">\n",
    "      <tr style=\\\"background-color: #174A7E; color: white;\\\">\n",
    "        <th>Operator</th>\n",
    "        <th>Dunder Method</th>\n",
    "      </tr>\n",
    "      <tr>\n",
    "        <td style=\\\"text-align: center;\\\">+</td>\n",
    "        <td style=\\\"text-align: center;\\\">__add__(self, other)</td>\n",
    "      </tr>\n",
    "      <tr>\n",
    "        <td style=\\\"text-align: center;\\\">-</td>\n",
    "        <td style=\\\"text-align: center;\\\">__sub__(self, other)</td>\n",
    "      </tr>\n",
    "      <tr>\n",
    "        <td style=\\\"text-align: center;\\\">*</td>\n",
    "        <td style=\\\"text-align: center;\\\">__mul__(self, other)</td>\n",
    "      </tr>\n",
    "      <tr>\n",
    "        <td style=\\\"text-align: center;\\\">/</td>\n",
    "        <td style=\\\"text-align: center;\\\">__div__(self, other)</td>\n",
    "      </tr>\n",
    "      <tr>\n",
    "        <td style=\\\"text-align: center;\\\">//</td>\n",
    "        <td style=\\\"text-align: center;\\\">__floordiv__(self, other)</td>\n",
    "      </tr>\n",
    "      <tr>\n",
    "        <td style=\\\"text-align: center;\\\">%</td>\n",
    "        <td style=\\\"text-align: center;\\\">__mod__(self, other)</td>\n",
    "      </tr>\n",
    "      <tr>\n",
    "        <td style=\\\"text-align: center;\\\">**</td>\n",
    "        <td style=\\\"text-align: center;\\\">__pow__(self, other)</td>\n",
    "      </tr>\n",
    "      <tr>\n",
    "        <td style=\\\"text-align: center;\\\"><</td>\n",
    "        <td style=\\\"text-align: center;\\\">__lt__(self, other)</td>\n",
    "      </tr>\n",
    "      <tr>\n",
    "        <td style=\\\"text-align: center;\\\"><=</td>\n",
    "        <td style=\\\"text-align: center;\\\">__le__(self, other)</td>\n",
    "      </tr>\n",
    "      <tr>\n",
    "        <td style=\\\"text-align: center;\\\">></td>\n",
    "        <td style=\\\"text-align: center;\\\">__gt__(self, other)</td>\n",
    "      </tr>\n",
    "      <tr>\n",
    "        <td style=\\\"text-align: center;\\\">>=</td>\n",
    "        <td style=\\\"text-align: center;\\\">__ge__(self, other)</td>\n",
    "      </tr>\n",
    "      <tr>\n",
    "        <td style=\\\"text-align: center;\\\">==</td>\n",
    "        <td style=\\\"text-align: center;\\\">__eq__(self, other)</td>\n",
    "      </tr>\n",
    "    </table>"
   ]
  },
  {
   "cell_type": "code",
   "execution_count": null,
   "id": "494e51a1",
   "metadata": {},
   "outputs": [
    {
     "data": {
      "text/plain": [
       "<__main__.Vector at 0x1f923d450a0>"
      ]
     },
     "execution_count": 4,
     "metadata": {},
     "output_type": "execute_result"
    }
   ],
   "source": [
    "import matplotlib.pyplot as plt\n",
    "\n",
    "class Vector:\n",
    "    def __init__(self, *numbers: float) -> None:\n",
    "        for number in numbers:\n",
    "            if not isinstance(number, (float, int)):\n",
    "                raise TypeError(f\"{number} is not a valid number in a vector\")\n",
    "        \n",
    "        if not len(numbers):\n",
    "            raise ValueError(\"Vectors can't be empty\")\n",
    "        \n",
    "        self._numbers = tuple(float(number) for number in numbers)\n",
    "\n",
    "v1 = Vector(1,2,3)\n",
    "v1"
   ]
  },
  {
   "cell_type": "code",
   "execution_count": 6,
   "id": "888542eb",
   "metadata": {},
   "outputs": [
    {
     "data": {
      "text/plain": [
       "(1.0, 2.0, 3.0)"
      ]
     },
     "execution_count": 6,
     "metadata": {},
     "output_type": "execute_result"
    }
   ],
   "source": [
    "# dont do this  \n",
    "\n",
    "v1._numbers"
   ]
  },
  {
   "cell_type": "code",
   "execution_count": 10,
   "id": "caff7343",
   "metadata": {},
   "outputs": [
    {
     "data": {
      "text/plain": [
       "(2.0, 4.0, 5.0)"
      ]
     },
     "execution_count": 10,
     "metadata": {},
     "output_type": "execute_result"
    }
   ],
   "source": [
    "import matplotlib.pyplot as plt\n",
    "\n",
    "class Vector:\n",
    "    def __init__(self, *numbers: float) -> None:\n",
    "        for number in numbers:\n",
    "            if not isinstance(number, (float, int)):\n",
    "                raise TypeError(f\"{number} is not a valid number in a vector\")\n",
    "        \n",
    "        if not len(numbers):\n",
    "            raise ValueError(\"Vectors can't be empty\")\n",
    "        \n",
    "        self._numbers = tuple(float(number) for number in numbers)\n",
    "    \n",
    "    @property\n",
    "    def numbers(self) -> tuple:\n",
    "        return self._numbers\n",
    "\n",
    "v2 = Vector(2,4,5)\n",
    "v2.numbers"
   ]
  },
  {
   "cell_type": "code",
   "execution_count": 12,
   "id": "65199d2a",
   "metadata": {},
   "outputs": [
    {
     "name": "stdout",
     "output_type": "stream",
     "text": [
      "property 'numbers' of 'Vector' object has no setter\n"
     ]
    }
   ],
   "source": [
    "try:\n",
    "    v2.numbers = (1,2)\n",
    "except AttributeError as err:\n",
    "    print(err)"
   ]
  },
  {
   "cell_type": "code",
   "execution_count": 53,
   "id": "483360b1",
   "metadata": {},
   "outputs": [],
   "source": [
    "import matplotlib.pyplot as plt\n",
    "\n",
    "class Vector:\n",
    "    def __init__(self, *numbers: float) -> None:\n",
    "        for number in numbers:\n",
    "            if not isinstance(number, (float, int)):\n",
    "                raise TypeError(f\"{number} is not a valid number in a vector\")\n",
    "        \n",
    "        if not len(numbers):\n",
    "            raise ValueError(\"Vectors can't be empty\")\n",
    "        \n",
    "        self._numbers = tuple(float(number) for number in numbers)\n",
    "    \n",
    "    @property\n",
    "    def numbers(self) -> tuple:\n",
    "        return self._numbers\n",
    "    \n",
    "    def __add__(self, other: Vector) -> Vector:\n",
    "        if self.validate_vectors(other):\n",
    "            numbers = (num1 + num2 for num1, num2 in zip(self.numbers, other.numbers))\n",
    "            return Vector(*numbers)\n",
    "        \n",
    "    def __sub__(self, other: Vector) -> Vector:\n",
    "        if self.validate_vectors(other):\n",
    "            numbers = (num1 - num2 for num1, num2 in zip(self.numbers, other.numbers))\n",
    "            return Vector(*numbers)\n",
    "        \n",
    "    def __mul__(self, value: int | float) -> Vector:\n",
    "        if not isinstance(value, (float, int)):\n",
    "            raise TypeError(f\"The value for multiplication must be int or float not {type(value)}\")\n",
    "        print(\"__mul__ called\")\n",
    "        numbers = (number * value for number in self.numbers)\n",
    "        return Vector(*numbers)\n",
    "    \n",
    "    def __rmul__(self, value: float) -> Vector:\n",
    "        print(\"__rmul__ called\")\n",
    "        return self * value\n",
    "    \n",
    "    def validate_vectors(self, other: Vector) -> bool:\n",
    "        if not isinstance(other, Vector) or len(other) != len(self):\n",
    "            raise TypeError(f\"Both must be Vector and have same length\")\n",
    "        return len(self) == len(other)\n",
    "    \n",
    "    def __len__(self) -> int:\n",
    "        return len(self.numbers)\n",
    "    \n",
    "    def __repr__(self) -> str:\n",
    "        return f\"Vektor{self.numbers}\"\n",
    "    \n",
    "    def __getitem__(self, item: int) -> float:\n",
    "        return self.numbers[item]\n",
    "    \n",
    "    def plot(self, *others: Vector) -> None:\n",
    "        X, Y = [], []\n",
    "        \n",
    "        for vector in tuple(others):\n",
    "            # Validation for 2D\n",
    "            X.append(vector[0])\n",
    "            Y.append(vector[1])\n",
    "\n",
    "        X.append(self[0])\n",
    "        Y.append(self[1])\n",
    "\n",
    "        originX = originY = tuple(0 for _ in range(len(X)))\n",
    "\n",
    "        print(originX)\n",
    "        print(originY)\n",
    "        print(X)\n",
    "        print(Y)\n",
    "\n",
    "\n",
    "        _, ax = plt.subplots(1)\n",
    "\n",
    "        ax.quiver(originX, originY, X, Y, scale_units = \"xy\", angles = \"xy\", scale = 1)\n",
    "        ax.set(\n",
    "            xlabel = \"x\",\n",
    "            ylabel = \"y\",\n",
    "            title = f\"{self}, {others}\",\n",
    "            xlim = (-2, 10),\n",
    "            ylim = (-2, 10)\n",
    "        )\n",
    "        ax.grid()"
   ]
  },
  {
   "cell_type": "code",
   "execution_count": 54,
   "id": "ae7c1955",
   "metadata": {},
   "outputs": [
    {
     "name": "stdout",
     "output_type": "stream",
     "text": [
      "(0, 0, 0)\n",
      "(0, 0, 0)\n",
      "[3.0, 2.0, 5.0]\n",
      "[4.0, 6.0, 10.0]\n"
     ]
    },
    {
     "data": {
      "image/png": "[encoded data removed]",
      "text/plain": [
       "<Figure size 640x480 with 1 Axes>"
      ]
     },
     "metadata": {},
     "output_type": "display_data"
    }
   ],
   "source": [
    "vek2 = Vector(3, 4)\n",
    "vek3 = Vector(2, 6)\n",
    "vek4 = vek2 + vek3\n",
    "\n",
    "vek4.plot(vek2, vek3)"
   ]
  },
  {
   "cell_type": "code",
   "execution_count": null,
   "id": "fb5f567d",
   "metadata": {},
   "outputs": [],
   "source": []
  }
 ],
 "metadata": {
  "kernelspec": {
   "display_name": "python_DE25_Rikard_Oledal",
   "language": "python",
   "name": "python3"
  },
  "language_info": {
   "codemirror_mode": {
    "name": "ipython",
    "version": 3
   },
   "file_extension": ".py",
   "mimetype": "text/x-python",
   "name": "python",
   "nbconvert_exporter": "python",
   "pygments_lexer": "ipython3",
   "version": "3.12.10"
  }
 },
 "nbformat": 4,
 "nbformat_minor": 5
}
