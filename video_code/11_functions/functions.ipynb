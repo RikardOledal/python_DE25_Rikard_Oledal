{
 "cells": [
  {
   "cell_type": "markdown",
   "id": "3c1aa4a4",
   "metadata": {},
   "source": [
    "# functions"
   ]
  },
  {
   "cell_type": "code",
   "execution_count": 34,
   "id": "4c54252e",
   "metadata": {},
   "outputs": [
    {
     "data": {
      "text/plain": [
       "4"
      ]
     },
     "execution_count": 34,
     "metadata": {},
     "output_type": "execute_result"
    }
   ],
   "source": [
    "def squarer(x):\n",
    "    return x**2\n",
    "\n",
    "squarer(2)"
   ]
  },
  {
   "cell_type": "code",
   "execution_count": 35,
   "id": "cceaefde",
   "metadata": {},
   "outputs": [
    {
     "data": {
      "text/plain": [
       "25"
      ]
     },
     "execution_count": 35,
     "metadata": {},
     "output_type": "execute_result"
    }
   ],
   "source": [
    "square_5 = squarer(5)\n",
    "square_5"
   ]
  },
  {
   "cell_type": "code",
   "execution_count": 36,
   "id": "e396c635",
   "metadata": {},
   "outputs": [
    {
     "data": {
      "text/plain": [
       "[0, 1, 4, 9, 16, 25, 36, 49, 64, 81]"
      ]
     },
     "execution_count": 36,
     "metadata": {},
     "output_type": "execute_result"
    }
   ],
   "source": [
    "[squarer(x) for x in range(10)]"
   ]
  },
  {
   "cell_type": "code",
   "execution_count": 37,
   "id": "7b2376dd",
   "metadata": {},
   "outputs": [
    {
     "name": "stdout",
     "output_type": "stream",
     "text": [
      "hi\n"
     ]
    }
   ],
   "source": [
    "def say_hello():\n",
    "    print(\"hi\")\n",
    "\n",
    "say_hello()"
   ]
  },
  {
   "cell_type": "markdown",
   "id": "891ace92",
   "metadata": {},
   "source": [
    "default value"
   ]
  },
  {
   "cell_type": "code",
   "execution_count": 38,
   "id": "2618768a",
   "metadata": {},
   "outputs": [
    {
     "name": "stdout",
     "output_type": "stream",
     "text": [
      "hi friend\n"
     ]
    }
   ],
   "source": [
    "def say_hello(name = \"friend\"):\n",
    "    print(f\"hi {name}\")\n",
    "\n",
    "say_hello()"
   ]
  },
  {
   "cell_type": "code",
   "execution_count": 39,
   "id": "657b7e13",
   "metadata": {},
   "outputs": [
    {
     "name": "stdout",
     "output_type": "stream",
     "text": [
      "hi Louise\n"
     ]
    }
   ],
   "source": [
    "say_hello(\"Louise\")"
   ]
  },
  {
   "cell_type": "code",
   "execution_count": 40,
   "id": "c2d2d0ea",
   "metadata": {},
   "outputs": [
    {
     "data": {
      "text/plain": [
       "(1, -5)"
      ]
     },
     "execution_count": 40,
     "metadata": {},
     "output_type": "execute_result"
    }
   ],
   "source": [
    "def smallest(number1, number2):\n",
    "    if number1 > number2:\n",
    "        return number2\n",
    "    return number1\n",
    "\n",
    "smallest(1,5), smallest(5,-5)"
   ]
  },
  {
   "cell_type": "markdown",
   "id": "afb21e9d",
   "metadata": {},
   "source": [
    "keyword argument"
   ]
  },
  {
   "cell_type": "code",
   "execution_count": 41,
   "id": "7010d1e7",
   "metadata": {},
   "outputs": [
    {
     "data": {
      "text/plain": [
       "7"
      ]
     },
     "execution_count": 41,
     "metadata": {},
     "output_type": "execute_result"
    }
   ],
   "source": [
    "def count_words(text):\n",
    "    words = text.split()\n",
    "    return len(words)\n",
    "\n",
    "count_words(text = \"I stand on the shoulders of giants\")"
   ]
  },
  {
   "cell_type": "markdown",
   "id": "59fdcbf0",
   "metadata": {},
   "source": [
    "arbitrary arguments"
   ]
  },
  {
   "cell_type": "code",
   "execution_count": 42,
   "id": "e3c146c2",
   "metadata": {},
   "outputs": [
    {
     "name": "stdout",
     "output_type": "stream",
     "text": [
      "(1, 25, 5, 89, 6)\n"
     ]
    }
   ],
   "source": [
    "def my_mean(*numbers):\n",
    "    print(numbers)\n",
    "\n",
    "my_mean(1,25,5,89,6)"
   ]
  },
  {
   "cell_type": "code",
   "execution_count": 43,
   "id": "8a932f1a",
   "metadata": {},
   "outputs": [
    {
     "data": {
      "text/plain": [
       "25.2"
      ]
     },
     "execution_count": 43,
     "metadata": {},
     "output_type": "execute_result"
    }
   ],
   "source": [
    "def my_mean(*numbers):\n",
    "    sum_ = 0\n",
    "    for number in numbers:\n",
    "        sum_ += number\n",
    "    return sum_ / len(numbers)\n",
    "\n",
    "my_mean(1,25,5,89,6)"
   ]
  },
  {
   "cell_type": "markdown",
   "id": "be2e2ceb",
   "metadata": {},
   "source": [
    "unpacking arguments"
   ]
  },
  {
   "cell_type": "code",
   "execution_count": 44,
   "id": "a54d8c78",
   "metadata": {},
   "outputs": [
    {
     "name": "stdout",
     "output_type": "stream",
     "text": [
      "hi Louise you are 35 years old\n"
     ]
    }
   ],
   "source": [
    "def say_hello(name, age):\n",
    "    print(f\"hi {name} you are {age} years old\")\n",
    "\n",
    "wife = (\"Louise\", 35)\n",
    "\n",
    "say_hello(*wife)"
   ]
  },
  {
   "cell_type": "markdown",
   "id": "911dcdd8",
   "metadata": {},
   "source": [
    "lambda function inside a function"
   ]
  },
  {
   "cell_type": "code",
   "execution_count": 48,
   "id": "00dda9cd",
   "metadata": {},
   "outputs": [
    {
     "name": "stdout",
     "output_type": "stream",
     "text": [
      "([2005, 2006, 2007, 2008, 2009, 2010, 2011, 2012, 2013, 2014, 2015, 2016, 2017, 2018, 2019, 2020, 2021, 2022, 2023, 2024], [2587, 2546, 2797, 2817, 2857, 2903, 3160, 3398, 4054, 4937, 5812, 6183, 6210, 5704, 7086, 10283, 12852, 14255, 15162, 16447], [6238, 7582, 8807, 10264, 11286, 11905, 12179, 11946, 12253, 12261, 11670, 11529, 12193, 13797, 15994, 18491, 18540, 17818, 17354, 17380])\n"
     ]
    }
   ],
   "source": [
    "def extract_data(filename):\n",
    "    with open(filename, \"r\") as file:\n",
    "        data = file.readlines()\n",
    "        \n",
    "    years, it, economy = data\n",
    "    clean_row = lambda row: [int(item) for item in row.strip().split(\",\")[1:]]\n",
    "\n",
    "    years = clean_row(years)\n",
    "    economy = clean_row(economy)\n",
    "    it = clean_row(it)\n",
    "\n",
    "    return years, it, economy\n",
    "\n",
    "print(extract_data(\"data/students_yh_it_economy.txt\"))"
   ]
  },
  {
   "cell_type": "markdown",
   "id": "e1015a93",
   "metadata": {},
   "source": [
    "variable number of keyword arguments **kwargs"
   ]
  },
  {
   "cell_type": "code",
   "execution_count": 46,
   "id": "d921ffde",
   "metadata": {},
   "outputs": [
    {
     "name": "stdout",
     "output_type": "stream",
     "text": [
      "{'x': 5, 'name': 'Louise', 'type': 'wife'}\n",
      "wife\n"
     ]
    }
   ],
   "source": [
    "def test_kwargs(**kwargs):\n",
    "    print(kwargs)\n",
    "    print(kwargs.get(\"type\"))\n",
    "\n",
    "test_kwargs(x = 5, name = \"Louise\", type = \"wife\")"
   ]
  },
  {
   "cell_type": "code",
   "execution_count": 61,
   "id": "ca20d8f9",
   "metadata": {},
   "outputs": [
    {
     "data": {
      "text/plain": [
       "<Axes: title={'center': 'Numbers of students in IT'}, xlabel='year', ylabel='Number students'>"
      ]
     },
     "execution_count": 61,
     "metadata": {},
     "output_type": "execute_result"
    },
    {
     "data": {
      "image/png": "[encoded data removed]",
      "text/plain": [
       "<Figure size 640x480 with 1 Axes>"
      ]
     },
     "metadata": {},
     "output_type": "display_data"
    }
   ],
   "source": [
    "import matplotlib.pyplot as plt\n",
    "from matplotlib.ticker import MaxNLocator\n",
    "\n",
    "years, it, economy = extract_data(\"data/students_yh_it_economy.txt\")\n",
    "fig, ax = plt.subplots(1)\n",
    "\n",
    "def plot_data(ax, x, y, **options):\n",
    "    ax.plot(x,y,linewidth = options.get(\"linewidth\", 3))\n",
    "    ax.set(\n",
    "        xlabel = options.get(\"xlabel\"),\n",
    "        ylabel = options.get(\"ylabel\"),\n",
    "        title = options.get(\"title\")\n",
    "    )\n",
    "\n",
    "    ax.xaxis.set_major_locator(MaxNLocator(integer = True))\n",
    "    ax.spines[[\"top\", \"right\"]].set_visible(False)\n",
    "\n",
    "    return ax\n",
    "\n",
    "plot_data(ax, x = years, y = it, linewidth = 2, title = \"Numbers of students in IT\", xlabel = \"year\", ylabel = \"Number students\")"
   ]
  },
  {
   "cell_type": "code",
   "execution_count": 63,
   "id": "ea075185",
   "metadata": {},
   "outputs": [
    {
     "data": {
      "text/plain": [
       "<Axes: title={'center': 'Numbers of students in economy'}, xlabel='year', ylabel='Number students'>"
      ]
     },
     "execution_count": 63,
     "metadata": {},
     "output_type": "execute_result"
    },
    {
     "data": {
      "image/png": "[encoded data removed]",
      "text/plain": [
       "<Figure size 640x480 with 1 Axes>"
      ]
     },
     "metadata": {},
     "output_type": "display_data"
    }
   ],
   "source": [
    "fig, ax = plt.subplots(1)\n",
    "\n",
    "plot_data(ax, x = years, y = economy, linewidth = 2, title = \"Numbers of students in economy\", xlabel = \"year\", ylabel = \"Number students\")"
   ]
  },
  {
   "cell_type": "code",
   "execution_count": null,
   "id": "ec4b5658",
   "metadata": {},
   "outputs": [],
   "source": []
  }
 ],
 "metadata": {
  "kernelspec": {
   "display_name": "python_DE25_Rikard_Oledal",
   "language": "python",
   "name": "python3"
  },
  "language_info": {
   "codemirror_mode": {
    "name": "ipython",
    "version": 3
   },
   "file_extension": ".py",
   "mimetype": "text/x-python",
   "name": "python",
   "nbconvert_exporter": "python",
   "pygments_lexer": "ipython3",
   "version": "3.12.10"
  }
 },
 "nbformat": 4,
 "nbformat_minor": 5
}
