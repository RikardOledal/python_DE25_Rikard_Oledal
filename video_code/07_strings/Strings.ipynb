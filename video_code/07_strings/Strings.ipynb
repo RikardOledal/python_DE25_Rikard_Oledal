{
 "cells": [
  {
   "cell_type": "markdown",
   "id": "d7de59f4",
   "metadata": {},
   "source": [
    "# Strings"
   ]
  },
  {
   "cell_type": "code",
   "execution_count": 2,
   "id": "3193d13b",
   "metadata": {},
   "outputs": [
    {
     "data": {
      "text/plain": [
       "'Rikard Oledal'"
      ]
     },
     "execution_count": 2,
     "metadata": {},
     "output_type": "execute_result"
    }
   ],
   "source": [
    "firstname = \"Rikard\"\n",
    "lastname = \"Oledal\"\n",
    "\n",
    "fullname = firstname + \" \" + lastname\n",
    "\n",
    "fullname"
   ]
  },
  {
   "cell_type": "code",
   "execution_count": 4,
   "id": "c4786679",
   "metadata": {},
   "outputs": [
    {
     "data": {
      "text/plain": [
       "'\\nname: Rikard Oledal\\nwork: Rapport Specialist AB\\naddress: Ljungvägen 96\\nphone: 0738394420\\n'"
      ]
     },
     "execution_count": 4,
     "metadata": {},
     "output_type": "execute_result"
    }
   ],
   "source": [
    "work = \"Rapport Specialist AB\"\n",
    "address = \"Ljungvägen 96\"\n",
    "phone = \"0738394420\"\n",
    "\n",
    "contact_details = f\"\"\"\n",
    "name: {fullname}\n",
    "work: {work}\n",
    "address: {address}\n",
    "phone: {phone}\n",
    "\"\"\"\n",
    "\n",
    "contact_details"
   ]
  },
  {
   "cell_type": "code",
   "execution_count": 5,
   "id": "08e30173",
   "metadata": {},
   "outputs": [
    {
     "name": "stdout",
     "output_type": "stream",
     "text": [
      "\n",
      "name: Rikard Oledal\n",
      "work: Rapport Specialist AB\n",
      "address: Ljungvägen 96\n",
      "phone: 0738394420\n",
      "\n"
     ]
    }
   ],
   "source": [
    "print(contact_details)"
   ]
  },
  {
   "cell_type": "code",
   "execution_count": 8,
   "id": "892045e5",
   "metadata": {},
   "outputs": [
    {
     "name": "stdout",
     "output_type": "stream",
     "text": [
      "Weekly meny\n",
      "mo: chili con carne\n",
      "tu: noodles\n",
      "wed: pokebowl\n",
      "thu: pancakes\n",
      "fri: taco\n",
      "\n"
     ]
    }
   ],
   "source": [
    "meny = [\"chili con carne\", \"noodles\", \"pokebowl\", \"pancakes\", \"taco\"]\n",
    "days = [\"mo\", \"tu\", \"wed\", \"thu\", \"fri\"]\n",
    "\n",
    "weekly_meny = \"Weekly meny\\n\"\n",
    "\n",
    "for day, food in zip(days, meny):\n",
    "    weekly_meny += f\"{day}: {food}\\n\"\n",
    "\n",
    "print(weekly_meny)\n",
    "\n"
   ]
  },
  {
   "cell_type": "code",
   "execution_count": 9,
   "id": "78664dc3",
   "metadata": {},
   "outputs": [
    {
     "data": {
      "text/plain": [
       "\"!False - it's funny because it's True\""
      ]
     },
     "execution_count": 9,
     "metadata": {},
     "output_type": "execute_result"
    }
   ],
   "source": [
    "quote = \"!False - it's funny because it's True\"\n",
    "quote"
   ]
  },
  {
   "cell_type": "code",
   "execution_count": null,
   "id": "5213b99c",
   "metadata": {},
   "outputs": [
    {
     "data": {
      "text/plain": [
       "'!'"
      ]
     },
     "execution_count": 10,
     "metadata": {},
     "output_type": "execute_result"
    }
   ],
   "source": [
    "#first letter\n",
    "quote[0]"
   ]
  },
  {
   "cell_type": "code",
   "execution_count": null,
   "id": "acb5ce90",
   "metadata": {},
   "outputs": [
    {
     "data": {
      "text/plain": [
       "'e'"
      ]
     },
     "execution_count": 11,
     "metadata": {},
     "output_type": "execute_result"
    }
   ],
   "source": [
    "#last letter\n",
    "quote[-1]"
   ]
  },
  {
   "cell_type": "code",
   "execution_count": null,
   "id": "c1f1dfa5",
   "metadata": {},
   "outputs": [
    {
     "data": {
      "text/plain": [
       "'!False'"
      ]
     },
     "execution_count": 13,
     "metadata": {},
     "output_type": "execute_result"
    }
   ],
   "source": [
    "#slicer (ex slice after 6th letter)\n",
    "quote[:6]"
   ]
  },
  {
   "cell_type": "code",
   "execution_count": 17,
   "id": "345f03d9",
   "metadata": {},
   "outputs": [
    {
     "data": {
      "text/plain": [
       "\"eurT s'ti esuaceb ynnuf s'ti - eslaF!\""
      ]
     },
     "execution_count": 17,
     "metadata": {},
     "output_type": "execute_result"
    }
   ],
   "source": [
    "#change direction of text\n",
    "quote[::-1]"
   ]
  },
  {
   "cell_type": "code",
   "execution_count": null,
   "id": "46d9521d",
   "metadata": {},
   "outputs": [
    {
     "data": {
      "text/plain": [
       "True"
      ]
     },
     "execution_count": 18,
     "metadata": {},
     "output_type": "execute_result"
    }
   ],
   "source": [
    "# check if palindrome\n",
    "string_to_check = \"anna\"\n",
    "string_to_check[::-1] == string_to_check"
   ]
  },
  {
   "cell_type": "markdown",
   "id": "1c959914",
   "metadata": {},
   "source": [
    "## Splitting and cleaning a string"
   ]
  },
  {
   "cell_type": "code",
   "execution_count": 19,
   "id": "26e23a53",
   "metadata": {},
   "outputs": [
    {
     "data": {
      "text/plain": [
       "['Math', ' biology   ', '    cHeMistry   ', '  PrOgramming']"
      ]
     },
     "execution_count": 19,
     "metadata": {},
     "output_type": "execute_result"
    }
   ],
   "source": [
    "subjects = \"Math, biology   ,    cHeMistry   ,  PrOgramming\"\n",
    "subjects = subjects.split(\",\")\n",
    "subjects"
   ]
  },
  {
   "cell_type": "code",
   "execution_count": 24,
   "id": "0a89b9fd",
   "metadata": {},
   "outputs": [
    {
     "name": "stdout",
     "output_type": "stream",
     "text": [
      "MATH has 4 characters\n",
      "BIOLOGY has 7 characters\n",
      "CHEMISTRY has 9 characters\n",
      "PROGRAMMING has 11 characters\n"
     ]
    }
   ],
   "source": [
    "subjects = [subject.strip().upper() for subject in subjects]\n",
    "for subject in subjects:\n",
    "    print(f\"{subject} has {len(subject)} characters\")"
   ]
  },
  {
   "cell_type": "markdown",
   "id": "ba6a64d8",
   "metadata": {},
   "source": [
    "## RegEx"
   ]
  },
  {
   "cell_type": "code",
   "execution_count": 26,
   "id": "08d888fd",
   "metadata": {},
   "outputs": [
    {
     "data": {
      "text/plain": [
       "['katt', 'hatt']"
      ]
     },
     "execution_count": 26,
     "metadata": {},
     "output_type": "execute_result"
    }
   ],
   "source": [
    "import re\n",
    "\n",
    "text = \"Det var en gång en katt som tog på sig en hatt\"\n",
    "match_list = re.findall(r\".att\", text)\n",
    "\n",
    "match_list\n"
   ]
  },
  {
   "cell_type": "code",
   "execution_count": 27,
   "id": "672c61cf",
   "metadata": {},
   "outputs": [
    {
     "data": {
      "text/plain": [
       "['19950516-2235', '19581212-3213']"
      ]
     },
     "execution_count": 27,
     "metadata": {},
     "output_type": "execute_result"
    }
   ],
   "source": [
    "personal_numbers = \"Ida: 19950516-2235, Berit: 19581212-3213, Ada 050524-1513\"\n",
    "match_long = re.findall(r\"\\d{8}-\\d{4}\", personal_numbers)\n",
    "match_long"
   ]
  },
  {
   "cell_type": "code",
   "execution_count": 28,
   "id": "e502f8aa",
   "metadata": {},
   "outputs": [
    {
     "data": {
      "text/plain": [
       "['950516-2235', '581212-3213', '050524-1513']"
      ]
     },
     "execution_count": 28,
     "metadata": {},
     "output_type": "execute_result"
    }
   ],
   "source": [
    "match_short = re.findall(r\"\\d{6}-\\d{4}\", personal_numbers)\n",
    "match_short"
   ]
  },
  {
   "cell_type": "code",
   "execution_count": null,
   "id": "b54f9302",
   "metadata": {},
   "outputs": [],
   "source": []
  }
 ],
 "metadata": {
  "kernelspec": {
   "display_name": "python_DE25_Rikard_Oledal",
   "language": "python",
   "name": "python3"
  },
  "language_info": {
   "codemirror_mode": {
    "name": "ipython",
    "version": 3
   },
   "file_extension": ".py",
   "mimetype": "text/x-python",
   "name": "python",
   "nbconvert_exporter": "python",
   "pygments_lexer": "ipython3",
   "version": "3.12.10"
  }
 },
 "nbformat": 4,
 "nbformat_minor": 5
}
