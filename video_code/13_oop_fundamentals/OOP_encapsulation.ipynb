{
 "cells": [
  {
   "cell_type": "markdown",
   "id": "96364441",
   "metadata": {},
   "source": [
    "# Encapsulation"
   ]
  },
  {
   "cell_type": "code",
   "execution_count": 1,
   "id": "ab838194",
   "metadata": {},
   "outputs": [
    {
     "data": {
      "text/plain": [
       "Patient(Gore Bord)"
      ]
     },
     "execution_count": 1,
     "metadata": {},
     "output_type": "execute_result"
    }
   ],
   "source": [
    "class Patient:\n",
    "    def __init__(self, name, diagnosis):\n",
    "        self._name = name\n",
    "\n",
    "    def __repr__(self):\n",
    "        return f\"Patient({self._name})\"\n",
    "    \n",
    "patient1 = Patient(\"Gore Bord\", \"migrain\")\n",
    "patient1"
   ]
  },
  {
   "cell_type": "code",
   "execution_count": 2,
   "id": "95f05691",
   "metadata": {},
   "outputs": [
    {
     "ename": "AttributeError",
     "evalue": "'Patient' object has no attribute 'name'",
     "output_type": "error",
     "traceback": [
      "\u001b[31m---------------------------------------------------------------------------\u001b[39m",
      "\u001b[31mAttributeError\u001b[39m                            Traceback (most recent call last)",
      "\u001b[36mCell\u001b[39m\u001b[36m \u001b[39m\u001b[32mIn[2]\u001b[39m\u001b[32m, line 1\u001b[39m\n\u001b[32m----> \u001b[39m\u001b[32m1\u001b[39m \u001b[43mpatient1\u001b[49m\u001b[43m.\u001b[49m\u001b[43mname\u001b[49m\n",
      "\u001b[31mAttributeError\u001b[39m: 'Patient' object has no attribute 'name'"
     ]
    }
   ],
   "source": [
    "patient1.name"
   ]
  },
  {
   "cell_type": "code",
   "execution_count": 3,
   "id": "3b9d7d63",
   "metadata": {},
   "outputs": [
    {
     "data": {
      "text/plain": [
       "'Gore Bord'"
      ]
     },
     "execution_count": 3,
     "metadata": {},
     "output_type": "execute_result"
    }
   ],
   "source": [
    "patient1._name"
   ]
  },
  {
   "cell_type": "code",
   "execution_count": 4,
   "id": "fca997f4",
   "metadata": {},
   "outputs": [
    {
     "data": {
      "text/plain": [
       "Patient(Felix)"
      ]
     },
     "execution_count": 4,
     "metadata": {},
     "output_type": "execute_result"
    }
   ],
   "source": [
    "patient1._name = \"Felix\"\n",
    "patient1"
   ]
  },
  {
   "cell_type": "markdown",
   "id": "15211a31",
   "metadata": {},
   "source": [
    "Name mangling"
   ]
  },
  {
   "cell_type": "code",
   "execution_count": 5,
   "id": "fb19138a",
   "metadata": {},
   "outputs": [
    {
     "data": {
      "text/plain": [
       "Patient(Louise, headache)"
      ]
     },
     "execution_count": 5,
     "metadata": {},
     "output_type": "execute_result"
    }
   ],
   "source": [
    "class Patient:\n",
    "    def __init__(self, name, diagnosis):\n",
    "        self._name = name\n",
    "        self.__diagnosis = diagnosis\n",
    "\n",
    "    def __repr__(self):\n",
    "        return f\"Patient({self._name}, {self.__diagnosis})\"\n",
    "    \n",
    "patient2 = Patient(\"Louise\", \"headache\")\n",
    "patient2"
   ]
  },
  {
   "cell_type": "code",
   "execution_count": 6,
   "id": "0d96bf2e",
   "metadata": {},
   "outputs": [
    {
     "ename": "AttributeError",
     "evalue": "'Patient' object has no attribute '__diagnosis'",
     "output_type": "error",
     "traceback": [
      "\u001b[31m---------------------------------------------------------------------------\u001b[39m",
      "\u001b[31mAttributeError\u001b[39m                            Traceback (most recent call last)",
      "\u001b[36mCell\u001b[39m\u001b[36m \u001b[39m\u001b[32mIn[6]\u001b[39m\u001b[32m, line 1\u001b[39m\n\u001b[32m----> \u001b[39m\u001b[32m1\u001b[39m \u001b[43mpatient2\u001b[49m\u001b[43m.\u001b[49m\u001b[43m__diagnosis\u001b[49m\n",
      "\u001b[31mAttributeError\u001b[39m: 'Patient' object has no attribute '__diagnosis'"
     ]
    }
   ],
   "source": [
    "patient2.__diagnosis"
   ]
  },
  {
   "cell_type": "code",
   "execution_count": 7,
   "id": "9091ac3e",
   "metadata": {},
   "outputs": [
    {
     "data": {
      "text/plain": [
       "{'_name': 'Louise', '_Patient__diagnosis': 'headache'}"
      ]
     },
     "execution_count": 7,
     "metadata": {},
     "output_type": "execute_result"
    }
   ],
   "source": [
    "patient2.__dict__"
   ]
  },
  {
   "cell_type": "code",
   "execution_count": 8,
   "id": "42d3bc68",
   "metadata": {},
   "outputs": [
    {
     "data": {
      "text/plain": [
       "'headache'"
      ]
     },
     "execution_count": 8,
     "metadata": {},
     "output_type": "execute_result"
    }
   ],
   "source": [
    "patient2._Patient__diagnosis"
   ]
  },
  {
   "cell_type": "code",
   "execution_count": 15,
   "id": "2f64f368",
   "metadata": {},
   "outputs": [
    {
     "data": {
      "text/plain": [
       "OldCoinStash(owner = 'Ragnar')"
      ]
     },
     "execution_count": 15,
     "metadata": {},
     "output_type": "execute_result"
    }
   ],
   "source": [
    "class OldCoinStash:\n",
    "    def __init__(self, owner):\n",
    "        self.owner = owner\n",
    "\n",
    "        self._riksdaler = 0\n",
    "        self._skilling = 0\n",
    "\n",
    "    def deposit(self, riksdaler, skilling):\n",
    "        if riksdaler < 0 or skilling < 0:\n",
    "            raise ValueError(f\"You tried to deposit {riksdaler} riksdaler and {skilling} skilling. They have to be positive\")\n",
    "        self._riksdaler += riksdaler\n",
    "        self._skilling += skilling\n",
    "\n",
    "    def __repr__(self):\n",
    "        return f\"OldCoinStash(owner = '{self.owner}')\"\n",
    "\n",
    "stash1 = OldCoinStash(\"Ragnar\")\n",
    "\n",
    "stash1\n"
   ]
  },
  {
   "cell_type": "code",
   "execution_count": 13,
   "id": "166b8765",
   "metadata": {},
   "outputs": [
    {
     "name": "stdout",
     "output_type": "stream",
     "text": [
      "You tried to deposit -5 riksdaler and 2 skilling. They have to be positive\n"
     ]
    }
   ],
   "source": [
    "try:\n",
    "    stash1.deposit(-5, 2)\n",
    "except ValueError as e:\n",
    "    print(e)"
   ]
  },
  {
   "cell_type": "code",
   "execution_count": 16,
   "id": "8fcf9589",
   "metadata": {},
   "outputs": [],
   "source": [
    "stash1.deposit(0,2)"
   ]
  },
  {
   "cell_type": "code",
   "execution_count": 22,
   "id": "4e569b51",
   "metadata": {},
   "outputs": [
    {
     "data": {
      "text/plain": [
       "OldCoinStash(owner = 'Ragnar')"
      ]
     },
     "execution_count": 22,
     "metadata": {},
     "output_type": "execute_result"
    }
   ],
   "source": [
    "class OldCoinStash:\n",
    "    def __init__(self, owner):\n",
    "        self.owner = owner\n",
    "\n",
    "        self._riksdaler = 0\n",
    "        self._skilling = 0\n",
    "\n",
    "    def deposit(self, riksdaler, skilling):\n",
    "        if riksdaler < 0 or skilling < 0:\n",
    "            raise ValueError(f\"You tried to deposit {riksdaler} riksdaler and {skilling} skilling. They have to be positive\")\n",
    "        \n",
    "        self._riksdaler += riksdaler\n",
    "        self._skilling += skilling\n",
    "    \n",
    "    def withdraw(self, riksdaler, skilling):\n",
    "        if riksdaler > self._riksdaler or skilling > self._skilling:\n",
    "            raise ValueError(f\"You can't withdraw more than you have in your stash\")\n",
    "        \n",
    "        self._riksdaler -= riksdaler\n",
    "        self._skilling -= skilling\n",
    "\n",
    "    def check_balance(self):\n",
    "        return f\"Coins in stash: {self._riksdaler} riksdaler, {self._skilling} skilling\"\n",
    "\n",
    "    def __repr__(self):\n",
    "        return f\"OldCoinStash(owner = '{self.owner}')\"\n",
    "\n",
    "stash1 = OldCoinStash(\"Ragnar\")\n",
    "\n",
    "stash1\n"
   ]
  },
  {
   "cell_type": "code",
   "execution_count": 23,
   "id": "87882b37",
   "metadata": {},
   "outputs": [
    {
     "data": {
      "text/plain": [
       "'Coins in stash: 10 riksdaler, 0 skilling'"
      ]
     },
     "execution_count": 23,
     "metadata": {},
     "output_type": "execute_result"
    }
   ],
   "source": [
    "stash1.deposit(10,0)\n",
    "stash1.check_balance()"
   ]
  },
  {
   "cell_type": "code",
   "execution_count": null,
   "id": "af234215",
   "metadata": {},
   "outputs": [],
   "source": []
  }
 ],
 "metadata": {
  "kernelspec": {
   "display_name": "python_DE25_Rikard_Oledal",
   "language": "python",
   "name": "python3"
  },
  "language_info": {
   "codemirror_mode": {
    "name": "ipython",
    "version": 3
   },
   "file_extension": ".py",
   "mimetype": "text/x-python",
   "name": "python",
   "nbconvert_exporter": "python",
   "pygments_lexer": "ipython3",
   "version": "3.12.10"
  }
 },
 "nbformat": 4,
 "nbformat_minor": 5
}
