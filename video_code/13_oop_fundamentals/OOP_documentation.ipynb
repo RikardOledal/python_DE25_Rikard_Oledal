{
 "cells": [],
 "metadata": {
  "kernelspec": {
   "display_name": "python_DE25_Rikard_Oledal",
   "language": "python",
   "name": "python3"
  },
  "language_info": {
   "name": "python",
   "version": "3.12.10"
  }
 },
 "nbformat": 4,
 "nbformat_minor": 5
}
