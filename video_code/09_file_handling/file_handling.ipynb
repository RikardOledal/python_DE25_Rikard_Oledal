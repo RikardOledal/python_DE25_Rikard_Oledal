{
 "cells": [
  {
   "cell_type": "markdown",
   "id": "008b1b24",
   "metadata": {},
   "source": [
    "# File handling"
   ]
  },
  {
   "cell_type": "markdown",
   "id": "04d22849",
   "metadata": {},
   "source": [
    "  If     we     knew what it was      we were doing, it would not be called research,          would it?     - Albert Einstein\n",
    "\n",
    "Time is a drug. Too       much of it kills you.  -  Terry Pratchett\n",
    "\n",
    "\n",
    " An expert is a person who       has made all the mistakes that           can be made in a          very narrow field - Niels Bohr\n",
    "\n",
    "   Everything must be made as simple as possible. But not simpler. - Albert Einstein     \n",
    "\n",
    "\n",
    "  Nothing in life                is to be feared, it is only to be understood. Now is the time to understand more, so that we may fear less. - Marie  Curie  \n",
    "\n",
    "If I have seen further     it is by standing on the shoulders of Giants. - Isaac Newton"
   ]
  }
 ],
 "metadata": {
  "kernelspec": {
   "display_name": "python_DE25_Rikard_Oledal",
   "language": "python",
   "name": "python3"
  },
  "language_info": {
   "name": "python",
   "version": "3.12.10"
  }
 },
 "nbformat": 4,
 "nbformat_minor": 5
}
