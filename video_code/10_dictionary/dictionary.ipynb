{
 "cells": [
  {
   "cell_type": "markdown",
   "id": "ca5326ca",
   "metadata": {},
   "source": [
    "# dictinary"
   ]
  },
  {
   "cell_type": "code",
   "execution_count": 3,
   "id": "cba665b1",
   "metadata": {},
   "outputs": [
    {
     "data": {
      "text/plain": [
       "{'name': 'Rikard',\n",
       " 'age': 43,\n",
       " 'work': 'rapportspecialist',\n",
       " 'pet': 'cat',\n",
       " 'interests': ['brewing', 'choir', 'MS excel']}"
      ]
     },
     "execution_count": 3,
     "metadata": {},
     "output_type": "execute_result"
    }
   ],
   "source": [
    "person = dict(\n",
    "    name = \"Rikard\",\n",
    "    age = 43,\n",
    "    work = \"rapportspecialist\",\n",
    "    pet = \"cat\",\n",
    "    interests = [\"brewing\" , \"choir\" , \"MS excel\"],\n",
    ")\n",
    "\n",
    "person"
   ]
  },
  {
   "cell_type": "code",
   "execution_count": 1,
   "id": "1f553a21",
   "metadata": {},
   "outputs": [
    {
     "data": {
      "text/plain": [
       "{'x': 23, 'y': 43.2}"
      ]
     },
     "execution_count": 1,
     "metadata": {},
     "output_type": "execute_result"
    }
   ],
   "source": [
    "coordinates = {\"x\": 23, \"y\": 43.2}\n",
    "\n",
    "coordinates"
   ]
  },
  {
   "cell_type": "code",
   "execution_count": 4,
   "id": "40865785",
   "metadata": {},
   "outputs": [
    {
     "data": {
      "text/plain": [
       "(dict, dict)"
      ]
     },
     "execution_count": 4,
     "metadata": {},
     "output_type": "execute_result"
    }
   ],
   "source": [
    "type(coordinates), type(person)"
   ]
  },
  {
   "cell_type": "code",
   "execution_count": 5,
   "id": "a721ffbc",
   "metadata": {},
   "outputs": [
    {
     "data": {
      "text/plain": [
       "dict_keys(['name', 'age', 'work', 'pet', 'interests'])"
      ]
     },
     "execution_count": 5,
     "metadata": {},
     "output_type": "execute_result"
    }
   ],
   "source": [
    "person.keys()"
   ]
  },
  {
   "cell_type": "code",
   "execution_count": 6,
   "id": "7c944796",
   "metadata": {},
   "outputs": [
    {
     "data": {
      "text/plain": [
       "dict_values(['Rikard', 43, 'rapportspecialist', 'cat', ['brewing', 'choir', 'MS excel']])"
      ]
     },
     "execution_count": 6,
     "metadata": {},
     "output_type": "execute_result"
    }
   ],
   "source": [
    "person.values()"
   ]
  },
  {
   "cell_type": "code",
   "execution_count": 7,
   "id": "d0ef5f13",
   "metadata": {},
   "outputs": [
    {
     "data": {
      "text/plain": [
       "'Rikard'"
      ]
     },
     "execution_count": 7,
     "metadata": {},
     "output_type": "execute_result"
    }
   ],
   "source": [
    "person[\"name\"]"
   ]
  },
  {
   "cell_type": "code",
   "execution_count": 8,
   "id": "bdd26fcd",
   "metadata": {},
   "outputs": [
    {
     "data": {
      "text/plain": [
       "'cat'"
      ]
     },
     "execution_count": 8,
     "metadata": {},
     "output_type": "execute_result"
    }
   ],
   "source": [
    "person[\"pet\"]"
   ]
  },
  {
   "cell_type": "code",
   "execution_count": 9,
   "id": "d4aa1cc2",
   "metadata": {},
   "outputs": [
    {
     "data": {
      "text/plain": [
       "['brewing', 'choir', 'MS excel']"
      ]
     },
     "execution_count": 9,
     "metadata": {},
     "output_type": "execute_result"
    }
   ],
   "source": [
    "person.get(\"interests\")"
   ]
  },
  {
   "cell_type": "code",
   "execution_count": 10,
   "id": "fd07a86c",
   "metadata": {},
   "outputs": [
    {
     "data": {
      "text/plain": [
       "NoneType"
      ]
     },
     "execution_count": 10,
     "metadata": {},
     "output_type": "execute_result"
    }
   ],
   "source": [
    "type(person.get(\"interest\"))"
   ]
  },
  {
   "cell_type": "code",
   "execution_count": 11,
   "id": "dcf3cb58",
   "metadata": {},
   "outputs": [
    {
     "ename": "SyntaxError",
     "evalue": "unmatched ')' (3354206895.py, line 1)",
     "output_type": "error",
     "traceback": [
      "  \u001b[36mCell\u001b[39m\u001b[36m \u001b[39m\u001b[32mIn[11]\u001b[39m\u001b[32m, line 1\u001b[39m\n\u001b[31m    \u001b[39m\u001b[31mperson.get(\"interest\"))\u001b[39m\n                          ^\n\u001b[31mSyntaxError\u001b[39m\u001b[31m:\u001b[39m unmatched ')'\n"
     ]
    }
   ],
   "source": [
    "person.get(\"interest\"))"
   ]
  },
  {
   "cell_type": "code",
   "execution_count": 12,
   "id": "25fd6132",
   "metadata": {},
   "outputs": [
    {
     "name": "stdout",
     "output_type": "stream",
     "text": [
      "name\n",
      "age\n",
      "work\n",
      "pet\n",
      "interests\n"
     ]
    }
   ],
   "source": [
    "for key in person:\n",
    "    print(key)"
   ]
  },
  {
   "cell_type": "code",
   "execution_count": 13,
   "id": "625c316b",
   "metadata": {},
   "outputs": [
    {
     "name": "stdout",
     "output_type": "stream",
     "text": [
      "name :  Rikard\n",
      "age :  43\n",
      "work :  rapportspecialist\n",
      "pet :  cat\n",
      "interests :  ['brewing', 'choir', 'MS excel']\n"
     ]
    }
   ],
   "source": [
    "for key in person:\n",
    "    print(key, \": \", person[key])"
   ]
  },
  {
   "cell_type": "code",
   "execution_count": 14,
   "id": "967d51b1",
   "metadata": {},
   "outputs": [
    {
     "data": {
      "text/plain": [
       "dict_items([('name', 'Rikard'), ('age', 43), ('work', 'rapportspecialist'), ('pet', 'cat'), ('interests', ['brewing', 'choir', 'MS excel'])])"
      ]
     },
     "execution_count": 14,
     "metadata": {},
     "output_type": "execute_result"
    }
   ],
   "source": [
    "person.items()"
   ]
  },
  {
   "cell_type": "code",
   "execution_count": 17,
   "id": "91aa0e38",
   "metadata": {},
   "outputs": [
    {
     "name": "stdout",
     "output_type": "stream",
     "text": [
      "name            Rikard\n",
      "age             43\n",
      "work            rapportspecialist\n",
      "pet             cat\n",
      "interests       ['brewing', 'choir', 'MS excel']\n"
     ]
    }
   ],
   "source": [
    "for key, value in person.items():\n",
    "    print(f\"{key:<15} {value}\")"
   ]
  },
  {
   "cell_type": "code",
   "execution_count": null,
   "id": "a59ca373",
   "metadata": {},
   "outputs": [],
   "source": []
  }
 ],
 "metadata": {
  "kernelspec": {
   "display_name": "python_DE25_Rikard_Oledal",
   "language": "python",
   "name": "python3"
  },
  "language_info": {
   "codemirror_mode": {
    "name": "ipython",
    "version": 3
   },
   "file_extension": ".py",
   "mimetype": "text/x-python",
   "name": "python",
   "nbconvert_exporter": "python",
   "pygments_lexer": "ipython3",
   "version": "3.12.10"
  }
 },
 "nbformat": 4,
 "nbformat_minor": 5
}
