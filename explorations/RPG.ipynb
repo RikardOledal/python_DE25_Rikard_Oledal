{
 "cells": [
  {
   "cell_type": "code",
   "execution_count": 1,
   "id": "b925f237",
   "metadata": {},
   "outputs": [],
   "source": [
    "\n",
    "# Physical attributes\n",
    "# Strength (Str): Measures raw physical power.\n",
    "# Dexterity (Dex): Measures agility, speed, and stealth.\n",
    "# Constitution (Con): Measures a character's toughness and endurance. \n",
    "\n",
    "# Mental attributes\n",
    "# Intelligence (Int): Measures reasoning and memory.\n",
    "# Wisdom (Wis): Measures perception, insight, and common sense.\n",
    "# Charisma (Cha): Measures force of personality, persuasiveness, and leadership. \n",
    "class Character:\n",
    "    def __init__(self, name=str, race=str, age=int, profession=str, STR=int, DEX=int, CON=int, INT=int, WIS=int, CHA=int):\n",
    "        self.name = name\n",
    "        self.race = race\n",
    "        self.age = age\n",
    "        self.profession = profession\n",
    "        self.attributes = {\n",
    "            \"STR\":STR,\n",
    "            \"DEX\":DEX,\n",
    "            \"CON\":CON,\n",
    "            \"INT\":INT,\n",
    "            \"WIS\":WIS,\n",
    "            \"CHA\":CHA\n",
    "        }\n",
    "\n",
    "    def __repr__(self):\n",
    "        print(f\"name='{self.name}' race='{self.race}' age={self.age} profession='{self.profession}' attributes={self.attributes}\")\n",
    "    \n",
    "    def __str__(self):\n",
    "        return (\n",
    "            f\"Name: {self.name:10} STR: {self.attributes[\"STR\"]}\\n\"\n",
    "            f\"Race: {self.race} \\n\"\n",
    "            f\"Age: {self.age}\"\n",
    "        )\n",
    "            \n",
    "            \n",
    "\n",
    "chr1 = Character(name=\"Legolas\", race=\"Elf\", age=1243, profession=\"Warrior\", STR=8, DEX=16, CON=13, INT=10, WIS=14, CHA=20)"
   ]
  },
  {
   "cell_type": "code",
   "execution_count": 2,
   "id": "e3881abe",
   "metadata": {},
   "outputs": [
    {
     "name": "stdout",
     "output_type": "stream",
     "text": [
      "Name: Legolas    STR: 8\n",
      "Race: Elf \n",
      "Age: 1243\n"
     ]
    }
   ],
   "source": [
    "print(chr1)"
   ]
  },
  {
   "cell_type": "code",
   "execution_count": null,
   "id": "2abfc2a1",
   "metadata": {},
   "outputs": [],
   "source": []
  }
 ],
 "metadata": {
  "kernelspec": {
   "display_name": "python_DE25_Rikard_Oledal",
   "language": "python",
   "name": "python3"
  },
  "language_info": {
   "codemirror_mode": {
    "name": "ipython",
    "version": 3
   },
   "file_extension": ".py",
   "mimetype": "text/x-python",
   "name": "python",
   "nbconvert_exporter": "python",
   "pygments_lexer": "ipython3",
   "version": "3.12.10"
  }
 },
 "nbformat": 4,
 "nbformat_minor": 5
}
